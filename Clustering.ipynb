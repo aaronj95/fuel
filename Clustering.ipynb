{
 "cells": [
  {
   "cell_type": "markdown",
   "metadata": {},
   "source": [
    "# Clustering\n",
    "To determine the distinctive number of formulations present in the dataset"
   ]
  },
  {
   "cell_type": "code",
   "execution_count": 1,
   "metadata": {},
   "outputs": [],
   "source": [
    "#Import standard packages\n",
    "import numpy as np\n",
    "import pandas as pd\n",
    "import os\n",
    "import json\n",
    "import matplotlib\n",
    "import seaborn as sns\n",
    "import matplotlib.pyplot as plt\n",
    "from tqdm import tqdm_notebook\n",
    "%matplotlib inline"
   ]
  },
  {
   "cell_type": "code",
   "execution_count": 2,
   "metadata": {},
   "outputs": [],
   "source": [
    "#Input data\n",
    "df = pd.read_csv('data/ingredient.csv')"
   ]
  },
  {
   "cell_type": "markdown",
   "metadata": {},
   "source": [
    "## Standardization\n",
    "Standard scaler was utilized as the additives have different scales"
   ]
  },
  {
   "cell_type": "code",
   "execution_count": 27,
   "metadata": {},
   "outputs": [
    {
     "data": {
      "text/html": [
       "<div>\n",
       "<style scoped>\n",
       "    .dataframe tbody tr th:only-of-type {\n",
       "        vertical-align: middle;\n",
       "    }\n",
       "\n",
       "    .dataframe tbody tr th {\n",
       "        vertical-align: top;\n",
       "    }\n",
       "\n",
       "    .dataframe thead th {\n",
       "        text-align: right;\n",
       "    }\n",
       "</style>\n",
       "<table border=\"1\" class=\"dataframe\">\n",
       "  <thead>\n",
       "    <tr style=\"text-align: right;\">\n",
       "      <th></th>\n",
       "      <th>a</th>\n",
       "      <th>b</th>\n",
       "      <th>c</th>\n",
       "      <th>d</th>\n",
       "      <th>e</th>\n",
       "      <th>f</th>\n",
       "      <th>g</th>\n",
       "      <th>h</th>\n",
       "      <th>i</th>\n",
       "    </tr>\n",
       "  </thead>\n",
       "  <tbody>\n",
       "    <tr>\n",
       "      <th>0</th>\n",
       "      <td>-0.335149</td>\n",
       "      <td>-0.476069</td>\n",
       "      <td>0.594473</td>\n",
       "      <td>0.492055</td>\n",
       "      <td>0.102319</td>\n",
       "      <td>0.066000</td>\n",
       "      <td>-0.364103</td>\n",
       "      <td>-0.352877</td>\n",
       "      <td>0.133634</td>\n",
       "    </tr>\n",
       "    <tr>\n",
       "      <th>1</th>\n",
       "      <td>4.252673</td>\n",
       "      <td>-3.286943</td>\n",
       "      <td>-1.865511</td>\n",
       "      <td>1.315180</td>\n",
       "      <td>-3.676472</td>\n",
       "      <td>0.127475</td>\n",
       "      <td>3.058855</td>\n",
       "      <td>5.997210</td>\n",
       "      <td>2.293888</td>\n",
       "    </tr>\n",
       "    <tr>\n",
       "      <th>2</th>\n",
       "      <td>1.529685</td>\n",
       "      <td>-0.120107</td>\n",
       "      <td>0.622270</td>\n",
       "      <td>-1.254576</td>\n",
       "      <td>-0.855320</td>\n",
       "      <td>-0.579492</td>\n",
       "      <td>0.854357</td>\n",
       "      <td>-0.352877</td>\n",
       "      <td>-0.277843</td>\n",
       "    </tr>\n",
       "    <tr>\n",
       "      <th>3</th>\n",
       "      <td>-0.226229</td>\n",
       "      <td>-1.040699</td>\n",
       "      <td>0.580575</td>\n",
       "      <td>-0.029927</td>\n",
       "      <td>0.645844</td>\n",
       "      <td>0.112107</td>\n",
       "      <td>-0.293672</td>\n",
       "      <td>-0.352877</td>\n",
       "      <td>-0.586451</td>\n",
       "    </tr>\n",
       "    <tr>\n",
       "      <th>4</th>\n",
       "      <td>-0.077703</td>\n",
       "      <td>0.027188</td>\n",
       "      <td>0.900234</td>\n",
       "      <td>-0.531832</td>\n",
       "      <td>-0.208266</td>\n",
       "      <td>0.127475</td>\n",
       "      <td>-0.568354</td>\n",
       "      <td>-0.352877</td>\n",
       "      <td>-0.586451</td>\n",
       "    </tr>\n",
       "  </tbody>\n",
       "</table>\n",
       "</div>"
      ],
      "text/plain": [
       "          a         b         c         d         e         f         g  \\\n",
       "0 -0.335149 -0.476069  0.594473  0.492055  0.102319  0.066000 -0.364103   \n",
       "1  4.252673 -3.286943 -1.865511  1.315180 -3.676472  0.127475  3.058855   \n",
       "2  1.529685 -0.120107  0.622270 -1.254576 -0.855320 -0.579492  0.854357   \n",
       "3 -0.226229 -1.040699  0.580575 -0.029927  0.645844  0.112107 -0.293672   \n",
       "4 -0.077703  0.027188  0.900234 -0.531832 -0.208266  0.127475 -0.568354   \n",
       "\n",
       "          h         i  \n",
       "0 -0.352877  0.133634  \n",
       "1  5.997210  2.293888  \n",
       "2 -0.352877 -0.277843  \n",
       "3 -0.352877 -0.586451  \n",
       "4 -0.352877 -0.586451  "
      ]
     },
     "execution_count": 27,
     "metadata": {},
     "output_type": "execute_result"
    }
   ],
   "source": [
    "from sklearn import preprocessing\n",
    "# Get column names \n",
    "names = df.columns\n",
    "# Create the Scaler object\n",
    "scaler = preprocessing.StandardScaler()\n",
    "# Fit data on the scaler object\n",
    "scaled_df = scaler.fit_transform(df)\n",
    "scaled_df = pd.DataFrame(scaled_df, columns=names)\n",
    "scaled_df.head()"
   ]
  },
  {
   "cell_type": "markdown",
   "metadata": {},
   "source": [
    "## Principal Component Analysis (PCA)\n",
    "PCA was used to project the dataset into a lower dimension."
   ]
  },
  {
   "cell_type": "code",
   "execution_count": 35,
   "metadata": {},
   "outputs": [],
   "source": [
    "from sklearn.decomposition import PCA as PCA"
   ]
  },
  {
   "cell_type": "code",
   "execution_count": 36,
   "metadata": {},
   "outputs": [
    {
     "data": {
      "image/png": "[encoded data removed]",
      "text/plain": [
       "<Figure size 432x288 with 1 Axes>"
      ]
     },
     "metadata": {
      "needs_background": "light"
     },
     "output_type": "display_data"
    }
   ],
   "source": [
    "#cumulative explained variance ratio as a function of the number of components\n",
    "pca = PCA().fit(scaled_df)\n",
    "plt.plot(np.cumsum(pca.explained_variance_ratio_))\n",
    "plt.xlabel('number of components')\n",
    "plt.ylabel('cumulative explained variance');"
   ]
  },
  {
   "cell_type": "markdown",
   "metadata": {},
   "source": [
    "From the plot above, a 3 component projection explained 80% of the original data. 3 components also enabled 3D visualization which is not an option for higher dimensions. Thus, the 9 component dataset was projected into 3 component whereby the 3 components explained approximately 80% of the structure of the original data."
   ]
  },
  {
   "cell_type": "code",
   "execution_count": 42,
   "metadata": {},
   "outputs": [
    {
     "name": "stdout",
     "output_type": "stream",
     "text": [
      "original shape:    (214, 9)\n",
      "transformed shape: (214, 3)\n"
     ]
    }
   ],
   "source": [
    "#PCA\n",
    "pca = PCA(n_components=3)\n",
    "pca.fit(scaled_df)\n",
    "scaled_pca_df = pca.transform(scaled_df)\n",
    "print(\"original shape:   \", scaled_df.shape)\n",
    "print(\"transformed shape:\", scaled_pca_df.shape)"
   ]
  },
  {
   "cell_type": "markdown",
   "metadata": {},
   "source": [
    "## K-means ##"
   ]
  },
  {
   "cell_type": "code",
   "execution_count": 43,
   "metadata": {},
   "outputs": [],
   "source": [
    "#Import Machine Learning packages\n",
    "from sklearn.cluster import KMeans"
   ]
  },
  {
   "cell_type": "code",
   "execution_count": 47,
   "metadata": {},
   "outputs": [
    {
     "data": {
      "image/png": "[encoded data removed]",
      "text/plain": [
       "<Figure size 576x576 with 1 Axes>"
      ]
     },
     "metadata": {
      "needs_background": "light"
     },
     "output_type": "display_data"
    }
   ],
   "source": [
    "# Elbow Method to find optimal K value\n",
    "distortions = []\n",
    "for i in range(1, 31):\n",
    "    km = KMeans(\n",
    "        n_clusters=i, init='random',\n",
    "        n_init=10, max_iter=300,\n",
    "        tol=1e-04, random_state=0\n",
    "    )\n",
    "    km.fit(scaled_pca_df)\n",
    "    distortions.append(km.inertia_)\n",
    "\n",
    "# plot\n",
    "plt.figure(figsize=(8, 8))\n",
    "plt.plot(range(1, 31), distortions, marker='o')\n",
    "plt.xlabel('Number of clusters')\n",
    "plt.ylabel('Distortion')\n",
    "plt.show()"
   ]
  },
  {
   "cell_type": "markdown",
   "metadata": {},
   "source": [
    "15 is the optimal value for K to be used in K-means clustering as there is negligible gradient decrease after 15. Hence, a K-mean cluster would infer approximately 15 distinctive formulations present in the dataset."
   ]
  },
  {
   "cell_type": "code",
   "execution_count": 56,
   "metadata": {},
   "outputs": [],
   "source": [
    "#K-means clustering\n",
    "kmeans = KMeans(n_clusters=15, init='k-means++', max_iter=300, n_init=10, random_state=0)\n",
    "pred_y_kmeans = kmeans.fit_predict(scaled_pca_df)"
   ]
  },
  {
   "cell_type": "code",
   "execution_count": 50,
   "metadata": {
    "collapsed": true
   },
   "outputs": [
    {
     "data": {
      "text/html": [
       "<div>\n",
       "<style scoped>\n",
       "    .dataframe tbody tr th:only-of-type {\n",
       "        vertical-align: middle;\n",
       "    }\n",
       "\n",
       "    .dataframe tbody tr th {\n",
       "        vertical-align: top;\n",
       "    }\n",
       "\n",
       "    .dataframe thead th {\n",
       "        text-align: right;\n",
       "    }\n",
       "</style>\n",
       "<table border=\"1\" class=\"dataframe\">\n",
       "  <thead>\n",
       "    <tr style=\"text-align: right;\">\n",
       "      <th></th>\n",
       "      <th>0</th>\n",
       "      <th>1</th>\n",
       "      <th>2</th>\n",
       "    </tr>\n",
       "  </thead>\n",
       "  <tbody>\n",
       "    <tr>\n",
       "      <th>0</th>\n",
       "      <td>-0.308817</td>\n",
       "      <td>-0.763162</td>\n",
       "      <td>0.330161</td>\n",
       "    </tr>\n",
       "    <tr>\n",
       "      <th>1</th>\n",
       "      <td>3.640213</td>\n",
       "      <td>6.193445</td>\n",
       "      <td>4.916614</td>\n",
       "    </tr>\n",
       "    <tr>\n",
       "      <th>2</th>\n",
       "      <td>2.251955</td>\n",
       "      <td>0.027974</td>\n",
       "      <td>-0.326257</td>\n",
       "    </tr>\n",
       "    <tr>\n",
       "      <th>3</th>\n",
       "      <td>-0.115094</td>\n",
       "      <td>-1.052939</td>\n",
       "      <td>-0.038677</td>\n",
       "    </tr>\n",
       "    <tr>\n",
       "      <th>4</th>\n",
       "      <td>-0.002301</td>\n",
       "      <td>-1.024473</td>\n",
       "      <td>-0.197132</td>\n",
       "    </tr>\n",
       "    <tr>\n",
       "      <th>5</th>\n",
       "      <td>-0.217094</td>\n",
       "      <td>-1.039467</td>\n",
       "      <td>-0.209766</td>\n",
       "    </tr>\n",
       "    <tr>\n",
       "      <th>6</th>\n",
       "      <td>-0.290267</td>\n",
       "      <td>-1.324008</td>\n",
       "      <td>0.868679</td>\n",
       "    </tr>\n",
       "    <tr>\n",
       "      <th>7</th>\n",
       "      <td>-4.389535</td>\n",
       "      <td>-0.103450</td>\n",
       "      <td>7.987193</td>\n",
       "    </tr>\n",
       "    <tr>\n",
       "      <th>8</th>\n",
       "      <td>-0.022236</td>\n",
       "      <td>-1.162737</td>\n",
       "      <td>-0.450219</td>\n",
       "    </tr>\n",
       "    <tr>\n",
       "      <th>9</th>\n",
       "      <td>1.747116</td>\n",
       "      <td>-0.183207</td>\n",
       "      <td>-0.854250</td>\n",
       "    </tr>\n",
       "    <tr>\n",
       "      <th>10</th>\n",
       "      <td>0.041168</td>\n",
       "      <td>-1.027883</td>\n",
       "      <td>-0.009795</td>\n",
       "    </tr>\n",
       "    <tr>\n",
       "      <th>11</th>\n",
       "      <td>-0.755393</td>\n",
       "      <td>-1.099267</td>\n",
       "      <td>0.497208</td>\n",
       "    </tr>\n",
       "    <tr>\n",
       "      <th>12</th>\n",
       "      <td>0.236221</td>\n",
       "      <td>0.568330</td>\n",
       "      <td>-0.148114</td>\n",
       "    </tr>\n",
       "    <tr>\n",
       "      <th>13</th>\n",
       "      <td>0.337682</td>\n",
       "      <td>-1.291105</td>\n",
       "      <td>-0.076818</td>\n",
       "    </tr>\n",
       "    <tr>\n",
       "      <th>14</th>\n",
       "      <td>0.459257</td>\n",
       "      <td>-0.972072</td>\n",
       "      <td>0.281542</td>\n",
       "    </tr>\n",
       "    <tr>\n",
       "      <th>15</th>\n",
       "      <td>1.010044</td>\n",
       "      <td>0.884078</td>\n",
       "      <td>2.682083</td>\n",
       "    </tr>\n",
       "    <tr>\n",
       "      <th>16</th>\n",
       "      <td>-0.462998</td>\n",
       "      <td>-0.988247</td>\n",
       "      <td>-0.477988</td>\n",
       "    </tr>\n",
       "    <tr>\n",
       "      <th>17</th>\n",
       "      <td>2.351365</td>\n",
       "      <td>1.140198</td>\n",
       "      <td>0.056672</td>\n",
       "    </tr>\n",
       "    <tr>\n",
       "      <th>18</th>\n",
       "      <td>1.115744</td>\n",
       "      <td>0.620439</td>\n",
       "      <td>0.571105</td>\n",
       "    </tr>\n",
       "    <tr>\n",
       "      <th>19</th>\n",
       "      <td>0.015841</td>\n",
       "      <td>-0.957454</td>\n",
       "      <td>-0.112502</td>\n",
       "    </tr>\n",
       "    <tr>\n",
       "      <th>20</th>\n",
       "      <td>0.106061</td>\n",
       "      <td>-0.283082</td>\n",
       "      <td>0.276593</td>\n",
       "    </tr>\n",
       "    <tr>\n",
       "      <th>21</th>\n",
       "      <td>0.213979</td>\n",
       "      <td>-1.065052</td>\n",
       "      <td>-0.202840</td>\n",
       "    </tr>\n",
       "    <tr>\n",
       "      <th>22</th>\n",
       "      <td>-2.104998</td>\n",
       "      <td>2.374043</td>\n",
       "      <td>-0.341106</td>\n",
       "    </tr>\n",
       "    <tr>\n",
       "      <th>23</th>\n",
       "      <td>0.260338</td>\n",
       "      <td>0.548033</td>\n",
       "      <td>0.500163</td>\n",
       "    </tr>\n",
       "    <tr>\n",
       "      <th>24</th>\n",
       "      <td>-4.322873</td>\n",
       "      <td>2.653857</td>\n",
       "      <td>3.962492</td>\n",
       "    </tr>\n",
       "    <tr>\n",
       "      <th>25</th>\n",
       "      <td>-0.142083</td>\n",
       "      <td>-0.961677</td>\n",
       "      <td>-0.117125</td>\n",
       "    </tr>\n",
       "    <tr>\n",
       "      <th>26</th>\n",
       "      <td>-1.074500</td>\n",
       "      <td>-0.964789</td>\n",
       "      <td>0.392823</td>\n",
       "    </tr>\n",
       "    <tr>\n",
       "      <th>27</th>\n",
       "      <td>0.037373</td>\n",
       "      <td>-1.054321</td>\n",
       "      <td>-0.056898</td>\n",
       "    </tr>\n",
       "    <tr>\n",
       "      <th>28</th>\n",
       "      <td>1.695023</td>\n",
       "      <td>2.074146</td>\n",
       "      <td>-1.058422</td>\n",
       "    </tr>\n",
       "    <tr>\n",
       "      <th>29</th>\n",
       "      <td>1.906463</td>\n",
       "      <td>0.185187</td>\n",
       "      <td>-0.608349</td>\n",
       "    </tr>\n",
       "    <tr>\n",
       "      <th>...</th>\n",
       "      <td>...</td>\n",
       "      <td>...</td>\n",
       "      <td>...</td>\n",
       "    </tr>\n",
       "    <tr>\n",
       "      <th>184</th>\n",
       "      <td>-0.120299</td>\n",
       "      <td>-1.221846</td>\n",
       "      <td>-0.624742</td>\n",
       "    </tr>\n",
       "    <tr>\n",
       "      <th>185</th>\n",
       "      <td>-3.282797</td>\n",
       "      <td>-0.041791</td>\n",
       "      <td>-5.165069</td>\n",
       "    </tr>\n",
       "    <tr>\n",
       "      <th>186</th>\n",
       "      <td>1.631076</td>\n",
       "      <td>1.318617</td>\n",
       "      <td>0.129415</td>\n",
       "    </tr>\n",
       "    <tr>\n",
       "      <th>187</th>\n",
       "      <td>-0.734604</td>\n",
       "      <td>-0.922387</td>\n",
       "      <td>-0.539023</td>\n",
       "    </tr>\n",
       "    <tr>\n",
       "      <th>188</th>\n",
       "      <td>0.415149</td>\n",
       "      <td>-0.293287</td>\n",
       "      <td>0.198334</td>\n",
       "    </tr>\n",
       "    <tr>\n",
       "      <th>189</th>\n",
       "      <td>-0.121350</td>\n",
       "      <td>-1.062704</td>\n",
       "      <td>-0.131807</td>\n",
       "    </tr>\n",
       "    <tr>\n",
       "      <th>190</th>\n",
       "      <td>0.081754</td>\n",
       "      <td>-0.966019</td>\n",
       "      <td>-0.036589</td>\n",
       "    </tr>\n",
       "    <tr>\n",
       "      <th>191</th>\n",
       "      <td>0.028627</td>\n",
       "      <td>-0.803704</td>\n",
       "      <td>-0.085669</td>\n",
       "    </tr>\n",
       "    <tr>\n",
       "      <th>192</th>\n",
       "      <td>-2.383835</td>\n",
       "      <td>3.061677</td>\n",
       "      <td>0.090445</td>\n",
       "    </tr>\n",
       "    <tr>\n",
       "      <th>193</th>\n",
       "      <td>-0.867763</td>\n",
       "      <td>-1.078018</td>\n",
       "      <td>-0.643264</td>\n",
       "    </tr>\n",
       "    <tr>\n",
       "      <th>194</th>\n",
       "      <td>-1.680246</td>\n",
       "      <td>3.284823</td>\n",
       "      <td>-0.930349</td>\n",
       "    </tr>\n",
       "    <tr>\n",
       "      <th>195</th>\n",
       "      <td>0.256499</td>\n",
       "      <td>0.639225</td>\n",
       "      <td>-0.718543</td>\n",
       "    </tr>\n",
       "    <tr>\n",
       "      <th>196</th>\n",
       "      <td>0.544544</td>\n",
       "      <td>1.767245</td>\n",
       "      <td>-0.144292</td>\n",
       "    </tr>\n",
       "    <tr>\n",
       "      <th>197</th>\n",
       "      <td>1.884838</td>\n",
       "      <td>-0.296476</td>\n",
       "      <td>0.049091</td>\n",
       "    </tr>\n",
       "    <tr>\n",
       "      <th>198</th>\n",
       "      <td>-0.069086</td>\n",
       "      <td>-1.163904</td>\n",
       "      <td>-0.017405</td>\n",
       "    </tr>\n",
       "    <tr>\n",
       "      <th>199</th>\n",
       "      <td>0.793041</td>\n",
       "      <td>-0.604328</td>\n",
       "      <td>-0.200962</td>\n",
       "    </tr>\n",
       "    <tr>\n",
       "      <th>200</th>\n",
       "      <td>-2.325668</td>\n",
       "      <td>-0.462400</td>\n",
       "      <td>-2.391103</td>\n",
       "    </tr>\n",
       "    <tr>\n",
       "      <th>201</th>\n",
       "      <td>1.786186</td>\n",
       "      <td>0.312752</td>\n",
       "      <td>0.705309</td>\n",
       "    </tr>\n",
       "    <tr>\n",
       "      <th>202</th>\n",
       "      <td>0.205674</td>\n",
       "      <td>-0.999183</td>\n",
       "      <td>0.636027</td>\n",
       "    </tr>\n",
       "    <tr>\n",
       "      <th>203</th>\n",
       "      <td>0.298261</td>\n",
       "      <td>-1.164893</td>\n",
       "      <td>0.324945</td>\n",
       "    </tr>\n",
       "    <tr>\n",
       "      <th>204</th>\n",
       "      <td>-0.020816</td>\n",
       "      <td>-0.321933</td>\n",
       "      <td>-0.109060</td>\n",
       "    </tr>\n",
       "    <tr>\n",
       "      <th>205</th>\n",
       "      <td>-1.377386</td>\n",
       "      <td>-0.870759</td>\n",
       "      <td>1.000981</td>\n",
       "    </tr>\n",
       "    <tr>\n",
       "      <th>206</th>\n",
       "      <td>1.458124</td>\n",
       "      <td>0.098841</td>\n",
       "      <td>-0.486885</td>\n",
       "    </tr>\n",
       "    <tr>\n",
       "      <th>207</th>\n",
       "      <td>-0.702192</td>\n",
       "      <td>-0.751137</td>\n",
       "      <td>0.321325</td>\n",
       "    </tr>\n",
       "    <tr>\n",
       "      <th>208</th>\n",
       "      <td>-0.002281</td>\n",
       "      <td>-0.959298</td>\n",
       "      <td>0.080500</td>\n",
       "    </tr>\n",
       "    <tr>\n",
       "      <th>209</th>\n",
       "      <td>2.004885</td>\n",
       "      <td>-0.363499</td>\n",
       "      <td>0.141928</td>\n",
       "    </tr>\n",
       "    <tr>\n",
       "      <th>210</th>\n",
       "      <td>0.749344</td>\n",
       "      <td>-0.870095</td>\n",
       "      <td>0.982660</td>\n",
       "    </tr>\n",
       "    <tr>\n",
       "      <th>211</th>\n",
       "      <td>0.173458</td>\n",
       "      <td>-1.182440</td>\n",
       "      <td>-0.204006</td>\n",
       "    </tr>\n",
       "    <tr>\n",
       "      <th>212</th>\n",
       "      <td>0.991659</td>\n",
       "      <td>-1.021900</td>\n",
       "      <td>0.828406</td>\n",
       "    </tr>\n",
       "    <tr>\n",
       "      <th>213</th>\n",
       "      <td>-4.432540</td>\n",
       "      <td>-0.168680</td>\n",
       "      <td>7.854282</td>\n",
       "    </tr>\n",
       "  </tbody>\n",
       "</table>\n",
       "<p>214 rows × 3 columns</p>\n",
       "</div>"
      ],
      "text/plain": [
       "            0         1         2\n",
       "0   -0.308817 -0.763162  0.330161\n",
       "1    3.640213  6.193445  4.916614\n",
       "2    2.251955  0.027974 -0.326257\n",
       "3   -0.115094 -1.052939 -0.038677\n",
       "4   -0.002301 -1.024473 -0.197132\n",
       "5   -0.217094 -1.039467 -0.209766\n",
       "6   -0.290267 -1.324008  0.868679\n",
       "7   -4.389535 -0.103450  7.987193\n",
       "8   -0.022236 -1.162737 -0.450219\n",
       "9    1.747116 -0.183207 -0.854250\n",
       "10   0.041168 -1.027883 -0.009795\n",
       "11  -0.755393 -1.099267  0.497208\n",
       "12   0.236221  0.568330 -0.148114\n",
       "13   0.337682 -1.291105 -0.076818\n",
       "14   0.459257 -0.972072  0.281542\n",
       "15   1.010044  0.884078  2.682083\n",
       "16  -0.462998 -0.988247 -0.477988\n",
       "17   2.351365  1.140198  0.056672\n",
       "18   1.115744  0.620439  0.571105\n",
       "19   0.015841 -0.957454 -0.112502\n",
       "20   0.106061 -0.283082  0.276593\n",
       "21   0.213979 -1.065052 -0.202840\n",
       "22  -2.104998  2.374043 -0.341106\n",
       "23   0.260338  0.548033  0.500163\n",
       "24  -4.322873  2.653857  3.962492\n",
       "25  -0.142083 -0.961677 -0.117125\n",
       "26  -1.074500 -0.964789  0.392823\n",
       "27   0.037373 -1.054321 -0.056898\n",
       "28   1.695023  2.074146 -1.058422\n",
       "29   1.906463  0.185187 -0.608349\n",
       "..        ...       ...       ...\n",
       "184 -0.120299 -1.221846 -0.624742\n",
       "185 -3.282797 -0.041791 -5.165069\n",
       "186  1.631076  1.318617  0.129415\n",
       "187 -0.734604 -0.922387 -0.539023\n",
       "188  0.415149 -0.293287  0.198334\n",
       "189 -0.121350 -1.062704 -0.131807\n",
       "190  0.081754 -0.966019 -0.036589\n",
       "191  0.028627 -0.803704 -0.085669\n",
       "192 -2.383835  3.061677  0.090445\n",
       "193 -0.867763 -1.078018 -0.643264\n",
       "194 -1.680246  3.284823 -0.930349\n",
       "195  0.256499  0.639225 -0.718543\n",
       "196  0.544544  1.767245 -0.144292\n",
       "197  1.884838 -0.296476  0.049091\n",
       "198 -0.069086 -1.163904 -0.017405\n",
       "199  0.793041 -0.604328 -0.200962\n",
       "200 -2.325668 -0.462400 -2.391103\n",
       "201  1.786186  0.312752  0.705309\n",
       "202  0.205674 -0.999183  0.636027\n",
       "203  0.298261 -1.164893  0.324945\n",
       "204 -0.020816 -0.321933 -0.109060\n",
       "205 -1.377386 -0.870759  1.000981\n",
       "206  1.458124  0.098841 -0.486885\n",
       "207 -0.702192 -0.751137  0.321325\n",
       "208 -0.002281 -0.959298  0.080500\n",
       "209  2.004885 -0.363499  0.141928\n",
       "210  0.749344 -0.870095  0.982660\n",
       "211  0.173458 -1.182440 -0.204006\n",
       "212  0.991659 -1.021900  0.828406\n",
       "213 -4.432540 -0.168680  7.854282\n",
       "\n",
       "[214 rows x 3 columns]"
      ]
     },
     "execution_count": 50,
     "metadata": {},
     "output_type": "execute_result"
    }
   ],
   "source": [
    "#Create dataframe\n",
    "df_kmeans = pd.DataFrame(scaled_pca_df)\n",
    "df_kmeans"
   ]
  },
  {
   "cell_type": "code",
   "execution_count": 51,
   "metadata": {
    "collapsed": true
   },
   "outputs": [
    {
     "data": {
      "text/html": [
       "<div>\n",
       "<style scoped>\n",
       "    .dataframe tbody tr th:only-of-type {\n",
       "        vertical-align: middle;\n",
       "    }\n",
       "\n",
       "    .dataframe tbody tr th {\n",
       "        vertical-align: top;\n",
       "    }\n",
       "\n",
       "    .dataframe thead th {\n",
       "        text-align: right;\n",
       "    }\n",
       "</style>\n",
       "<table border=\"1\" class=\"dataframe\">\n",
       "  <thead>\n",
       "    <tr style=\"text-align: right;\">\n",
       "      <th></th>\n",
       "      <th>0</th>\n",
       "      <th>1</th>\n",
       "      <th>2</th>\n",
       "      <th>y</th>\n",
       "    </tr>\n",
       "  </thead>\n",
       "  <tbody>\n",
       "    <tr>\n",
       "      <th>0</th>\n",
       "      <td>-0.308817</td>\n",
       "      <td>-0.763162</td>\n",
       "      <td>0.330161</td>\n",
       "      <td>11</td>\n",
       "    </tr>\n",
       "    <tr>\n",
       "      <th>1</th>\n",
       "      <td>3.640213</td>\n",
       "      <td>6.193445</td>\n",
       "      <td>4.916614</td>\n",
       "      <td>10</td>\n",
       "    </tr>\n",
       "    <tr>\n",
       "      <th>2</th>\n",
       "      <td>2.251955</td>\n",
       "      <td>0.027974</td>\n",
       "      <td>-0.326257</td>\n",
       "      <td>3</td>\n",
       "    </tr>\n",
       "    <tr>\n",
       "      <th>3</th>\n",
       "      <td>-0.115094</td>\n",
       "      <td>-1.052939</td>\n",
       "      <td>-0.038677</td>\n",
       "      <td>11</td>\n",
       "    </tr>\n",
       "    <tr>\n",
       "      <th>4</th>\n",
       "      <td>-0.002301</td>\n",
       "      <td>-1.024473</td>\n",
       "      <td>-0.197132</td>\n",
       "      <td>11</td>\n",
       "    </tr>\n",
       "    <tr>\n",
       "      <th>5</th>\n",
       "      <td>-0.217094</td>\n",
       "      <td>-1.039467</td>\n",
       "      <td>-0.209766</td>\n",
       "      <td>11</td>\n",
       "    </tr>\n",
       "    <tr>\n",
       "      <th>6</th>\n",
       "      <td>-0.290267</td>\n",
       "      <td>-1.324008</td>\n",
       "      <td>0.868679</td>\n",
       "      <td>6</td>\n",
       "    </tr>\n",
       "    <tr>\n",
       "      <th>7</th>\n",
       "      <td>-4.389535</td>\n",
       "      <td>-0.103450</td>\n",
       "      <td>7.987193</td>\n",
       "      <td>4</td>\n",
       "    </tr>\n",
       "    <tr>\n",
       "      <th>8</th>\n",
       "      <td>-0.022236</td>\n",
       "      <td>-1.162737</td>\n",
       "      <td>-0.450219</td>\n",
       "      <td>11</td>\n",
       "    </tr>\n",
       "    <tr>\n",
       "      <th>9</th>\n",
       "      <td>1.747116</td>\n",
       "      <td>-0.183207</td>\n",
       "      <td>-0.854250</td>\n",
       "      <td>13</td>\n",
       "    </tr>\n",
       "    <tr>\n",
       "      <th>10</th>\n",
       "      <td>0.041168</td>\n",
       "      <td>-1.027883</td>\n",
       "      <td>-0.009795</td>\n",
       "      <td>11</td>\n",
       "    </tr>\n",
       "    <tr>\n",
       "      <th>11</th>\n",
       "      <td>-0.755393</td>\n",
       "      <td>-1.099267</td>\n",
       "      <td>0.497208</td>\n",
       "      <td>0</td>\n",
       "    </tr>\n",
       "    <tr>\n",
       "      <th>12</th>\n",
       "      <td>0.236221</td>\n",
       "      <td>0.568330</td>\n",
       "      <td>-0.148114</td>\n",
       "      <td>5</td>\n",
       "    </tr>\n",
       "    <tr>\n",
       "      <th>13</th>\n",
       "      <td>0.337682</td>\n",
       "      <td>-1.291105</td>\n",
       "      <td>-0.076818</td>\n",
       "      <td>11</td>\n",
       "    </tr>\n",
       "    <tr>\n",
       "      <th>14</th>\n",
       "      <td>0.459257</td>\n",
       "      <td>-0.972072</td>\n",
       "      <td>0.281542</td>\n",
       "      <td>6</td>\n",
       "    </tr>\n",
       "    <tr>\n",
       "      <th>15</th>\n",
       "      <td>1.010044</td>\n",
       "      <td>0.884078</td>\n",
       "      <td>2.682083</td>\n",
       "      <td>12</td>\n",
       "    </tr>\n",
       "    <tr>\n",
       "      <th>16</th>\n",
       "      <td>-0.462998</td>\n",
       "      <td>-0.988247</td>\n",
       "      <td>-0.477988</td>\n",
       "      <td>11</td>\n",
       "    </tr>\n",
       "    <tr>\n",
       "      <th>17</th>\n",
       "      <td>2.351365</td>\n",
       "      <td>1.140198</td>\n",
       "      <td>0.056672</td>\n",
       "      <td>3</td>\n",
       "    </tr>\n",
       "    <tr>\n",
       "      <th>18</th>\n",
       "      <td>1.115744</td>\n",
       "      <td>0.620439</td>\n",
       "      <td>0.571105</td>\n",
       "      <td>7</td>\n",
       "    </tr>\n",
       "    <tr>\n",
       "      <th>19</th>\n",
       "      <td>0.015841</td>\n",
       "      <td>-0.957454</td>\n",
       "      <td>-0.112502</td>\n",
       "      <td>11</td>\n",
       "    </tr>\n",
       "    <tr>\n",
       "      <th>20</th>\n",
       "      <td>0.106061</td>\n",
       "      <td>-0.283082</td>\n",
       "      <td>0.276593</td>\n",
       "      <td>6</td>\n",
       "    </tr>\n",
       "    <tr>\n",
       "      <th>21</th>\n",
       "      <td>0.213979</td>\n",
       "      <td>-1.065052</td>\n",
       "      <td>-0.202840</td>\n",
       "      <td>11</td>\n",
       "    </tr>\n",
       "    <tr>\n",
       "      <th>22</th>\n",
       "      <td>-2.104998</td>\n",
       "      <td>2.374043</td>\n",
       "      <td>-0.341106</td>\n",
       "      <td>2</td>\n",
       "    </tr>\n",
       "    <tr>\n",
       "      <th>23</th>\n",
       "      <td>0.260338</td>\n",
       "      <td>0.548033</td>\n",
       "      <td>0.500163</td>\n",
       "      <td>5</td>\n",
       "    </tr>\n",
       "    <tr>\n",
       "      <th>24</th>\n",
       "      <td>-4.322873</td>\n",
       "      <td>2.653857</td>\n",
       "      <td>3.962492</td>\n",
       "      <td>9</td>\n",
       "    </tr>\n",
       "    <tr>\n",
       "      <th>25</th>\n",
       "      <td>-0.142083</td>\n",
       "      <td>-0.961677</td>\n",
       "      <td>-0.117125</td>\n",
       "      <td>11</td>\n",
       "    </tr>\n",
       "    <tr>\n",
       "      <th>26</th>\n",
       "      <td>-1.074500</td>\n",
       "      <td>-0.964789</td>\n",
       "      <td>0.392823</td>\n",
       "      <td>0</td>\n",
       "    </tr>\n",
       "    <tr>\n",
       "      <th>27</th>\n",
       "      <td>0.037373</td>\n",
       "      <td>-1.054321</td>\n",
       "      <td>-0.056898</td>\n",
       "      <td>11</td>\n",
       "    </tr>\n",
       "    <tr>\n",
       "      <th>28</th>\n",
       "      <td>1.695023</td>\n",
       "      <td>2.074146</td>\n",
       "      <td>-1.058422</td>\n",
       "      <td>7</td>\n",
       "    </tr>\n",
       "    <tr>\n",
       "      <th>29</th>\n",
       "      <td>1.906463</td>\n",
       "      <td>0.185187</td>\n",
       "      <td>-0.608349</td>\n",
       "      <td>13</td>\n",
       "    </tr>\n",
       "    <tr>\n",
       "      <th>...</th>\n",
       "      <td>...</td>\n",
       "      <td>...</td>\n",
       "      <td>...</td>\n",
       "      <td>...</td>\n",
       "    </tr>\n",
       "    <tr>\n",
       "      <th>184</th>\n",
       "      <td>-0.120299</td>\n",
       "      <td>-1.221846</td>\n",
       "      <td>-0.624742</td>\n",
       "      <td>11</td>\n",
       "    </tr>\n",
       "    <tr>\n",
       "      <th>185</th>\n",
       "      <td>-3.282797</td>\n",
       "      <td>-0.041791</td>\n",
       "      <td>-5.165069</td>\n",
       "      <td>8</td>\n",
       "    </tr>\n",
       "    <tr>\n",
       "      <th>186</th>\n",
       "      <td>1.631076</td>\n",
       "      <td>1.318617</td>\n",
       "      <td>0.129415</td>\n",
       "      <td>7</td>\n",
       "    </tr>\n",
       "    <tr>\n",
       "      <th>187</th>\n",
       "      <td>-0.734604</td>\n",
       "      <td>-0.922387</td>\n",
       "      <td>-0.539023</td>\n",
       "      <td>0</td>\n",
       "    </tr>\n",
       "    <tr>\n",
       "      <th>188</th>\n",
       "      <td>0.415149</td>\n",
       "      <td>-0.293287</td>\n",
       "      <td>0.198334</td>\n",
       "      <td>6</td>\n",
       "    </tr>\n",
       "    <tr>\n",
       "      <th>189</th>\n",
       "      <td>-0.121350</td>\n",
       "      <td>-1.062704</td>\n",
       "      <td>-0.131807</td>\n",
       "      <td>11</td>\n",
       "    </tr>\n",
       "    <tr>\n",
       "      <th>190</th>\n",
       "      <td>0.081754</td>\n",
       "      <td>-0.966019</td>\n",
       "      <td>-0.036589</td>\n",
       "      <td>11</td>\n",
       "    </tr>\n",
       "    <tr>\n",
       "      <th>191</th>\n",
       "      <td>0.028627</td>\n",
       "      <td>-0.803704</td>\n",
       "      <td>-0.085669</td>\n",
       "      <td>11</td>\n",
       "    </tr>\n",
       "    <tr>\n",
       "      <th>192</th>\n",
       "      <td>-2.383835</td>\n",
       "      <td>3.061677</td>\n",
       "      <td>0.090445</td>\n",
       "      <td>2</td>\n",
       "    </tr>\n",
       "    <tr>\n",
       "      <th>193</th>\n",
       "      <td>-0.867763</td>\n",
       "      <td>-1.078018</td>\n",
       "      <td>-0.643264</td>\n",
       "      <td>0</td>\n",
       "    </tr>\n",
       "    <tr>\n",
       "      <th>194</th>\n",
       "      <td>-1.680246</td>\n",
       "      <td>3.284823</td>\n",
       "      <td>-0.930349</td>\n",
       "      <td>2</td>\n",
       "    </tr>\n",
       "    <tr>\n",
       "      <th>195</th>\n",
       "      <td>0.256499</td>\n",
       "      <td>0.639225</td>\n",
       "      <td>-0.718543</td>\n",
       "      <td>5</td>\n",
       "    </tr>\n",
       "    <tr>\n",
       "      <th>196</th>\n",
       "      <td>0.544544</td>\n",
       "      <td>1.767245</td>\n",
       "      <td>-0.144292</td>\n",
       "      <td>7</td>\n",
       "    </tr>\n",
       "    <tr>\n",
       "      <th>197</th>\n",
       "      <td>1.884838</td>\n",
       "      <td>-0.296476</td>\n",
       "      <td>0.049091</td>\n",
       "      <td>3</td>\n",
       "    </tr>\n",
       "    <tr>\n",
       "      <th>198</th>\n",
       "      <td>-0.069086</td>\n",
       "      <td>-1.163904</td>\n",
       "      <td>-0.017405</td>\n",
       "      <td>11</td>\n",
       "    </tr>\n",
       "    <tr>\n",
       "      <th>199</th>\n",
       "      <td>0.793041</td>\n",
       "      <td>-0.604328</td>\n",
       "      <td>-0.200962</td>\n",
       "      <td>13</td>\n",
       "    </tr>\n",
       "    <tr>\n",
       "      <th>200</th>\n",
       "      <td>-2.325668</td>\n",
       "      <td>-0.462400</td>\n",
       "      <td>-2.391103</td>\n",
       "      <td>0</td>\n",
       "    </tr>\n",
       "    <tr>\n",
       "      <th>201</th>\n",
       "      <td>1.786186</td>\n",
       "      <td>0.312752</td>\n",
       "      <td>0.705309</td>\n",
       "      <td>3</td>\n",
       "    </tr>\n",
       "    <tr>\n",
       "      <th>202</th>\n",
       "      <td>0.205674</td>\n",
       "      <td>-0.999183</td>\n",
       "      <td>0.636027</td>\n",
       "      <td>6</td>\n",
       "    </tr>\n",
       "    <tr>\n",
       "      <th>203</th>\n",
       "      <td>0.298261</td>\n",
       "      <td>-1.164893</td>\n",
       "      <td>0.324945</td>\n",
       "      <td>6</td>\n",
       "    </tr>\n",
       "    <tr>\n",
       "      <th>204</th>\n",
       "      <td>-0.020816</td>\n",
       "      <td>-0.321933</td>\n",
       "      <td>-0.109060</td>\n",
       "      <td>11</td>\n",
       "    </tr>\n",
       "    <tr>\n",
       "      <th>205</th>\n",
       "      <td>-1.377386</td>\n",
       "      <td>-0.870759</td>\n",
       "      <td>1.000981</td>\n",
       "      <td>0</td>\n",
       "    </tr>\n",
       "    <tr>\n",
       "      <th>206</th>\n",
       "      <td>1.458124</td>\n",
       "      <td>0.098841</td>\n",
       "      <td>-0.486885</td>\n",
       "      <td>13</td>\n",
       "    </tr>\n",
       "    <tr>\n",
       "      <th>207</th>\n",
       "      <td>-0.702192</td>\n",
       "      <td>-0.751137</td>\n",
       "      <td>0.321325</td>\n",
       "      <td>0</td>\n",
       "    </tr>\n",
       "    <tr>\n",
       "      <th>208</th>\n",
       "      <td>-0.002281</td>\n",
       "      <td>-0.959298</td>\n",
       "      <td>0.080500</td>\n",
       "      <td>11</td>\n",
       "    </tr>\n",
       "    <tr>\n",
       "      <th>209</th>\n",
       "      <td>2.004885</td>\n",
       "      <td>-0.363499</td>\n",
       "      <td>0.141928</td>\n",
       "      <td>3</td>\n",
       "    </tr>\n",
       "    <tr>\n",
       "      <th>210</th>\n",
       "      <td>0.749344</td>\n",
       "      <td>-0.870095</td>\n",
       "      <td>0.982660</td>\n",
       "      <td>6</td>\n",
       "    </tr>\n",
       "    <tr>\n",
       "      <th>211</th>\n",
       "      <td>0.173458</td>\n",
       "      <td>-1.182440</td>\n",
       "      <td>-0.204006</td>\n",
       "      <td>11</td>\n",
       "    </tr>\n",
       "    <tr>\n",
       "      <th>212</th>\n",
       "      <td>0.991659</td>\n",
       "      <td>-1.021900</td>\n",
       "      <td>0.828406</td>\n",
       "      <td>6</td>\n",
       "    </tr>\n",
       "    <tr>\n",
       "      <th>213</th>\n",
       "      <td>-4.432540</td>\n",
       "      <td>-0.168680</td>\n",
       "      <td>7.854282</td>\n",
       "      <td>4</td>\n",
       "    </tr>\n",
       "  </tbody>\n",
       "</table>\n",
       "<p>214 rows × 4 columns</p>\n",
       "</div>"
      ],
      "text/plain": [
       "            0         1         2   y\n",
       "0   -0.308817 -0.763162  0.330161  11\n",
       "1    3.640213  6.193445  4.916614  10\n",
       "2    2.251955  0.027974 -0.326257   3\n",
       "3   -0.115094 -1.052939 -0.038677  11\n",
       "4   -0.002301 -1.024473 -0.197132  11\n",
       "5   -0.217094 -1.039467 -0.209766  11\n",
       "6   -0.290267 -1.324008  0.868679   6\n",
       "7   -4.389535 -0.103450  7.987193   4\n",
       "8   -0.022236 -1.162737 -0.450219  11\n",
       "9    1.747116 -0.183207 -0.854250  13\n",
       "10   0.041168 -1.027883 -0.009795  11\n",
       "11  -0.755393 -1.099267  0.497208   0\n",
       "12   0.236221  0.568330 -0.148114   5\n",
       "13   0.337682 -1.291105 -0.076818  11\n",
       "14   0.459257 -0.972072  0.281542   6\n",
       "15   1.010044  0.884078  2.682083  12\n",
       "16  -0.462998 -0.988247 -0.477988  11\n",
       "17   2.351365  1.140198  0.056672   3\n",
       "18   1.115744  0.620439  0.571105   7\n",
       "19   0.015841 -0.957454 -0.112502  11\n",
       "20   0.106061 -0.283082  0.276593   6\n",
       "21   0.213979 -1.065052 -0.202840  11\n",
       "22  -2.104998  2.374043 -0.341106   2\n",
       "23   0.260338  0.548033  0.500163   5\n",
       "24  -4.322873  2.653857  3.962492   9\n",
       "25  -0.142083 -0.961677 -0.117125  11\n",
       "26  -1.074500 -0.964789  0.392823   0\n",
       "27   0.037373 -1.054321 -0.056898  11\n",
       "28   1.695023  2.074146 -1.058422   7\n",
       "29   1.906463  0.185187 -0.608349  13\n",
       "..        ...       ...       ...  ..\n",
       "184 -0.120299 -1.221846 -0.624742  11\n",
       "185 -3.282797 -0.041791 -5.165069   8\n",
       "186  1.631076  1.318617  0.129415   7\n",
       "187 -0.734604 -0.922387 -0.539023   0\n",
       "188  0.415149 -0.293287  0.198334   6\n",
       "189 -0.121350 -1.062704 -0.131807  11\n",
       "190  0.081754 -0.966019 -0.036589  11\n",
       "191  0.028627 -0.803704 -0.085669  11\n",
       "192 -2.383835  3.061677  0.090445   2\n",
       "193 -0.867763 -1.078018 -0.643264   0\n",
       "194 -1.680246  3.284823 -0.930349   2\n",
       "195  0.256499  0.639225 -0.718543   5\n",
       "196  0.544544  1.767245 -0.144292   7\n",
       "197  1.884838 -0.296476  0.049091   3\n",
       "198 -0.069086 -1.163904 -0.017405  11\n",
       "199  0.793041 -0.604328 -0.200962  13\n",
       "200 -2.325668 -0.462400 -2.391103   0\n",
       "201  1.786186  0.312752  0.705309   3\n",
       "202  0.205674 -0.999183  0.636027   6\n",
       "203  0.298261 -1.164893  0.324945   6\n",
       "204 -0.020816 -0.321933 -0.109060  11\n",
       "205 -1.377386 -0.870759  1.000981   0\n",
       "206  1.458124  0.098841 -0.486885  13\n",
       "207 -0.702192 -0.751137  0.321325   0\n",
       "208 -0.002281 -0.959298  0.080500  11\n",
       "209  2.004885 -0.363499  0.141928   3\n",
       "210  0.749344 -0.870095  0.982660   6\n",
       "211  0.173458 -1.182440 -0.204006  11\n",
       "212  0.991659 -1.021900  0.828406   6\n",
       "213 -4.432540 -0.168680  7.854282   4\n",
       "\n",
       "[214 rows x 4 columns]"
      ]
     },
     "execution_count": 51,
     "metadata": {},
     "output_type": "execute_result"
    }
   ],
   "source": [
    "#Append kmean cluster predictions into dataframe\n",
    "df_kmeans['y'] = pred_y_kmeans\n",
    "df_kmeans"
   ]
  },
  {
   "cell_type": "code",
   "execution_count": 59,
   "metadata": {},
   "outputs": [
    {
     "data": {
      "application/vnd.plotly.v1+json": {
       "config": {
        "plotlyServerURL": "https://plot.ly"
       },
       "data": [
        {
         "hoverlabel": {
          "namelength": 0
         },
         "hovertemplate": "y=%{marker.color}<br>0=%{x}<br>1=%{y}<br>2=%{z}",
         "legendgroup": "y=11",
         "marker": {
          "color": [
           11,
           11,
           11,
           11,
           11,
           11,
           11,
           11,
           11,
           11,
           11,
           11,
           11,
           11,
           11,
           11,
           11,
           11,
           11,
           11,
           11,
           11,
           11,
           11,
           11,
           11,
           11,
           11,
           11,
           11,
           11,
           11,
           11,
           11,
           11,
           11,
           11,
           11,
           11,
           11,
           11,
           11,
           11,
           11,
           11,
           11,
           11,
           11,
           11,
           11,
           11,
           11,
           11,
           11
          ],
          "coloraxis": "coloraxis",
          "opacity": 0.7,
          "size": [
           11,
           11,
           11,
           11,
           11,
           11,
           11,
           11,
           11,
           11,
           11,
           11,
           11,
           11,
           11,
           11,
           11,
           11,
           11,
           11,
           11,
           11,
           11,
           11,
           11,
           11,
           11,
           11,
           11,
           11,
           11,
           11,
           11,
           11,
           11,
           11,
           11,
           11,
           11,
           11,
           11,
           11,
           11,
           11,
           11,
           11,
           11,
           11,
           11,
           11,
           11,
           11,
           11,
           11
          ],
          "sizemode": "area",
          "sizeref": 0.043209876543209874,
          "symbol": "circle"
         },
         "mode": "markers",
         "name": "y=11",
         "scene": "scene",
         "showlegend": true,
         "type": "scatter3d",
         "x": [
          -0.3088170222296622,
          -0.11509363313884213,
          -0.002301063789717664,
          -0.2170937790968996,
          -0.02223634327810462,
          0.041167929749512173,
          0.3376822861547516,
          -0.46299774797587034,
          0.015840562422580425,
          0.2139788015551609,
          -0.1420832833924684,
          0.037373085524678926,
          -0.2774488186936972,
          -0.11525502275373001,
          -0.16686463533200932,
          0.09464075308562032,
          -0.0819412962028652,
          -0.30679637819247396,
          -0.38891864021987843,
          0.18136104634161732,
          -0.1335830223192562,
          -0.25267144365567856,
          0.17180489501149987,
          -0.44718318014189784,
          -0.06583749152788006,
          -0.2626254628666209,
          0.25920902866479795,
          0.0173653764107111,
          -0.32724242014986016,
          0.25742280936634604,
          -0.013353867493487636,
          -0.09910424485404007,
          0.027043095310118705,
          0.11596517683603709,
          0.45730687083450866,
          -0.14752336572345226,
          -0.12053674539204963,
          -0.15577397988498115,
          -0.05048652181362962,
          0.09333543627971237,
          0.10616045108297949,
          -0.11320601235710911,
          0.3931115906158465,
          -0.351092290842097,
          -0.002352228942058071,
          -0.0899566627690065,
          -0.12029946591444676,
          -0.12135003313227434,
          0.08175377249554798,
          0.028627200166173795,
          -0.06908627337474725,
          -0.020816030812831406,
          -0.0022807390005490286,
          0.1734583203470178
         ],
         "y": [
          -0.7631621565000513,
          -1.052939359968979,
          -1.0244734591844453,
          -1.0394671751751798,
          -1.162737445971399,
          -1.0278833800859914,
          -1.2911046263379196,
          -0.9882472872845995,
          -0.9574540617947391,
          -1.0650516895572062,
          -0.9616774397522369,
          -1.0543206219272803,
          -1.0102875834961644,
          -1.1602821169254314,
          -0.9654064702289284,
          -0.45616462900341254,
          -0.34355568108961154,
          -0.964066395144502,
          -1.0097800358717262,
          -0.4099578964318332,
          -0.41199863782146184,
          -1.1161495765227496,
          -0.5102877859027175,
          -0.9574216742802379,
          -0.9028758387526317,
          -0.7717490681457178,
          -1.0184562154038685,
          -1.1009316701240337,
          -1.1023619688102957,
          -0.09893604419796832,
          -1.1047191296229946,
          -0.7468069212809658,
          -0.941150867525133,
          -0.7379703484312669,
          -0.5519113998704465,
          -0.933767048768759,
          -1.0157421467303982,
          -0.7381495456652748,
          -1.0472307478090277,
          -0.7975136500287082,
          -0.41450603758689464,
          -1.0276218101882204,
          -0.3402581874762733,
          -1.091249212520997,
          -1.065813437325055,
          -1.1812521059004135,
          -1.2218462225075224,
          -1.062703669817351,
          -0.9660194287459594,
          -0.8037043651500935,
          -1.163904213512538,
          -0.32193260902585435,
          -0.9592975916118833,
          -1.1824396659894638
         ],
         "z": [
          0.33016111719227337,
          -0.03867674477899022,
          -0.19713224372485857,
          -0.20976636788923408,
          -0.45021920385270625,
          -0.009795153836293787,
          -0.07681809976116104,
          -0.4779884341389886,
          -0.11250176212066111,
          -0.20284002874514043,
          -0.11712468513338545,
          -0.05689828654802847,
          -0.38136522291220376,
          -0.33402100178849176,
          0.12880038743702282,
          0.07639060125358701,
          0.23309119948091364,
          -0.2747724991448546,
          -0.35388572732595397,
          -0.23869078690463078,
          -0.03079847564447466,
          -0.5406378535308115,
          -0.13677079567162928,
          -0.3362515272561106,
          -0.17636244889900293,
          -0.3208467619361074,
          0.024940649572551044,
          -0.27527210204313796,
          -0.5322369593535026,
          0.0513381813134938,
          -0.1448009907332772,
          -0.1576444177649924,
          0.015455915560984771,
          -1.0069651605698444,
          -0.8369545819522288,
          -0.5181845247499223,
          -0.33817687874044633,
          -0.028878115844008095,
          -0.21304799946912928,
          0.04129437939868341,
          -0.43737557136814237,
          -0.08620674459449926,
          0.03878300336531182,
          -0.4850786933591569,
          0.12085502633898436,
          -0.21553894862442496,
          -0.6247422416006776,
          -0.13180674074320764,
          -0.03658879028477824,
          -0.08566870238436909,
          -0.017404921881961397,
          -0.10905968084432105,
          0.08049963623464698,
          -0.20400597383243663
         ]
        },
        {
         "hoverlabel": {
          "namelength": 0
         },
         "hovertemplate": "y=%{marker.color}<br>0=%{x}<br>1=%{y}<br>2=%{z}",
         "legendgroup": "y=10",
         "marker": {
          "color": [
           10
          ],
          "coloraxis": "coloraxis",
          "opacity": 0.7,
          "size": [
           10
          ],
          "sizemode": "area",
          "sizeref": 0.043209876543209874,
          "symbol": "diamond"
         },
         "mode": "markers",
         "name": "y=10",
         "scene": "scene",
         "showlegend": true,
         "type": "scatter3d",
         "x": [
          3.640213362873391
         ],
         "y": [
          6.193444646287058
         ],
         "z": [
          4.916613746520015
         ]
        },
        {
         "hoverlabel": {
          "namelength": 0
         },
         "hovertemplate": "y=%{marker.color}<br>0=%{x}<br>1=%{y}<br>2=%{z}",
         "legendgroup": "y=3",
         "marker": {
          "color": [
           3,
           3,
           3,
           3,
           3,
           3,
           3,
           3,
           3,
           3,
           3,
           3
          ],
          "coloraxis": "coloraxis",
          "opacity": 0.7,
          "size": [
           3,
           3,
           3,
           3,
           3,
           3,
           3,
           3,
           3,
           3,
           3,
           3
          ],
          "sizemode": "area",
          "sizeref": 0.043209876543209874,
          "symbol": "square"
         },
         "mode": "markers",
         "name": "y=3",
         "scene": "scene",
         "showlegend": true,
         "type": "scatter3d",
         "x": [
          2.2519553634338156,
          2.3513646945188555,
          2.0728116145990514,
          2.7272109506326228,
          2.9713615893381053,
          2.0953586566569866,
          2.1932770349034483,
          1.803376430120824,
          2.065744797986416,
          1.884838029019131,
          1.78618611423198,
          2.0048848033453774
         ],
         "y": [
          0.02797397734543549,
          1.1401984649729393,
          -0.19367388050403603,
          -0.11303857687532651,
          0.4631405016883561,
          -0.4270138743669019,
          -0.1601947155279008,
          0.5287277027713393,
          -0.44708532416241725,
          -0.2964756997941312,
          0.31275188772148976,
          -0.36349865639869117
         ],
         "z": [
          -0.3262570027200763,
          0.056671878421601485,
          -0.39731249269014873,
          -0.2259278446917749,
          -0.26170673133328204,
          0.13221736174255327,
          0.7746842463901543,
          0.6940613872936388,
          0.07285555747873429,
          0.049091271613974426,
          0.7053088320242599,
          0.14192835848841498
         ]
        },
        {
         "hoverlabel": {
          "namelength": 0
         },
         "hovertemplate": "y=%{marker.color}<br>0=%{x}<br>1=%{y}<br>2=%{z}",
         "legendgroup": "y=6",
         "marker": {
          "color": [
           6,
           6,
           6,
           6,
           6,
           6,
           6,
           6,
           6,
           6,
           6,
           6,
           6,
           6,
           6,
           6,
           6,
           6,
           6,
           6,
           6,
           6,
           6,
           6,
           6,
           6,
           6,
           6,
           6,
           6,
           6,
           6,
           6,
           6
          ],
          "coloraxis": "coloraxis",
          "opacity": 0.7,
          "size": [
           6,
           6,
           6,
           6,
           6,
           6,
           6,
           6,
           6,
           6,
           6,
           6,
           6,
           6,
           6,
           6,
           6,
           6,
           6,
           6,
           6,
           6,
           6,
           6,
           6,
           6,
           6,
           6,
           6,
           6,
           6,
           6,
           6,
           6
          ],
          "sizemode": "area",
          "sizeref": 0.043209876543209874,
          "symbol": "x"
         },
         "mode": "markers",
         "name": "y=6",
         "scene": "scene",
         "showlegend": true,
         "type": "scatter3d",
         "x": [
          -0.29026658274666867,
          0.4592567672808172,
          0.10606132163525618,
          -0.3825149365370392,
          0.18671404561659768,
          0.3026396236431611,
          -0.30972438982175404,
          -0.32595238414343153,
          0.6044233952267375,
          0.4790613182040753,
          0.6144437584180186,
          -0.07237032773088503,
          0.7230688834324541,
          -0.3158007638888974,
          0.613895376433817,
          0.7552389092240126,
          0.9042867196204263,
          -0.022647912765292752,
          0.27274643843546403,
          0.9684257757700816,
          -0.07090076237397956,
          -0.06255117683769988,
          0.09431641208158462,
          0.3965861124629995,
          0.3239845108789795,
          -0.4231983763243721,
          0.07700009550944423,
          0.1565210134482324,
          -0.06311384555677282,
          0.4151490700503017,
          0.20567387864005765,
          0.29826145077127847,
          0.749344065344669,
          0.9916588012245886
         ],
         "y": [
          -1.324007562347247,
          -0.9720717897267696,
          -0.28308185020446525,
          -1.3801340262807433,
          -0.8888090193921805,
          -1.0441015941818457,
          -1.4230402352285016,
          -1.1613144527053596,
          -0.7801998493041624,
          -1.0089779543982313,
          -1.0915628756017637,
          -0.5166630860439818,
          -0.4748919270001946,
          -0.7531698644702158,
          -1.4023415330494837,
          -1.1943019338653702,
          -0.8981876881088497,
          -0.8103490808602453,
          -0.7608509300960596,
          -1.1489633408047304,
          -1.3012025180787306,
          -1.2208627614887289,
          -0.6450113771010243,
          -1.07307342994506,
          -0.9151704621831115,
          -1.8165560337395845,
          -0.2789690063213613,
          -1.2359282316192035,
          -1.0908051819160944,
          -0.29328726383727705,
          -0.9991826606809826,
          -1.1648932834674224,
          -0.870094722601824,
          -1.0218999948208045
         ],
         "z": [
          0.8686786184332007,
          0.2815416354668001,
          0.2765932088927381,
          0.6895243122284895,
          0.4057164218578612,
          0.4121103858637582,
          0.48606370201626514,
          0.6810003565901137,
          0.24974933562904136,
          0.14636427374415362,
          0.8717692642238939,
          0.4752723327638654,
          0.4249702896713199,
          0.801283239131946,
          0.4596840113415565,
          0.7743265152016452,
          0.511568576485014,
          0.43059006273171563,
          0.6443149031823414,
          1.1392228739145787,
          0.21592375579535986,
          0.7362732074703966,
          0.7063130095311426,
          0.4986357407409786,
          0.22717187911297587,
          0.4533905930888875,
          0.6379340843269671,
          0.13970672868778922,
          0.9496793209207872,
          0.1983335629533555,
          0.6360268535801369,
          0.32494521779220925,
          0.9826602970438849,
          0.8284056913378761
         ]
        },
        {
         "hoverlabel": {
          "namelength": 0
         },
         "hovertemplate": "y=%{marker.color}<br>0=%{x}<br>1=%{y}<br>2=%{z}",
         "legendgroup": "y=4",
         "marker": {
          "color": [
           4,
           4
          ],
          "coloraxis": "coloraxis",
          "opacity": 0.7,
          "size": [
           4,
           4
          ],
          "sizemode": "area",
          "sizeref": 0.043209876543209874,
          "symbol": "cross"
         },
         "mode": "markers",
         "name": "y=4",
         "scene": "scene",
         "showlegend": true,
         "type": "scatter3d",
         "x": [
          -4.389534604456361,
          -4.432539734294783
         ],
         "y": [
          -0.1034495767131333,
          -0.1686801248497945
         ],
         "z": [
          7.987193311633944,
          7.854282197282845
         ]
        },
        {
         "hoverlabel": {
          "namelength": 0
         },
         "hovertemplate": "y=%{marker.color}<br>0=%{x}<br>1=%{y}<br>2=%{z}",
         "legendgroup": "y=13",
         "marker": {
          "color": [
           13,
           13,
           13,
           13,
           13,
           13,
           13,
           13,
           13,
           13,
           13,
           13,
           13,
           13,
           13,
           13,
           13
          ],
          "coloraxis": "coloraxis",
          "opacity": 0.7,
          "size": [
           13,
           13,
           13,
           13,
           13,
           13,
           13,
           13,
           13,
           13,
           13,
           13,
           13,
           13,
           13,
           13,
           13
          ],
          "sizemode": "area",
          "sizeref": 0.043209876543209874,
          "symbol": "circle"
         },
         "mode": "markers",
         "name": "y=13",
         "scene": "scene",
         "showlegend": true,
         "type": "scatter3d",
         "x": [
          1.747115683393762,
          1.906463241006485,
          1.15113957114193,
          1.2070991363580996,
          1.5291292740752536,
          1.218978230140321,
          0.9835047597987604,
          0.5473162665676244,
          1.9078464912792725,
          1.2160534522663493,
          0.5954388798831948,
          1.9331124452716963,
          1.067098744814663,
          1.7673901193701944,
          1.9331124452716963,
          0.7930410282783164,
          1.4581237218335599
         ],
         "y": [
          -0.1832065678831476,
          0.18518682489148836,
          -0.5294876379900553,
          -0.016816602227801333,
          0.05442401282212492,
          -0.6733728003092506,
          -1.020108474525038,
          -0.29566013008330194,
          -0.1351462180000804,
          -0.4368961079710676,
          -0.9544228534771635,
          -0.1421142977118125,
          -0.07143349891062391,
          -0.23485117196728164,
          -0.1421142977118125,
          -0.6043282695479844,
          0.09884137804996784
         ],
         "z": [
          -0.8542496328080511,
          -0.6083485262220392,
          -0.3720956548970038,
          -0.4650910715357975,
          -0.7632333432067084,
          -0.34695475633086365,
          -0.4843445941190465,
          -0.702935509139133,
          -0.5151279429668306,
          -1.6576307759405604,
          -1.4911589220080153,
          -0.9733330659549609,
          0.05664306626344465,
          -0.22282130798470456,
          -0.9733330659549609,
          -0.20096151314069374,
          -0.48688504626042295
         ]
        },
        {
         "hoverlabel": {
          "namelength": 0
         },
         "hovertemplate": "y=%{marker.color}<br>0=%{x}<br>1=%{y}<br>2=%{z}",
         "legendgroup": "y=0",
         "marker": {
          "color": [
           0,
           0,
           0,
           0,
           0,
           0,
           0,
           0,
           0,
           0,
           0,
           0,
           0,
           0,
           0,
           0,
           0,
           0,
           0,
           0,
           0,
           0,
           0,
           0,
           0,
           0,
           0,
           0,
           0,
           0,
           0,
           0,
           0,
           0,
           0,
           0
          ],
          "coloraxis": "coloraxis",
          "opacity": 0.7,
          "size": [
           0,
           0,
           0,
           0,
           0,
           0,
           0,
           0,
           0,
           0,
           0,
           0,
           0,
           0,
           0,
           0,
           0,
           0,
           0,
           0,
           0,
           0,
           0,
           0,
           0,
           0,
           0,
           0,
           0,
           0,
           0,
           0,
           0,
           0,
           0,
           0
          ],
          "sizemode": "area",
          "sizeref": 0.043209876543209874,
          "symbol": "diamond"
         },
         "mode": "markers",
         "name": "y=0",
         "scene": "scene",
         "showlegend": true,
         "type": "scatter3d",
         "x": [
          -0.7553927799161607,
          -1.074500349050363,
          -2.3163760641409965,
          -0.6583287710910447,
          -0.5413218037924322,
          -0.8349746054226019,
          -0.9350687613295068,
          -0.9091896652187345,
          -0.6903591451513094,
          -0.49242980743633413,
          -0.5720103132650246,
          -0.6514041263222521,
          -0.6195276169695904,
          -0.5356573513597868,
          -1.1106297127640337,
          -0.6509035331651029,
          -0.8780410729034668,
          -0.7662263272662806,
          -0.5626421203489971,
          -0.5741371723869616,
          -0.7748318208001415,
          -0.6552475599847014,
          -0.9225622900272772,
          -0.6850886153339977,
          -0.7814154568230062,
          -0.5363041184157588,
          -1.213697993587351,
          -0.6886452499197155,
          -0.8813335564729775,
          -0.6541094813720745,
          -0.94015972212189,
          -0.7346040262365336,
          -0.8677634879508845,
          -2.325668234298763,
          -1.377385564930416,
          -0.7021917538246155
         ],
         "y": [
          -1.0992666295786988,
          -0.9647887039894227,
          -0.5739824610406633,
          -0.7807304580273599,
          -1.031380057675838,
          -0.5236907162416906,
          -1.2039456236268777,
          -1.1389998543348445,
          -1.0662993095399247,
          -0.9562419606646673,
          -0.9280417639308772,
          -1.1164724155786983,
          -0.8770619099063398,
          -1.0697841748080994,
          -0.3604591909501622,
          -1.0642460845074617,
          -1.2089292108142737,
          -1.2191868302577138,
          -1.065810424605698,
          -0.759787774319149,
          -1.0814543865231698,
          -1.1430325523312188,
          -1.1969292846275887,
          -0.8416398916317706,
          -0.641887105399677,
          -0.9234788602024551,
          -0.7790981552267554,
          -0.8445446696648509,
          -0.9723130679646457,
          -0.7109027359308906,
          -0.9298359655532504,
          -0.9223869039833842,
          -1.0780181289665045,
          -0.4624003285180972,
          -0.8707592969808307,
          -0.751136991699099
         ],
         "z": [
          0.497207681016397,
          0.3928230221219483,
          0.5441480773154095,
          0.16865753543985798,
          0.03599709675505433,
          0.3669368016036859,
          -0.14738534182244417,
          -0.3859604479472999,
          0.01708459772515919,
          -0.23233417149471608,
          -0.17115833511184164,
          0.28223507247826046,
          -0.28437622398397366,
          -0.27992747167305054,
          -0.2809490481648487,
          -0.07620440913322891,
          -0.11343772564018734,
          -0.13417044029725853,
          -0.31208941831727205,
          -0.5567081672463021,
          0.014714710321487688,
          -0.08600525728039826,
          -0.05547724273518592,
          0.12664986514619983,
          0.11926824721261162,
          0.2800469054002807,
          0.6386378760452364,
          -0.030476146122717707,
          -0.14627805191568902,
          0.19533232373487783,
          -0.55490743858593,
          -0.5390230739429391,
          -0.6432635551317262,
          -2.391103097956542,
          1.0009814478795926,
          0.3213252633196757
         ]
        },
        {
         "hoverlabel": {
          "namelength": 0
         },
         "hovertemplate": "y=%{marker.color}<br>0=%{x}<br>1=%{y}<br>2=%{z}",
         "legendgroup": "y=5",
         "marker": {
          "color": [
           5,
           5,
           5,
           5,
           5,
           5,
           5,
           5,
           5,
           5,
           5,
           5,
           5
          ],
          "coloraxis": "coloraxis",
          "opacity": 0.7,
          "size": [
           5,
           5,
           5,
           5,
           5,
           5,
           5,
           5,
           5,
           5,
           5,
           5,
           5
          ],
          "sizemode": "area",
          "sizeref": 0.043209876543209874,
          "symbol": "square"
         },
         "mode": "markers",
         "name": "y=5",
         "scene": "scene",
         "showlegend": true,
         "type": "scatter3d",
         "x": [
          0.23622084002541965,
          0.2603379522048236,
          0.6837764770635495,
          -0.0668969638173992,
          -0.7950246764825599,
          -0.14438995472106136,
          1.1141639702520452,
          0.6544635155919183,
          -0.1996502720758985,
          0.7415934506218385,
          -0.2734758857073265,
          -1.3877070944148284,
          0.25649877757843786
         ],
         "y": [
          0.5683302033163516,
          0.5480333218442196,
          1.3972833205120372,
          2.243693920047149,
          0.7947296088288127,
          0.6398492814958502,
          1.4571125255440567,
          0.34254575171047913,
          0.7402253103501282,
          0.78534141707581,
          1.7888218158707363,
          1.089145370878928,
          0.6392252359991166
         ],
         "z": [
          -0.14811434434495152,
          0.5001632874063653,
          -0.44571261284926394,
          -0.670464973174718,
          0.006973448649287172,
          -0.8892523681223607,
          -2.299793109928364,
          -1.0862410773082012,
          -0.9246206514750013,
          -2.521882233357019,
          -1.1590414080377232,
          -0.9164095049943566,
          -0.7185428754461722
         ]
        },
        {
         "hoverlabel": {
          "namelength": 0
         },
         "hovertemplate": "y=%{marker.color}<br>0=%{x}<br>1=%{y}<br>2=%{z}",
         "legendgroup": "y=12",
         "marker": {
          "color": [
           12,
           12
          ],
          "coloraxis": "coloraxis",
          "opacity": 0.7,
          "size": [
           12,
           12
          ],
          "sizemode": "area",
          "sizeref": 0.043209876543209874,
          "symbol": "x"
         },
         "mode": "markers",
         "name": "y=12",
         "scene": "scene",
         "showlegend": true,
         "type": "scatter3d",
         "x": [
          1.0100444661438308,
          3.333286931869707
         ],
         "y": [
          0.8840779297540222,
          2.0261687927457643
         ],
         "z": [
          2.6820830340458603,
          2.771313731911111
         ]
        },
        {
         "hoverlabel": {
          "namelength": 0
         },
         "hovertemplate": "y=%{marker.color}<br>0=%{x}<br>1=%{y}<br>2=%{z}",
         "legendgroup": "y=7",
         "marker": {
          "color": [
           7,
           7,
           7,
           7,
           7,
           7,
           7,
           7,
           7,
           7,
           7
          ],
          "coloraxis": "coloraxis",
          "opacity": 0.7,
          "size": [
           7,
           7,
           7,
           7,
           7,
           7,
           7,
           7,
           7,
           7,
           7
          ],
          "sizemode": "area",
          "sizeref": 0.043209876543209874,
          "symbol": "cross"
         },
         "mode": "markers",
         "name": "y=7",
         "scene": "scene",
         "showlegend": true,
         "type": "scatter3d",
         "x": [
          1.1157439126975326,
          1.6950229031465784,
          1.595042153906473,
          -0.021703222617978073,
          0.5889638890177152,
          0.6409054884961937,
          1.9298182896043863,
          1.3773883933025135,
          1.0659403922366855,
          1.631075563517364,
          0.5445438461392939
         ],
         "y": [
          0.6204385692558839,
          2.0741455912681346,
          2.1133160830782383,
          3.473835050366322,
          1.911679498766826,
          0.9005750786840744,
          2.4924422724375197,
          1.6033636986509263,
          1.3675776666290782,
          1.3186173216428578,
          1.767245086534415
         ],
         "z": [
          0.5711052851644309,
          -1.0584217318060554,
          -0.10052094703894673,
          0.11792545883783176,
          1.3289280052953454,
          0.802015572324445,
          0.09142908851505796,
          -0.22086744087309085,
          0.649339960566904,
          0.1294146064199785,
          -0.14429246749311647
         ]
        },
        {
         "hoverlabel": {
          "namelength": 0
         },
         "hovertemplate": "y=%{marker.color}<br>0=%{x}<br>1=%{y}<br>2=%{z}",
         "legendgroup": "y=2",
         "marker": {
          "color": [
           2,
           2,
           2,
           2,
           2,
           2,
           2,
           2,
           2,
           2,
           2,
           2,
           2,
           2,
           2,
           2,
           2,
           2,
           2,
           2,
           2,
           2
          ],
          "coloraxis": "coloraxis",
          "opacity": 0.7,
          "size": [
           2,
           2,
           2,
           2,
           2,
           2,
           2,
           2,
           2,
           2,
           2,
           2,
           2,
           2,
           2,
           2,
           2,
           2,
           2,
           2,
           2,
           2
          ],
          "sizemode": "area",
          "sizeref": 0.043209876543209874,
          "symbol": "circle"
         },
         "mode": "markers",
         "name": "y=2",
         "scene": "scene",
         "showlegend": true,
         "type": "scatter3d",
         "x": [
          -2.1049982242121628,
          -2.525198492266791,
          -1.9936467980221915,
          -1.9586570544960946,
          -2.3697476827164063,
          -2.6793604575512298,
          -2.340259861452908,
          -2.2697401693796135,
          -2.10698079098955,
          -2.1878769603159776,
          -2.3976519041532494,
          -2.2626488529679234,
          -2.7323115560766538,
          -2.3903804265767086,
          -2.2984643833595677,
          -2.149264800072856,
          -2.161169389097062,
          -2.0813561174853943,
          -2.0453210794858387,
          -3.557097711578992,
          -2.383834568677435,
          -1.6802462650858232
         ],
         "y": [
          2.3740426372314127,
          3.120982662578182,
          2.5993965437371775,
          2.4631882264026648,
          2.7568727968502147,
          2.130820371105518,
          2.4336664151846725,
          2.3483157616133936,
          2.130718778401105,
          2.8564846298297657,
          3.108235703294707,
          3.028591550732736,
          2.037287301627119,
          2.4005851473405695,
          2.214669378415515,
          2.295608432856727,
          2.8997706229472273,
          3.078405260583533,
          3.0759496539608384,
          3.4667507279083267,
          3.0616770205425117,
          3.2848234588775687
         ],
         "z": [
          -0.34110629682571453,
          -1.0802338096240938,
          -0.40763318868569404,
          -1.0399803003919985,
          -1.2347007588660497,
          -1.509554348681599,
          -0.9398053522529484,
          -1.2461344213937626,
          -0.37778020813706353,
          -1.2789622313545026,
          -1.1175020425591606,
          -0.890844743015232,
          -1.3948051908758976,
          -0.5889911804265417,
          -0.4479450626072062,
          -0.8597718754446572,
          -0.8893683541034111,
          -0.7630745681169109,
          -1.2083446663244304,
          0.8108687803475227,
          0.09044536496940922,
          -0.9303485139959471
         ]
        },
        {
         "hoverlabel": {
          "namelength": 0
         },
         "hovertemplate": "y=%{marker.color}<br>0=%{x}<br>1=%{y}<br>2=%{z}",
         "legendgroup": "y=9",
         "marker": {
          "color": [
           9,
           9,
           9
          ],
          "coloraxis": "coloraxis",
          "opacity": 0.7,
          "size": [
           9,
           9,
           9
          ],
          "sizemode": "area",
          "sizeref": 0.043209876543209874,
          "symbol": "diamond"
         },
         "mode": "markers",
         "name": "y=9",
         "scene": "scene",
         "showlegend": true,
         "type": "scatter3d",
         "x": [
          -4.322873321226473,
          -3.950511810324203,
          -2.7603457898294033
         ],
         "y": [
          2.6538568015856003,
          -0.7285066087666607,
          1.2670549364923478
         ],
         "z": [
          3.9624919922390793,
          1.0874208805905325,
          1.9499163707632265
         ]
        },
        {
         "hoverlabel": {
          "namelength": 0
         },
         "hovertemplate": "y=%{marker.color}<br>0=%{x}<br>1=%{y}<br>2=%{z}",
         "legendgroup": "y=14",
         "marker": {
          "color": [
           14,
           14,
           14,
           14,
           14
          ],
          "coloraxis": "coloraxis",
          "opacity": 0.7,
          "size": [
           14,
           14,
           14,
           14,
           14
          ],
          "sizemode": "area",
          "sizeref": 0.043209876543209874,
          "symbol": "square"
         },
         "mode": "markers",
         "name": "y=14",
         "scene": "scene",
         "showlegend": true,
         "type": "scatter3d",
         "x": [
          4.596497085932547,
          4.5187449288459804,
          3.418943712699945,
          4.873034405166099,
          3.8523819375447466
         ],
         "y": [
          2.699447601220029,
          2.0277256270764603,
          3.134899733136561,
          2.1111088165529224,
          1.3450646690214312
         ],
         "z": [
          -0.1625836460347522,
          -0.23041267051029182,
          0.6345964703660393,
          -0.04592283637845876,
          0.16927574539694604
         ]
        },
        {
         "hoverlabel": {
          "namelength": 0
         },
         "hovertemplate": "y=%{marker.color}<br>0=%{x}<br>1=%{y}<br>2=%{z}",
         "legendgroup": "y=1",
         "marker": {
          "color": [
           1
          ],
          "coloraxis": "coloraxis",
          "opacity": 0.7,
          "size": [
           1
          ],
          "sizemode": "area",
          "sizeref": 0.043209876543209874,
          "symbol": "x"
         },
         "mode": "markers",
         "name": "y=1",
         "scene": "scene",
         "showlegend": true,
         "type": "scatter3d",
         "x": [
          7.1386978565650665
         ],
         "y": [
          4.004436692758949
         ],
         "z": [
          2.2591407167590365
         ]
        },
        {
         "hoverlabel": {
          "namelength": 0
         },
         "hovertemplate": "y=%{marker.color}<br>0=%{x}<br>1=%{y}<br>2=%{z}",
         "legendgroup": "y=8",
         "marker": {
          "color": [
           8
          ],
          "coloraxis": "coloraxis",
          "opacity": 0.7,
          "size": [
           8
          ],
          "sizemode": "area",
          "sizeref": 0.043209876543209874,
          "symbol": "cross"
         },
         "mode": "markers",
         "name": "y=8",
         "scene": "scene",
         "showlegend": true,
         "type": "scatter3d",
         "x": [
          -3.2827967908093814
         ],
         "y": [
          -0.041791357569233446
         ],
         "z": [
          -5.165069168592749
         ]
        }
       ],
       "layout": {
        "coloraxis": {
         "colorbar": {
          "title": {
           "text": "y"
          }
         },
         "colorscale": [
          [
           0,
           "#0d0887"
          ],
          [
           0.1111111111111111,
           "#46039f"
          ],
          [
           0.2222222222222222,
           "#7201a8"
          ],
          [
           0.3333333333333333,
           "#9c179e"
          ],
          [
           0.4444444444444444,
           "#bd3786"
          ],
          [
           0.5555555555555556,
           "#d8576b"
          ],
          [
           0.6666666666666666,
           "#ed7953"
          ],
          [
           0.7777777777777778,
           "#fb9f3a"
          ],
          [
           0.8888888888888888,
           "#fdca26"
          ],
          [
           1,
           "#f0f921"
          ]
         ]
        },
        "legend": {
         "itemsizing": "constant",
         "tracegroupgap": 0
        },
        "margin": {
         "b": 0,
         "l": 0,
         "r": 0,
         "t": 0
        },
        "scene": {
         "domain": {
          "x": [
           0,
           1
          ],
          "y": [
           0,
           1
          ]
         },
         "xaxis": {
          "title": {
           "text": "0"
          }
         },
         "yaxis": {
          "title": {
           "text": "1"
          }
         },
         "zaxis": {
          "title": {
           "text": "2"
          }
         }
        },
        "template": {
         "data": {
          "bar": [
           {
            "error_x": {
             "color": "#2a3f5f"
            },
            "error_y": {
             "color": "#2a3f5f"
            },
            "marker": {
             "line": {
              "color": "#E5ECF6",
              "width": 0.5
             }
            },
            "type": "bar"
           }
          ],
          "barpolar": [
           {
            "marker": {
             "line": {
              "color": "#E5ECF6",
              "width": 0.5
             }
            },
            "type": "barpolar"
           }
          ],
          "carpet": [
           {
            "aaxis": {
             "endlinecolor": "#2a3f5f",
             "gridcolor": "white",
             "linecolor": "white",
             "minorgridcolor": "white",
             "startlinecolor": "#2a3f5f"
            },
            "baxis": {
             "endlinecolor": "#2a3f5f",
             "gridcolor": "white",
             "linecolor": "white",
             "minorgridcolor": "white",
             "startlinecolor": "#2a3f5f"
            },
            "type": "carpet"
           }
          ],
          "choropleth": [
           {
            "colorbar": {
             "outlinewidth": 0,
             "ticks": ""
            },
            "type": "choropleth"
           }
          ],
          "contour": [
           {
            "colorbar": {
             "outlinewidth": 0,
             "ticks": ""
            },
            "colorscale": [
             [
              0,
              "#0d0887"
             ],
             [
              0.1111111111111111,
              "#46039f"
             ],
             [
              0.2222222222222222,
              "#7201a8"
             ],
             [
              0.3333333333333333,
              "#9c179e"
             ],
             [
              0.4444444444444444,
              "#bd3786"
             ],
             [
              0.5555555555555556,
              "#d8576b"
             ],
             [
              0.6666666666666666,
              "#ed7953"
             ],
             [
              0.7777777777777778,
              "#fb9f3a"
             ],
             [
              0.8888888888888888,
              "#fdca26"
             ],
             [
              1,
              "#f0f921"
             ]
            ],
            "type": "contour"
           }
          ],
          "contourcarpet": [
           {
            "colorbar": {
             "outlinewidth": 0,
             "ticks": ""
            },
            "type": "contourcarpet"
           }
          ],
          "heatmap": [
           {
            "colorbar": {
             "outlinewidth": 0,
             "ticks": ""
            },
            "colorscale": [
             [
              0,
              "#0d0887"
             ],
             [
              0.1111111111111111,
              "#46039f"
             ],
             [
              0.2222222222222222,
              "#7201a8"
             ],
             [
              0.3333333333333333,
              "#9c179e"
             ],
             [
              0.4444444444444444,
              "#bd3786"
             ],
             [
              0.5555555555555556,
              "#d8576b"
             ],
             [
              0.6666666666666666,
              "#ed7953"
             ],
             [
              0.7777777777777778,
              "#fb9f3a"
             ],
             [
              0.8888888888888888,
              "#fdca26"
             ],
             [
              1,
              "#f0f921"
             ]
            ],
            "type": "heatmap"
           }
          ],
          "heatmapgl": [
           {
            "colorbar": {
             "outlinewidth": 0,
             "ticks": ""
            },
            "colorscale": [
             [
              0,
              "#0d0887"
             ],
             [
              0.1111111111111111,
              "#46039f"
             ],
             [
              0.2222222222222222,
              "#7201a8"
             ],
             [
              0.3333333333333333,
              "#9c179e"
             ],
             [
              0.4444444444444444,
              "#bd3786"
             ],
             [
              0.5555555555555556,
              "#d8576b"
             ],
             [
              0.6666666666666666,
              "#ed7953"
             ],
             [
              0.7777777777777778,
              "#fb9f3a"
             ],
             [
              0.8888888888888888,
              "#fdca26"
             ],
             [
              1,
              "#f0f921"
             ]
            ],
            "type": "heatmapgl"
           }
          ],
          "histogram": [
           {
            "marker": {
             "colorbar": {
              "outlinewidth": 0,
              "ticks": ""
             }
            },
            "type": "histogram"
           }
          ],
          "histogram2d": [
           {
            "colorbar": {
             "outlinewidth": 0,
             "ticks": ""
            },
            "colorscale": [
             [
              0,
              "#0d0887"
             ],
             [
              0.1111111111111111,
              "#46039f"
             ],
             [
              0.2222222222222222,
              "#7201a8"
             ],
             [
              0.3333333333333333,
              "#9c179e"
             ],
             [
              0.4444444444444444,
              "#bd3786"
             ],
             [
              0.5555555555555556,
              "#d8576b"
             ],
             [
              0.6666666666666666,
              "#ed7953"
             ],
             [
              0.7777777777777778,
              "#fb9f3a"
             ],
             [
              0.8888888888888888,
              "#fdca26"
             ],
             [
              1,
              "#f0f921"
             ]
            ],
            "type": "histogram2d"
           }
          ],
          "histogram2dcontour": [
           {
            "colorbar": {
             "outlinewidth": 0,
             "ticks": ""
            },
            "colorscale": [
             [
              0,
              "#0d0887"
             ],
             [
              0.1111111111111111,
              "#46039f"
             ],
             [
              0.2222222222222222,
              "#7201a8"
             ],
             [
              0.3333333333333333,
              "#9c179e"
             ],
             [
              0.4444444444444444,
              "#bd3786"
             ],
             [
              0.5555555555555556,
              "#d8576b"
             ],
             [
              0.6666666666666666,
              "#ed7953"
             ],
             [
              0.7777777777777778,
              "#fb9f3a"
             ],
             [
              0.8888888888888888,
              "#fdca26"
             ],
             [
              1,
              "#f0f921"
             ]
            ],
            "type": "histogram2dcontour"
           }
          ],
          "mesh3d": [
           {
            "colorbar": {
             "outlinewidth": 0,
             "ticks": ""
            },
            "type": "mesh3d"
           }
          ],
          "parcoords": [
           {
            "line": {
             "colorbar": {
              "outlinewidth": 0,
              "ticks": ""
             }
            },
            "type": "parcoords"
           }
          ],
          "pie": [
           {
            "automargin": true,
            "type": "pie"
           }
          ],
          "scatter": [
           {
            "marker": {
             "colorbar": {
              "outlinewidth": 0,
              "ticks": ""
             }
            },
            "type": "scatter"
           }
          ],
          "scatter3d": [
           {
            "line": {
             "colorbar": {
              "outlinewidth": 0,
              "ticks": ""
             }
            },
            "marker": {
             "colorbar": {
              "outlinewidth": 0,
              "ticks": ""
             }
            },
            "type": "scatter3d"
           }
          ],
          "scattercarpet": [
           {
            "marker": {
             "colorbar": {
              "outlinewidth": 0,
              "ticks": ""
             }
            },
            "type": "scattercarpet"
           }
          ],
          "scattergeo": [
           {
            "marker": {
             "colorbar": {
              "outlinewidth": 0,
              "ticks": ""
             }
            },
            "type": "scattergeo"
           }
          ],
          "scattergl": [
           {
            "marker": {
             "colorbar": {
              "outlinewidth": 0,
              "ticks": ""
             }
            },
            "type": "scattergl"
           }
          ],
          "scattermapbox": [
           {
            "marker": {
             "colorbar": {
              "outlinewidth": 0,
              "ticks": ""
             }
            },
            "type": "scattermapbox"
           }
          ],
          "scatterpolar": [
           {
            "marker": {
             "colorbar": {
              "outlinewidth": 0,
              "ticks": ""
             }
            },
            "type": "scatterpolar"
           }
          ],
          "scatterpolargl": [
           {
            "marker": {
             "colorbar": {
              "outlinewidth": 0,
              "ticks": ""
             }
            },
            "type": "scatterpolargl"
           }
          ],
          "scatterternary": [
           {
            "marker": {
             "colorbar": {
              "outlinewidth": 0,
              "ticks": ""
             }
            },
            "type": "scatterternary"
           }
          ],
          "surface": [
           {
            "colorbar": {
             "outlinewidth": 0,
             "ticks": ""
            },
            "colorscale": [
             [
              0,
              "#0d0887"
             ],
             [
              0.1111111111111111,
              "#46039f"
             ],
             [
              0.2222222222222222,
              "#7201a8"
             ],
             [
              0.3333333333333333,
              "#9c179e"
             ],
             [
              0.4444444444444444,
              "#bd3786"
             ],
             [
              0.5555555555555556,
              "#d8576b"
             ],
             [
              0.6666666666666666,
              "#ed7953"
             ],
             [
              0.7777777777777778,
              "#fb9f3a"
             ],
             [
              0.8888888888888888,
              "#fdca26"
             ],
             [
              1,
              "#f0f921"
             ]
            ],
            "type": "surface"
           }
          ],
          "table": [
           {
            "cells": {
             "fill": {
              "color": "#EBF0F8"
             },
             "line": {
              "color": "white"
             }
            },
            "header": {
             "fill": {
              "color": "#C8D4E3"
             },
             "line": {
              "color": "white"
             }
            },
            "type": "table"
           }
          ]
         },
         "layout": {
          "annotationdefaults": {
           "arrowcolor": "#2a3f5f",
           "arrowhead": 0,
           "arrowwidth": 1
          },
          "coloraxis": {
           "colorbar": {
            "outlinewidth": 0,
            "ticks": ""
           }
          },
          "colorscale": {
           "diverging": [
            [
             0,
             "#8e0152"
            ],
            [
             0.1,
             "#c51b7d"
            ],
            [
             0.2,
             "#de77ae"
            ],
            [
             0.3,
             "#f1b6da"
            ],
            [
             0.4,
             "#fde0ef"
            ],
            [
             0.5,
             "#f7f7f7"
            ],
            [
             0.6,
             "#e6f5d0"
            ],
            [
             0.7,
             "#b8e186"
            ],
            [
             0.8,
             "#7fbc41"
            ],
            [
             0.9,
             "#4d9221"
            ],
            [
             1,
             "#276419"
            ]
           ],
           "sequential": [
            [
             0,
             "#0d0887"
            ],
            [
             0.1111111111111111,
             "#46039f"
            ],
            [
             0.2222222222222222,
             "#7201a8"
            ],
            [
             0.3333333333333333,
             "#9c179e"
            ],
            [
             0.4444444444444444,
             "#bd3786"
            ],
            [
             0.5555555555555556,
             "#d8576b"
            ],
            [
             0.6666666666666666,
             "#ed7953"
            ],
            [
             0.7777777777777778,
             "#fb9f3a"
            ],
            [
             0.8888888888888888,
             "#fdca26"
            ],
            [
             1,
             "#f0f921"
            ]
           ],
           "sequentialminus": [
            [
             0,
             "#0d0887"
            ],
            [
             0.1111111111111111,
             "#46039f"
            ],
            [
             0.2222222222222222,
             "#7201a8"
            ],
            [
             0.3333333333333333,
             "#9c179e"
            ],
            [
             0.4444444444444444,
             "#bd3786"
            ],
            [
             0.5555555555555556,
             "#d8576b"
            ],
            [
             0.6666666666666666,
             "#ed7953"
            ],
            [
             0.7777777777777778,
             "#fb9f3a"
            ],
            [
             0.8888888888888888,
             "#fdca26"
            ],
            [
             1,
             "#f0f921"
            ]
           ]
          },
          "colorway": [
           "#636efa",
           "#EF553B",
           "#00cc96",
           "#ab63fa",
           "#FFA15A",
           "#19d3f3",
           "#FF6692",
           "#B6E880",
           "#FF97FF",
           "#FECB52"
          ],
          "font": {
           "color": "#2a3f5f"
          },
          "geo": {
           "bgcolor": "white",
           "lakecolor": "white",
           "landcolor": "#E5ECF6",
           "showlakes": true,
           "showland": true,
           "subunitcolor": "white"
          },
          "hoverlabel": {
           "align": "left"
          },
          "hovermode": "closest",
          "mapbox": {
           "style": "light"
          },
          "paper_bgcolor": "white",
          "plot_bgcolor": "#E5ECF6",
          "polar": {
           "angularaxis": {
            "gridcolor": "white",
            "linecolor": "white",
            "ticks": ""
           },
           "bgcolor": "#E5ECF6",
           "radialaxis": {
            "gridcolor": "white",
            "linecolor": "white",
            "ticks": ""
           }
          },
          "scene": {
           "xaxis": {
            "backgroundcolor": "#E5ECF6",
            "gridcolor": "white",
            "gridwidth": 2,
            "linecolor": "white",
            "showbackground": true,
            "ticks": "",
            "zerolinecolor": "white"
           },
           "yaxis": {
            "backgroundcolor": "#E5ECF6",
            "gridcolor": "white",
            "gridwidth": 2,
            "linecolor": "white",
            "showbackground": true,
            "ticks": "",
            "zerolinecolor": "white"
           },
           "zaxis": {
            "backgroundcolor": "#E5ECF6",
            "gridcolor": "white",
            "gridwidth": 2,
            "linecolor": "white",
            "showbackground": true,
            "ticks": "",
            "zerolinecolor": "white"
           }
          },
          "shapedefaults": {
           "line": {
            "color": "#2a3f5f"
           }
          },
          "ternary": {
           "aaxis": {
            "gridcolor": "white",
            "linecolor": "white",
            "ticks": ""
           },
           "baxis": {
            "gridcolor": "white",
            "linecolor": "white",
            "ticks": ""
           },
           "bgcolor": "#E5ECF6",
           "caxis": {
            "gridcolor": "white",
            "linecolor": "white",
            "ticks": ""
           }
          },
          "title": {
           "x": 0.05
          },
          "xaxis": {
           "automargin": true,
           "gridcolor": "white",
           "linecolor": "white",
           "ticks": "",
           "title": {
            "standoff": 15
           },
           "zerolinecolor": "white",
           "zerolinewidth": 2
          },
          "yaxis": {
           "automargin": true,
           "gridcolor": "white",
           "linecolor": "white",
           "ticks": "",
           "title": {
            "standoff": 15
           },
           "zerolinecolor": "white",
           "zerolinewidth": 2
          }
         }
        }
       }
      },
      "text/html": [
       "<div>\n",
       "        \n",
       "        \n",
       "            <div id=\"3f38939e-145e-41b7-a76c-49c204f4b482\" class=\"plotly-graph-div\" style=\"height:525px; width:100%;\"></div>\n",
       "            <script type=\"text/javascript\">\n",
       "                require([\"plotly\"], function(Plotly) {\n",
       "                    window.PLOTLYENV=window.PLOTLYENV || {};\n",
       "                    \n",
       "                if (document.getElementById(\"3f38939e-145e-41b7-a76c-49c204f4b482\")) {\n",
       "                    Plotly.newPlot(\n",
       "                        '3f38939e-145e-41b7-a76c-49c204f4b482',\n",
       "                        [{\"hoverlabel\": {\"namelength\": 0}, \"hovertemplate\": \"y=%{marker.color}<br>0=%{x}<br>1=%{y}<br>2=%{z}\", \"legendgroup\": \"y=11\", \"marker\": {\"color\": [11, 11, 11, 11, 11, 11, 11, 11, 11, 11, 11, 11, 11, 11, 11, 11, 11, 11, 11, 11, 11, 11, 11, 11, 11, 11, 11, 11, 11, 11, 11, 11, 11, 11, 11, 11, 11, 11, 11, 11, 11, 11, 11, 11, 11, 11, 11, 11, 11, 11, 11, 11, 11, 11], \"coloraxis\": \"coloraxis\", \"opacity\": 0.7, \"size\": [11, 11, 11, 11, 11, 11, 11, 11, 11, 11, 11, 11, 11, 11, 11, 11, 11, 11, 11, 11, 11, 11, 11, 11, 11, 11, 11, 11, 11, 11, 11, 11, 11, 11, 11, 11, 11, 11, 11, 11, 11, 11, 11, 11, 11, 11, 11, 11, 11, 11, 11, 11, 11, 11], \"sizemode\": \"area\", \"sizeref\": 0.043209876543209874, \"symbol\": \"circle\"}, \"mode\": \"markers\", \"name\": \"y=11\", \"scene\": \"scene\", \"showlegend\": true, \"type\": \"scatter3d\", \"x\": [-0.3088170222296622, -0.11509363313884213, -0.002301063789717664, -0.2170937790968996, -0.02223634327810462, 0.041167929749512173, 0.3376822861547516, -0.46299774797587034, 0.015840562422580425, 0.2139788015551609, -0.1420832833924684, 0.037373085524678926, -0.2774488186936972, -0.11525502275373001, -0.16686463533200932, 0.09464075308562032, -0.0819412962028652, -0.30679637819247396, -0.38891864021987843, 0.18136104634161732, -0.1335830223192562, -0.25267144365567856, 0.17180489501149987, -0.44718318014189784, -0.06583749152788006, -0.2626254628666209, 0.25920902866479795, 0.0173653764107111, -0.32724242014986016, 0.25742280936634604, -0.013353867493487636, -0.09910424485404007, 0.027043095310118705, 0.11596517683603709, 0.45730687083450866, -0.14752336572345226, -0.12053674539204963, -0.15577397988498115, -0.05048652181362962, 0.09333543627971237, 0.10616045108297949, -0.11320601235710911, 0.3931115906158465, -0.351092290842097, -0.002352228942058071, -0.0899566627690065, -0.12029946591444676, -0.12135003313227434, 0.08175377249554798, 0.028627200166173795, -0.06908627337474725, -0.020816030812831406, -0.0022807390005490286, 0.1734583203470178], \"y\": [-0.7631621565000513, -1.052939359968979, -1.0244734591844453, -1.0394671751751798, -1.162737445971399, -1.0278833800859914, -1.2911046263379196, -0.9882472872845995, -0.9574540617947391, -1.0650516895572062, -0.9616774397522369, -1.0543206219272803, -1.0102875834961644, -1.1602821169254314, -0.9654064702289284, -0.45616462900341254, -0.34355568108961154, -0.964066395144502, -1.0097800358717262, -0.4099578964318332, -0.41199863782146184, -1.1161495765227496, -0.5102877859027175, -0.9574216742802379, -0.9028758387526317, -0.7717490681457178, -1.0184562154038685, -1.1009316701240337, -1.1023619688102957, -0.09893604419796832, -1.1047191296229946, -0.7468069212809658, -0.941150867525133, -0.7379703484312669, -0.5519113998704465, -0.933767048768759, -1.0157421467303982, -0.7381495456652748, -1.0472307478090277, -0.7975136500287082, -0.41450603758689464, -1.0276218101882204, -0.3402581874762733, -1.091249212520997, -1.065813437325055, -1.1812521059004135, -1.2218462225075224, -1.062703669817351, -0.9660194287459594, -0.8037043651500935, -1.163904213512538, -0.32193260902585435, -0.9592975916118833, -1.1824396659894638], \"z\": [0.33016111719227337, -0.03867674477899022, -0.19713224372485857, -0.20976636788923408, -0.45021920385270625, -0.009795153836293787, -0.07681809976116104, -0.4779884341389886, -0.11250176212066111, -0.20284002874514043, -0.11712468513338545, -0.05689828654802847, -0.38136522291220376, -0.33402100178849176, 0.12880038743702282, 0.07639060125358701, 0.23309119948091364, -0.2747724991448546, -0.35388572732595397, -0.23869078690463078, -0.03079847564447466, -0.5406378535308115, -0.13677079567162928, -0.3362515272561106, -0.17636244889900293, -0.3208467619361074, 0.024940649572551044, -0.27527210204313796, -0.5322369593535026, 0.0513381813134938, -0.1448009907332772, -0.1576444177649924, 0.015455915560984771, -1.0069651605698444, -0.8369545819522288, -0.5181845247499223, -0.33817687874044633, -0.028878115844008095, -0.21304799946912928, 0.04129437939868341, -0.43737557136814237, -0.08620674459449926, 0.03878300336531182, -0.4850786933591569, 0.12085502633898436, -0.21553894862442496, -0.6247422416006776, -0.13180674074320764, -0.03658879028477824, -0.08566870238436909, -0.017404921881961397, -0.10905968084432105, 0.08049963623464698, -0.20400597383243663]}, {\"hoverlabel\": {\"namelength\": 0}, \"hovertemplate\": \"y=%{marker.color}<br>0=%{x}<br>1=%{y}<br>2=%{z}\", \"legendgroup\": \"y=10\", \"marker\": {\"color\": [10], \"coloraxis\": \"coloraxis\", \"opacity\": 0.7, \"size\": [10], \"sizemode\": \"area\", \"sizeref\": 0.043209876543209874, \"symbol\": \"diamond\"}, \"mode\": \"markers\", \"name\": \"y=10\", \"scene\": \"scene\", \"showlegend\": true, \"type\": \"scatter3d\", \"x\": [3.640213362873391], \"y\": [6.193444646287058], \"z\": [4.916613746520015]}, {\"hoverlabel\": {\"namelength\": 0}, \"hovertemplate\": \"y=%{marker.color}<br>0=%{x}<br>1=%{y}<br>2=%{z}\", \"legendgroup\": \"y=3\", \"marker\": {\"color\": [3, 3, 3, 3, 3, 3, 3, 3, 3, 3, 3, 3], \"coloraxis\": \"coloraxis\", \"opacity\": 0.7, \"size\": [3, 3, 3, 3, 3, 3, 3, 3, 3, 3, 3, 3], \"sizemode\": \"area\", \"sizeref\": 0.043209876543209874, \"symbol\": \"square\"}, \"mode\": \"markers\", \"name\": \"y=3\", \"scene\": \"scene\", \"showlegend\": true, \"type\": \"scatter3d\", \"x\": [2.2519553634338156, 2.3513646945188555, 2.0728116145990514, 2.7272109506326228, 2.9713615893381053, 2.0953586566569866, 2.1932770349034483, 1.803376430120824, 2.065744797986416, 1.884838029019131, 1.78618611423198, 2.0048848033453774], \"y\": [0.02797397734543549, 1.1401984649729393, -0.19367388050403603, -0.11303857687532651, 0.4631405016883561, -0.4270138743669019, -0.1601947155279008, 0.5287277027713393, -0.44708532416241725, -0.2964756997941312, 0.31275188772148976, -0.36349865639869117], \"z\": [-0.3262570027200763, 0.056671878421601485, -0.39731249269014873, -0.2259278446917749, -0.26170673133328204, 0.13221736174255327, 0.7746842463901543, 0.6940613872936388, 0.07285555747873429, 0.049091271613974426, 0.7053088320242599, 0.14192835848841498]}, {\"hoverlabel\": {\"namelength\": 0}, \"hovertemplate\": \"y=%{marker.color}<br>0=%{x}<br>1=%{y}<br>2=%{z}\", \"legendgroup\": \"y=6\", \"marker\": {\"color\": [6, 6, 6, 6, 6, 6, 6, 6, 6, 6, 6, 6, 6, 6, 6, 6, 6, 6, 6, 6, 6, 6, 6, 6, 6, 6, 6, 6, 6, 6, 6, 6, 6, 6], \"coloraxis\": \"coloraxis\", \"opacity\": 0.7, \"size\": [6, 6, 6, 6, 6, 6, 6, 6, 6, 6, 6, 6, 6, 6, 6, 6, 6, 6, 6, 6, 6, 6, 6, 6, 6, 6, 6, 6, 6, 6, 6, 6, 6, 6], \"sizemode\": \"area\", \"sizeref\": 0.043209876543209874, \"symbol\": \"x\"}, \"mode\": \"markers\", \"name\": \"y=6\", \"scene\": \"scene\", \"showlegend\": true, \"type\": \"scatter3d\", \"x\": [-0.29026658274666867, 0.4592567672808172, 0.10606132163525618, -0.3825149365370392, 0.18671404561659768, 0.3026396236431611, -0.30972438982175404, -0.32595238414343153, 0.6044233952267375, 0.4790613182040753, 0.6144437584180186, -0.07237032773088503, 0.7230688834324541, -0.3158007638888974, 0.613895376433817, 0.7552389092240126, 0.9042867196204263, -0.022647912765292752, 0.27274643843546403, 0.9684257757700816, -0.07090076237397956, -0.06255117683769988, 0.09431641208158462, 0.3965861124629995, 0.3239845108789795, -0.4231983763243721, 0.07700009550944423, 0.1565210134482324, -0.06311384555677282, 0.4151490700503017, 0.20567387864005765, 0.29826145077127847, 0.749344065344669, 0.9916588012245886], \"y\": [-1.324007562347247, -0.9720717897267696, -0.28308185020446525, -1.3801340262807433, -0.8888090193921805, -1.0441015941818457, -1.4230402352285016, -1.1613144527053596, -0.7801998493041624, -1.0089779543982313, -1.0915628756017637, -0.5166630860439818, -0.4748919270001946, -0.7531698644702158, -1.4023415330494837, -1.1943019338653702, -0.8981876881088497, -0.8103490808602453, -0.7608509300960596, -1.1489633408047304, -1.3012025180787306, -1.2208627614887289, -0.6450113771010243, -1.07307342994506, -0.9151704621831115, -1.8165560337395845, -0.2789690063213613, -1.2359282316192035, -1.0908051819160944, -0.29328726383727705, -0.9991826606809826, -1.1648932834674224, -0.870094722601824, -1.0218999948208045], \"z\": [0.8686786184332007, 0.2815416354668001, 0.2765932088927381, 0.6895243122284895, 0.4057164218578612, 0.4121103858637582, 0.48606370201626514, 0.6810003565901137, 0.24974933562904136, 0.14636427374415362, 0.8717692642238939, 0.4752723327638654, 0.4249702896713199, 0.801283239131946, 0.4596840113415565, 0.7743265152016452, 0.511568576485014, 0.43059006273171563, 0.6443149031823414, 1.1392228739145787, 0.21592375579535986, 0.7362732074703966, 0.7063130095311426, 0.4986357407409786, 0.22717187911297587, 0.4533905930888875, 0.6379340843269671, 0.13970672868778922, 0.9496793209207872, 0.1983335629533555, 0.6360268535801369, 0.32494521779220925, 0.9826602970438849, 0.8284056913378761]}, {\"hoverlabel\": {\"namelength\": 0}, \"hovertemplate\": \"y=%{marker.color}<br>0=%{x}<br>1=%{y}<br>2=%{z}\", \"legendgroup\": \"y=4\", \"marker\": {\"color\": [4, 4], \"coloraxis\": \"coloraxis\", \"opacity\": 0.7, \"size\": [4, 4], \"sizemode\": \"area\", \"sizeref\": 0.043209876543209874, \"symbol\": \"cross\"}, \"mode\": \"markers\", \"name\": \"y=4\", \"scene\": \"scene\", \"showlegend\": true, \"type\": \"scatter3d\", \"x\": [-4.389534604456361, -4.432539734294783], \"y\": [-0.1034495767131333, -0.1686801248497945], \"z\": [7.987193311633944, 7.854282197282845]}, {\"hoverlabel\": {\"namelength\": 0}, \"hovertemplate\": \"y=%{marker.color}<br>0=%{x}<br>1=%{y}<br>2=%{z}\", \"legendgroup\": \"y=13\", \"marker\": {\"color\": [13, 13, 13, 13, 13, 13, 13, 13, 13, 13, 13, 13, 13, 13, 13, 13, 13], \"coloraxis\": \"coloraxis\", \"opacity\": 0.7, \"size\": [13, 13, 13, 13, 13, 13, 13, 13, 13, 13, 13, 13, 13, 13, 13, 13, 13], \"sizemode\": \"area\", \"sizeref\": 0.043209876543209874, \"symbol\": \"circle\"}, \"mode\": \"markers\", \"name\": \"y=13\", \"scene\": \"scene\", \"showlegend\": true, \"type\": \"scatter3d\", \"x\": [1.747115683393762, 1.906463241006485, 1.15113957114193, 1.2070991363580996, 1.5291292740752536, 1.218978230140321, 0.9835047597987604, 0.5473162665676244, 1.9078464912792725, 1.2160534522663493, 0.5954388798831948, 1.9331124452716963, 1.067098744814663, 1.7673901193701944, 1.9331124452716963, 0.7930410282783164, 1.4581237218335599], \"y\": [-0.1832065678831476, 0.18518682489148836, -0.5294876379900553, -0.016816602227801333, 0.05442401282212492, -0.6733728003092506, -1.020108474525038, -0.29566013008330194, -0.1351462180000804, -0.4368961079710676, -0.9544228534771635, -0.1421142977118125, -0.07143349891062391, -0.23485117196728164, -0.1421142977118125, -0.6043282695479844, 0.09884137804996784], \"z\": [-0.8542496328080511, -0.6083485262220392, -0.3720956548970038, -0.4650910715357975, -0.7632333432067084, -0.34695475633086365, -0.4843445941190465, -0.702935509139133, -0.5151279429668306, -1.6576307759405604, -1.4911589220080153, -0.9733330659549609, 0.05664306626344465, -0.22282130798470456, -0.9733330659549609, -0.20096151314069374, -0.48688504626042295]}, {\"hoverlabel\": {\"namelength\": 0}, \"hovertemplate\": \"y=%{marker.color}<br>0=%{x}<br>1=%{y}<br>2=%{z}\", \"legendgroup\": \"y=0\", \"marker\": {\"color\": [0, 0, 0, 0, 0, 0, 0, 0, 0, 0, 0, 0, 0, 0, 0, 0, 0, 0, 0, 0, 0, 0, 0, 0, 0, 0, 0, 0, 0, 0, 0, 0, 0, 0, 0, 0], \"coloraxis\": \"coloraxis\", \"opacity\": 0.7, \"size\": [0, 0, 0, 0, 0, 0, 0, 0, 0, 0, 0, 0, 0, 0, 0, 0, 0, 0, 0, 0, 0, 0, 0, 0, 0, 0, 0, 0, 0, 0, 0, 0, 0, 0, 0, 0], \"sizemode\": \"area\", \"sizeref\": 0.043209876543209874, \"symbol\": \"diamond\"}, \"mode\": \"markers\", \"name\": \"y=0\", \"scene\": \"scene\", \"showlegend\": true, \"type\": \"scatter3d\", \"x\": [-0.7553927799161607, -1.074500349050363, -2.3163760641409965, -0.6583287710910447, -0.5413218037924322, -0.8349746054226019, -0.9350687613295068, -0.9091896652187345, -0.6903591451513094, -0.49242980743633413, -0.5720103132650246, -0.6514041263222521, -0.6195276169695904, -0.5356573513597868, -1.1106297127640337, -0.6509035331651029, -0.8780410729034668, -0.7662263272662806, -0.5626421203489971, -0.5741371723869616, -0.7748318208001415, -0.6552475599847014, -0.9225622900272772, -0.6850886153339977, -0.7814154568230062, -0.5363041184157588, -1.213697993587351, -0.6886452499197155, -0.8813335564729775, -0.6541094813720745, -0.94015972212189, -0.7346040262365336, -0.8677634879508845, -2.325668234298763, -1.377385564930416, -0.7021917538246155], \"y\": [-1.0992666295786988, -0.9647887039894227, -0.5739824610406633, -0.7807304580273599, -1.031380057675838, -0.5236907162416906, -1.2039456236268777, -1.1389998543348445, -1.0662993095399247, -0.9562419606646673, -0.9280417639308772, -1.1164724155786983, -0.8770619099063398, -1.0697841748080994, -0.3604591909501622, -1.0642460845074617, -1.2089292108142737, -1.2191868302577138, -1.065810424605698, -0.759787774319149, -1.0814543865231698, -1.1430325523312188, -1.1969292846275887, -0.8416398916317706, -0.641887105399677, -0.9234788602024551, -0.7790981552267554, -0.8445446696648509, -0.9723130679646457, -0.7109027359308906, -0.9298359655532504, -0.9223869039833842, -1.0780181289665045, -0.4624003285180972, -0.8707592969808307, -0.751136991699099], \"z\": [0.497207681016397, 0.3928230221219483, 0.5441480773154095, 0.16865753543985798, 0.03599709675505433, 0.3669368016036859, -0.14738534182244417, -0.3859604479472999, 0.01708459772515919, -0.23233417149471608, -0.17115833511184164, 0.28223507247826046, -0.28437622398397366, -0.27992747167305054, -0.2809490481648487, -0.07620440913322891, -0.11343772564018734, -0.13417044029725853, -0.31208941831727205, -0.5567081672463021, 0.014714710321487688, -0.08600525728039826, -0.05547724273518592, 0.12664986514619983, 0.11926824721261162, 0.2800469054002807, 0.6386378760452364, -0.030476146122717707, -0.14627805191568902, 0.19533232373487783, -0.55490743858593, -0.5390230739429391, -0.6432635551317262, -2.391103097956542, 1.0009814478795926, 0.3213252633196757]}, {\"hoverlabel\": {\"namelength\": 0}, \"hovertemplate\": \"y=%{marker.color}<br>0=%{x}<br>1=%{y}<br>2=%{z}\", \"legendgroup\": \"y=5\", \"marker\": {\"color\": [5, 5, 5, 5, 5, 5, 5, 5, 5, 5, 5, 5, 5], \"coloraxis\": \"coloraxis\", \"opacity\": 0.7, \"size\": [5, 5, 5, 5, 5, 5, 5, 5, 5, 5, 5, 5, 5], \"sizemode\": \"area\", \"sizeref\": 0.043209876543209874, \"symbol\": \"square\"}, \"mode\": \"markers\", \"name\": \"y=5\", \"scene\": \"scene\", \"showlegend\": true, \"type\": \"scatter3d\", \"x\": [0.23622084002541965, 0.2603379522048236, 0.6837764770635495, -0.0668969638173992, -0.7950246764825599, -0.14438995472106136, 1.1141639702520452, 0.6544635155919183, -0.1996502720758985, 0.7415934506218385, -0.2734758857073265, -1.3877070944148284, 0.25649877757843786], \"y\": [0.5683302033163516, 0.5480333218442196, 1.3972833205120372, 2.243693920047149, 0.7947296088288127, 0.6398492814958502, 1.4571125255440567, 0.34254575171047913, 0.7402253103501282, 0.78534141707581, 1.7888218158707363, 1.089145370878928, 0.6392252359991166], \"z\": [-0.14811434434495152, 0.5001632874063653, -0.44571261284926394, -0.670464973174718, 0.006973448649287172, -0.8892523681223607, -2.299793109928364, -1.0862410773082012, -0.9246206514750013, -2.521882233357019, -1.1590414080377232, -0.9164095049943566, -0.7185428754461722]}, {\"hoverlabel\": {\"namelength\": 0}, \"hovertemplate\": \"y=%{marker.color}<br>0=%{x}<br>1=%{y}<br>2=%{z}\", \"legendgroup\": \"y=12\", \"marker\": {\"color\": [12, 12], \"coloraxis\": \"coloraxis\", \"opacity\": 0.7, \"size\": [12, 12], \"sizemode\": \"area\", \"sizeref\": 0.043209876543209874, \"symbol\": \"x\"}, \"mode\": \"markers\", \"name\": \"y=12\", \"scene\": \"scene\", \"showlegend\": true, \"type\": \"scatter3d\", \"x\": [1.0100444661438308, 3.333286931869707], \"y\": [0.8840779297540222, 2.0261687927457643], \"z\": [2.6820830340458603, 2.771313731911111]}, {\"hoverlabel\": {\"namelength\": 0}, \"hovertemplate\": \"y=%{marker.color}<br>0=%{x}<br>1=%{y}<br>2=%{z}\", \"legendgroup\": \"y=7\", \"marker\": {\"color\": [7, 7, 7, 7, 7, 7, 7, 7, 7, 7, 7], \"coloraxis\": \"coloraxis\", \"opacity\": 0.7, \"size\": [7, 7, 7, 7, 7, 7, 7, 7, 7, 7, 7], \"sizemode\": \"area\", \"sizeref\": 0.043209876543209874, \"symbol\": \"cross\"}, \"mode\": \"markers\", \"name\": \"y=7\", \"scene\": \"scene\", \"showlegend\": true, \"type\": \"scatter3d\", \"x\": [1.1157439126975326, 1.6950229031465784, 1.595042153906473, -0.021703222617978073, 0.5889638890177152, 0.6409054884961937, 1.9298182896043863, 1.3773883933025135, 1.0659403922366855, 1.631075563517364, 0.5445438461392939], \"y\": [0.6204385692558839, 2.0741455912681346, 2.1133160830782383, 3.473835050366322, 1.911679498766826, 0.9005750786840744, 2.4924422724375197, 1.6033636986509263, 1.3675776666290782, 1.3186173216428578, 1.767245086534415], \"z\": [0.5711052851644309, -1.0584217318060554, -0.10052094703894673, 0.11792545883783176, 1.3289280052953454, 0.802015572324445, 0.09142908851505796, -0.22086744087309085, 0.649339960566904, 0.1294146064199785, -0.14429246749311647]}, {\"hoverlabel\": {\"namelength\": 0}, \"hovertemplate\": \"y=%{marker.color}<br>0=%{x}<br>1=%{y}<br>2=%{z}\", \"legendgroup\": \"y=2\", \"marker\": {\"color\": [2, 2, 2, 2, 2, 2, 2, 2, 2, 2, 2, 2, 2, 2, 2, 2, 2, 2, 2, 2, 2, 2], \"coloraxis\": \"coloraxis\", \"opacity\": 0.7, \"size\": [2, 2, 2, 2, 2, 2, 2, 2, 2, 2, 2, 2, 2, 2, 2, 2, 2, 2, 2, 2, 2, 2], \"sizemode\": \"area\", \"sizeref\": 0.043209876543209874, \"symbol\": \"circle\"}, \"mode\": \"markers\", \"name\": \"y=2\", \"scene\": \"scene\", \"showlegend\": true, \"type\": \"scatter3d\", \"x\": [-2.1049982242121628, -2.525198492266791, -1.9936467980221915, -1.9586570544960946, -2.3697476827164063, -2.6793604575512298, -2.340259861452908, -2.2697401693796135, -2.10698079098955, -2.1878769603159776, -2.3976519041532494, -2.2626488529679234, -2.7323115560766538, -2.3903804265767086, -2.2984643833595677, -2.149264800072856, -2.161169389097062, -2.0813561174853943, -2.0453210794858387, -3.557097711578992, -2.383834568677435, -1.6802462650858232], \"y\": [2.3740426372314127, 3.120982662578182, 2.5993965437371775, 2.4631882264026648, 2.7568727968502147, 2.130820371105518, 2.4336664151846725, 2.3483157616133936, 2.130718778401105, 2.8564846298297657, 3.108235703294707, 3.028591550732736, 2.037287301627119, 2.4005851473405695, 2.214669378415515, 2.295608432856727, 2.8997706229472273, 3.078405260583533, 3.0759496539608384, 3.4667507279083267, 3.0616770205425117, 3.2848234588775687], \"z\": [-0.34110629682571453, -1.0802338096240938, -0.40763318868569404, -1.0399803003919985, -1.2347007588660497, -1.509554348681599, -0.9398053522529484, -1.2461344213937626, -0.37778020813706353, -1.2789622313545026, -1.1175020425591606, -0.890844743015232, -1.3948051908758976, -0.5889911804265417, -0.4479450626072062, -0.8597718754446572, -0.8893683541034111, -0.7630745681169109, -1.2083446663244304, 0.8108687803475227, 0.09044536496940922, -0.9303485139959471]}, {\"hoverlabel\": {\"namelength\": 0}, \"hovertemplate\": \"y=%{marker.color}<br>0=%{x}<br>1=%{y}<br>2=%{z}\", \"legendgroup\": \"y=9\", \"marker\": {\"color\": [9, 9, 9], \"coloraxis\": \"coloraxis\", \"opacity\": 0.7, \"size\": [9, 9, 9], \"sizemode\": \"area\", \"sizeref\": 0.043209876543209874, \"symbol\": \"diamond\"}, \"mode\": \"markers\", \"name\": \"y=9\", \"scene\": \"scene\", \"showlegend\": true, \"type\": \"scatter3d\", \"x\": [-4.322873321226473, -3.950511810324203, -2.7603457898294033], \"y\": [2.6538568015856003, -0.7285066087666607, 1.2670549364923478], \"z\": [3.9624919922390793, 1.0874208805905325, 1.9499163707632265]}, {\"hoverlabel\": {\"namelength\": 0}, \"hovertemplate\": \"y=%{marker.color}<br>0=%{x}<br>1=%{y}<br>2=%{z}\", \"legendgroup\": \"y=14\", \"marker\": {\"color\": [14, 14, 14, 14, 14], \"coloraxis\": \"coloraxis\", \"opacity\": 0.7, \"size\": [14, 14, 14, 14, 14], \"sizemode\": \"area\", \"sizeref\": 0.043209876543209874, \"symbol\": \"square\"}, \"mode\": \"markers\", \"name\": \"y=14\", \"scene\": \"scene\", \"showlegend\": true, \"type\": \"scatter3d\", \"x\": [4.596497085932547, 4.5187449288459804, 3.418943712699945, 4.873034405166099, 3.8523819375447466], \"y\": [2.699447601220029, 2.0277256270764603, 3.134899733136561, 2.1111088165529224, 1.3450646690214312], \"z\": [-0.1625836460347522, -0.23041267051029182, 0.6345964703660393, -0.04592283637845876, 0.16927574539694604]}, {\"hoverlabel\": {\"namelength\": 0}, \"hovertemplate\": \"y=%{marker.color}<br>0=%{x}<br>1=%{y}<br>2=%{z}\", \"legendgroup\": \"y=1\", \"marker\": {\"color\": [1], \"coloraxis\": \"coloraxis\", \"opacity\": 0.7, \"size\": [1], \"sizemode\": \"area\", \"sizeref\": 0.043209876543209874, \"symbol\": \"x\"}, \"mode\": \"markers\", \"name\": \"y=1\", \"scene\": \"scene\", \"showlegend\": true, \"type\": \"scatter3d\", \"x\": [7.1386978565650665], \"y\": [4.004436692758949], \"z\": [2.2591407167590365]}, {\"hoverlabel\": {\"namelength\": 0}, \"hovertemplate\": \"y=%{marker.color}<br>0=%{x}<br>1=%{y}<br>2=%{z}\", \"legendgroup\": \"y=8\", \"marker\": {\"color\": [8], \"coloraxis\": \"coloraxis\", \"opacity\": 0.7, \"size\": [8], \"sizemode\": \"area\", \"sizeref\": 0.043209876543209874, \"symbol\": \"cross\"}, \"mode\": \"markers\", \"name\": \"y=8\", \"scene\": \"scene\", \"showlegend\": true, \"type\": \"scatter3d\", \"x\": [-3.2827967908093814], \"y\": [-0.041791357569233446], \"z\": [-5.165069168592749]}],\n",
       "                        {\"coloraxis\": {\"colorbar\": {\"title\": {\"text\": \"y\"}}, \"colorscale\": [[0.0, \"#0d0887\"], [0.1111111111111111, \"#46039f\"], [0.2222222222222222, \"#7201a8\"], [0.3333333333333333, \"#9c179e\"], [0.4444444444444444, \"#bd3786\"], [0.5555555555555556, \"#d8576b\"], [0.6666666666666666, \"#ed7953\"], [0.7777777777777778, \"#fb9f3a\"], [0.8888888888888888, \"#fdca26\"], [1.0, \"#f0f921\"]]}, \"legend\": {\"itemsizing\": \"constant\", \"tracegroupgap\": 0}, \"margin\": {\"b\": 0, \"l\": 0, \"r\": 0, \"t\": 0}, \"scene\": {\"domain\": {\"x\": [0.0, 1.0], \"y\": [0.0, 1.0]}, \"xaxis\": {\"title\": {\"text\": \"0\"}}, \"yaxis\": {\"title\": {\"text\": \"1\"}}, \"zaxis\": {\"title\": {\"text\": \"2\"}}}, \"template\": {\"data\": {\"bar\": [{\"error_x\": {\"color\": \"#2a3f5f\"}, \"error_y\": {\"color\": \"#2a3f5f\"}, \"marker\": {\"line\": {\"color\": \"#E5ECF6\", \"width\": 0.5}}, \"type\": \"bar\"}], \"barpolar\": [{\"marker\": {\"line\": {\"color\": \"#E5ECF6\", \"width\": 0.5}}, \"type\": \"barpolar\"}], \"carpet\": [{\"aaxis\": {\"endlinecolor\": \"#2a3f5f\", \"gridcolor\": \"white\", \"linecolor\": \"white\", \"minorgridcolor\": \"white\", \"startlinecolor\": \"#2a3f5f\"}, \"baxis\": {\"endlinecolor\": \"#2a3f5f\", \"gridcolor\": \"white\", \"linecolor\": \"white\", \"minorgridcolor\": \"white\", \"startlinecolor\": \"#2a3f5f\"}, \"type\": \"carpet\"}], \"choropleth\": [{\"colorbar\": {\"outlinewidth\": 0, \"ticks\": \"\"}, \"type\": \"choropleth\"}], \"contour\": [{\"colorbar\": {\"outlinewidth\": 0, \"ticks\": \"\"}, \"colorscale\": [[0.0, \"#0d0887\"], [0.1111111111111111, \"#46039f\"], [0.2222222222222222, \"#7201a8\"], [0.3333333333333333, \"#9c179e\"], [0.4444444444444444, \"#bd3786\"], [0.5555555555555556, \"#d8576b\"], [0.6666666666666666, \"#ed7953\"], [0.7777777777777778, \"#fb9f3a\"], [0.8888888888888888, \"#fdca26\"], [1.0, \"#f0f921\"]], \"type\": \"contour\"}], \"contourcarpet\": [{\"colorbar\": {\"outlinewidth\": 0, \"ticks\": \"\"}, \"type\": \"contourcarpet\"}], \"heatmap\": [{\"colorbar\": {\"outlinewidth\": 0, \"ticks\": \"\"}, \"colorscale\": [[0.0, \"#0d0887\"], [0.1111111111111111, \"#46039f\"], [0.2222222222222222, \"#7201a8\"], [0.3333333333333333, \"#9c179e\"], [0.4444444444444444, \"#bd3786\"], [0.5555555555555556, \"#d8576b\"], [0.6666666666666666, \"#ed7953\"], [0.7777777777777778, \"#fb9f3a\"], [0.8888888888888888, \"#fdca26\"], [1.0, \"#f0f921\"]], \"type\": \"heatmap\"}], \"heatmapgl\": [{\"colorbar\": {\"outlinewidth\": 0, \"ticks\": \"\"}, \"colorscale\": [[0.0, \"#0d0887\"], [0.1111111111111111, \"#46039f\"], [0.2222222222222222, \"#7201a8\"], [0.3333333333333333, \"#9c179e\"], [0.4444444444444444, \"#bd3786\"], [0.5555555555555556, \"#d8576b\"], [0.6666666666666666, \"#ed7953\"], [0.7777777777777778, \"#fb9f3a\"], [0.8888888888888888, \"#fdca26\"], [1.0, \"#f0f921\"]], \"type\": \"heatmapgl\"}], \"histogram\": [{\"marker\": {\"colorbar\": {\"outlinewidth\": 0, \"ticks\": \"\"}}, \"type\": \"histogram\"}], \"histogram2d\": [{\"colorbar\": {\"outlinewidth\": 0, \"ticks\": \"\"}, \"colorscale\": [[0.0, \"#0d0887\"], [0.1111111111111111, \"#46039f\"], [0.2222222222222222, \"#7201a8\"], [0.3333333333333333, \"#9c179e\"], [0.4444444444444444, \"#bd3786\"], [0.5555555555555556, \"#d8576b\"], [0.6666666666666666, \"#ed7953\"], [0.7777777777777778, \"#fb9f3a\"], [0.8888888888888888, \"#fdca26\"], [1.0, \"#f0f921\"]], \"type\": \"histogram2d\"}], \"histogram2dcontour\": [{\"colorbar\": {\"outlinewidth\": 0, \"ticks\": \"\"}, \"colorscale\": [[0.0, \"#0d0887\"], [0.1111111111111111, \"#46039f\"], [0.2222222222222222, \"#7201a8\"], [0.3333333333333333, \"#9c179e\"], [0.4444444444444444, \"#bd3786\"], [0.5555555555555556, \"#d8576b\"], [0.6666666666666666, \"#ed7953\"], [0.7777777777777778, \"#fb9f3a\"], [0.8888888888888888, \"#fdca26\"], [1.0, \"#f0f921\"]], \"type\": \"histogram2dcontour\"}], \"mesh3d\": [{\"colorbar\": {\"outlinewidth\": 0, \"ticks\": \"\"}, \"type\": \"mesh3d\"}], \"parcoords\": [{\"line\": {\"colorbar\": {\"outlinewidth\": 0, \"ticks\": \"\"}}, \"type\": \"parcoords\"}], \"pie\": [{\"automargin\": true, \"type\": \"pie\"}], \"scatter\": [{\"marker\": {\"colorbar\": {\"outlinewidth\": 0, \"ticks\": \"\"}}, \"type\": \"scatter\"}], \"scatter3d\": [{\"line\": {\"colorbar\": {\"outlinewidth\": 0, \"ticks\": \"\"}}, \"marker\": {\"colorbar\": {\"outlinewidth\": 0, \"ticks\": \"\"}}, \"type\": \"scatter3d\"}], \"scattercarpet\": [{\"marker\": {\"colorbar\": {\"outlinewidth\": 0, \"ticks\": \"\"}}, \"type\": \"scattercarpet\"}], \"scattergeo\": [{\"marker\": {\"colorbar\": {\"outlinewidth\": 0, \"ticks\": \"\"}}, \"type\": \"scattergeo\"}], \"scattergl\": [{\"marker\": {\"colorbar\": {\"outlinewidth\": 0, \"ticks\": \"\"}}, \"type\": \"scattergl\"}], \"scattermapbox\": [{\"marker\": {\"colorbar\": {\"outlinewidth\": 0, \"ticks\": \"\"}}, \"type\": \"scattermapbox\"}], \"scatterpolar\": [{\"marker\": {\"colorbar\": {\"outlinewidth\": 0, \"ticks\": \"\"}}, \"type\": \"scatterpolar\"}], \"scatterpolargl\": [{\"marker\": {\"colorbar\": {\"outlinewidth\": 0, \"ticks\": \"\"}}, \"type\": \"scatterpolargl\"}], \"scatterternary\": [{\"marker\": {\"colorbar\": {\"outlinewidth\": 0, \"ticks\": \"\"}}, \"type\": \"scatterternary\"}], \"surface\": [{\"colorbar\": {\"outlinewidth\": 0, \"ticks\": \"\"}, \"colorscale\": [[0.0, \"#0d0887\"], [0.1111111111111111, \"#46039f\"], [0.2222222222222222, \"#7201a8\"], [0.3333333333333333, \"#9c179e\"], [0.4444444444444444, \"#bd3786\"], [0.5555555555555556, \"#d8576b\"], [0.6666666666666666, \"#ed7953\"], [0.7777777777777778, \"#fb9f3a\"], [0.8888888888888888, \"#fdca26\"], [1.0, \"#f0f921\"]], \"type\": \"surface\"}], \"table\": [{\"cells\": {\"fill\": {\"color\": \"#EBF0F8\"}, \"line\": {\"color\": \"white\"}}, \"header\": {\"fill\": {\"color\": \"#C8D4E3\"}, \"line\": {\"color\": \"white\"}}, \"type\": \"table\"}]}, \"layout\": {\"annotationdefaults\": {\"arrowcolor\": \"#2a3f5f\", \"arrowhead\": 0, \"arrowwidth\": 1}, \"coloraxis\": {\"colorbar\": {\"outlinewidth\": 0, \"ticks\": \"\"}}, \"colorscale\": {\"diverging\": [[0, \"#8e0152\"], [0.1, \"#c51b7d\"], [0.2, \"#de77ae\"], [0.3, \"#f1b6da\"], [0.4, \"#fde0ef\"], [0.5, \"#f7f7f7\"], [0.6, \"#e6f5d0\"], [0.7, \"#b8e186\"], [0.8, \"#7fbc41\"], [0.9, \"#4d9221\"], [1, \"#276419\"]], \"sequential\": [[0.0, \"#0d0887\"], [0.1111111111111111, \"#46039f\"], [0.2222222222222222, \"#7201a8\"], [0.3333333333333333, \"#9c179e\"], [0.4444444444444444, \"#bd3786\"], [0.5555555555555556, \"#d8576b\"], [0.6666666666666666, \"#ed7953\"], [0.7777777777777778, \"#fb9f3a\"], [0.8888888888888888, \"#fdca26\"], [1.0, \"#f0f921\"]], \"sequentialminus\": [[0.0, \"#0d0887\"], [0.1111111111111111, \"#46039f\"], [0.2222222222222222, \"#7201a8\"], [0.3333333333333333, \"#9c179e\"], [0.4444444444444444, \"#bd3786\"], [0.5555555555555556, \"#d8576b\"], [0.6666666666666666, \"#ed7953\"], [0.7777777777777778, \"#fb9f3a\"], [0.8888888888888888, \"#fdca26\"], [1.0, \"#f0f921\"]]}, \"colorway\": [\"#636efa\", \"#EF553B\", \"#00cc96\", \"#ab63fa\", \"#FFA15A\", \"#19d3f3\", \"#FF6692\", \"#B6E880\", \"#FF97FF\", \"#FECB52\"], \"font\": {\"color\": \"#2a3f5f\"}, \"geo\": {\"bgcolor\": \"white\", \"lakecolor\": \"white\", \"landcolor\": \"#E5ECF6\", \"showlakes\": true, \"showland\": true, \"subunitcolor\": \"white\"}, \"hoverlabel\": {\"align\": \"left\"}, \"hovermode\": \"closest\", \"mapbox\": {\"style\": \"light\"}, \"paper_bgcolor\": \"white\", \"plot_bgcolor\": \"#E5ECF6\", \"polar\": {\"angularaxis\": {\"gridcolor\": \"white\", \"linecolor\": \"white\", \"ticks\": \"\"}, \"bgcolor\": \"#E5ECF6\", \"radialaxis\": {\"gridcolor\": \"white\", \"linecolor\": \"white\", \"ticks\": \"\"}}, \"scene\": {\"xaxis\": {\"backgroundcolor\": \"#E5ECF6\", \"gridcolor\": \"white\", \"gridwidth\": 2, \"linecolor\": \"white\", \"showbackground\": true, \"ticks\": \"\", \"zerolinecolor\": \"white\"}, \"yaxis\": {\"backgroundcolor\": \"#E5ECF6\", \"gridcolor\": \"white\", \"gridwidth\": 2, \"linecolor\": \"white\", \"showbackground\": true, \"ticks\": \"\", \"zerolinecolor\": \"white\"}, \"zaxis\": {\"backgroundcolor\": \"#E5ECF6\", \"gridcolor\": \"white\", \"gridwidth\": 2, \"linecolor\": \"white\", \"showbackground\": true, \"ticks\": \"\", \"zerolinecolor\": \"white\"}}, \"shapedefaults\": {\"line\": {\"color\": \"#2a3f5f\"}}, \"ternary\": {\"aaxis\": {\"gridcolor\": \"white\", \"linecolor\": \"white\", \"ticks\": \"\"}, \"baxis\": {\"gridcolor\": \"white\", \"linecolor\": \"white\", \"ticks\": \"\"}, \"bgcolor\": \"#E5ECF6\", \"caxis\": {\"gridcolor\": \"white\", \"linecolor\": \"white\", \"ticks\": \"\"}}, \"title\": {\"x\": 0.05}, \"xaxis\": {\"automargin\": true, \"gridcolor\": \"white\", \"linecolor\": \"white\", \"ticks\": \"\", \"title\": {\"standoff\": 15}, \"zerolinecolor\": \"white\", \"zerolinewidth\": 2}, \"yaxis\": {\"automargin\": true, \"gridcolor\": \"white\", \"linecolor\": \"white\", \"ticks\": \"\", \"title\": {\"standoff\": 15}, \"zerolinecolor\": \"white\", \"zerolinewidth\": 2}}}},\n",
       "                        {\"responsive\": true}\n",
       "                    ).then(function(){\n",
       "                            \n",
       "var gd = document.getElementById('3f38939e-145e-41b7-a76c-49c204f4b482');\n",
       "var x = new MutationObserver(function (mutations, observer) {{\n",
       "        var display = window.getComputedStyle(gd).display;\n",
       "        if (!display || display === 'none') {{\n",
       "            console.log([gd, 'removed!']);\n",
       "            Plotly.purge(gd);\n",
       "            observer.disconnect();\n",
       "        }}\n",
       "}});\n",
       "\n",
       "// Listen for the removal of the full notebook cells\n",
       "var notebookContainer = gd.closest('#notebook-container');\n",
       "if (notebookContainer) {{\n",
       "    x.observe(notebookContainer, {childList: true});\n",
       "}}\n",
       "\n",
       "// Listen for the clearing of the current output cell\n",
       "var outputEl = gd.closest('.output');\n",
       "if (outputEl) {{\n",
       "    x.observe(outputEl, {childList: true});\n",
       "}}\n",
       "\n",
       "                        })\n",
       "                };\n",
       "                });\n",
       "            </script>\n",
       "        </div>"
      ]
     },
     "metadata": {},
     "output_type": "display_data"
    }
   ],
   "source": [
    "#Visualize kmean cluster predictions\n",
    "import plotly.express as px\n",
    "fig = px.scatter_3d(df_kmeans, x=0, y=1, z=2,\n",
    "              color='y', size='y', size_max=18,\n",
    "              symbol='y', opacity=0.7)\n",
    "\n",
    "# tight layout\n",
    "fig.update_layout(margin=dict(l=0, r=0, b=0, t=0))"
   ]
  },
  {
   "cell_type": "markdown",
   "metadata": {},
   "source": [
    "## DBSCAN ##"
   ]
  },
  {
   "cell_type": "code",
   "execution_count": 60,
   "metadata": {},
   "outputs": [],
   "source": [
    "#Import machine learning packages\n",
    "from sklearn.cluster import DBSCAN"
   ]
  },
  {
   "cell_type": "code",
   "execution_count": 96,
   "metadata": {},
   "outputs": [],
   "source": [
    "#DBSCAN clustering\n",
    "dbscan = DBSCAN(eps=0.3, min_samples = 3)\n",
    "pred_y_dbscan = dbscan.fit_predict(scaled_pca_df)"
   ]
  },
  {
   "cell_type": "code",
   "execution_count": 97,
   "metadata": {
    "collapsed": true
   },
   "outputs": [
    {
     "data": {
      "text/html": [
       "<div>\n",
       "<style scoped>\n",
       "    .dataframe tbody tr th:only-of-type {\n",
       "        vertical-align: middle;\n",
       "    }\n",
       "\n",
       "    .dataframe tbody tr th {\n",
       "        vertical-align: top;\n",
       "    }\n",
       "\n",
       "    .dataframe thead th {\n",
       "        text-align: right;\n",
       "    }\n",
       "</style>\n",
       "<table border=\"1\" class=\"dataframe\">\n",
       "  <thead>\n",
       "    <tr style=\"text-align: right;\">\n",
       "      <th></th>\n",
       "      <th>0</th>\n",
       "      <th>1</th>\n",
       "      <th>2</th>\n",
       "    </tr>\n",
       "  </thead>\n",
       "  <tbody>\n",
       "    <tr>\n",
       "      <th>0</th>\n",
       "      <td>-0.308817</td>\n",
       "      <td>-0.763162</td>\n",
       "      <td>0.330161</td>\n",
       "    </tr>\n",
       "    <tr>\n",
       "      <th>1</th>\n",
       "      <td>3.640213</td>\n",
       "      <td>6.193445</td>\n",
       "      <td>4.916614</td>\n",
       "    </tr>\n",
       "    <tr>\n",
       "      <th>2</th>\n",
       "      <td>2.251955</td>\n",
       "      <td>0.027974</td>\n",
       "      <td>-0.326257</td>\n",
       "    </tr>\n",
       "    <tr>\n",
       "      <th>3</th>\n",
       "      <td>-0.115094</td>\n",
       "      <td>-1.052939</td>\n",
       "      <td>-0.038677</td>\n",
       "    </tr>\n",
       "    <tr>\n",
       "      <th>4</th>\n",
       "      <td>-0.002301</td>\n",
       "      <td>-1.024473</td>\n",
       "      <td>-0.197132</td>\n",
       "    </tr>\n",
       "    <tr>\n",
       "      <th>5</th>\n",
       "      <td>-0.217094</td>\n",
       "      <td>-1.039467</td>\n",
       "      <td>-0.209766</td>\n",
       "    </tr>\n",
       "    <tr>\n",
       "      <th>6</th>\n",
       "      <td>-0.290267</td>\n",
       "      <td>-1.324008</td>\n",
       "      <td>0.868679</td>\n",
       "    </tr>\n",
       "    <tr>\n",
       "      <th>7</th>\n",
       "      <td>-4.389535</td>\n",
       "      <td>-0.103450</td>\n",
       "      <td>7.987193</td>\n",
       "    </tr>\n",
       "    <tr>\n",
       "      <th>8</th>\n",
       "      <td>-0.022236</td>\n",
       "      <td>-1.162737</td>\n",
       "      <td>-0.450219</td>\n",
       "    </tr>\n",
       "    <tr>\n",
       "      <th>9</th>\n",
       "      <td>1.747116</td>\n",
       "      <td>-0.183207</td>\n",
       "      <td>-0.854250</td>\n",
       "    </tr>\n",
       "    <tr>\n",
       "      <th>10</th>\n",
       "      <td>0.041168</td>\n",
       "      <td>-1.027883</td>\n",
       "      <td>-0.009795</td>\n",
       "    </tr>\n",
       "    <tr>\n",
       "      <th>11</th>\n",
       "      <td>-0.755393</td>\n",
       "      <td>-1.099267</td>\n",
       "      <td>0.497208</td>\n",
       "    </tr>\n",
       "    <tr>\n",
       "      <th>12</th>\n",
       "      <td>0.236221</td>\n",
       "      <td>0.568330</td>\n",
       "      <td>-0.148114</td>\n",
       "    </tr>\n",
       "    <tr>\n",
       "      <th>13</th>\n",
       "      <td>0.337682</td>\n",
       "      <td>-1.291105</td>\n",
       "      <td>-0.076818</td>\n",
       "    </tr>\n",
       "    <tr>\n",
       "      <th>14</th>\n",
       "      <td>0.459257</td>\n",
       "      <td>-0.972072</td>\n",
       "      <td>0.281542</td>\n",
       "    </tr>\n",
       "    <tr>\n",
       "      <th>15</th>\n",
       "      <td>1.010044</td>\n",
       "      <td>0.884078</td>\n",
       "      <td>2.682083</td>\n",
       "    </tr>\n",
       "    <tr>\n",
       "      <th>16</th>\n",
       "      <td>-0.462998</td>\n",
       "      <td>-0.988247</td>\n",
       "      <td>-0.477988</td>\n",
       "    </tr>\n",
       "    <tr>\n",
       "      <th>17</th>\n",
       "      <td>2.351365</td>\n",
       "      <td>1.140198</td>\n",
       "      <td>0.056672</td>\n",
       "    </tr>\n",
       "    <tr>\n",
       "      <th>18</th>\n",
       "      <td>1.115744</td>\n",
       "      <td>0.620439</td>\n",
       "      <td>0.571105</td>\n",
       "    </tr>\n",
       "    <tr>\n",
       "      <th>19</th>\n",
       "      <td>0.015841</td>\n",
       "      <td>-0.957454</td>\n",
       "      <td>-0.112502</td>\n",
       "    </tr>\n",
       "    <tr>\n",
       "      <th>20</th>\n",
       "      <td>0.106061</td>\n",
       "      <td>-0.283082</td>\n",
       "      <td>0.276593</td>\n",
       "    </tr>\n",
       "    <tr>\n",
       "      <th>21</th>\n",
       "      <td>0.213979</td>\n",
       "      <td>-1.065052</td>\n",
       "      <td>-0.202840</td>\n",
       "    </tr>\n",
       "    <tr>\n",
       "      <th>22</th>\n",
       "      <td>-2.104998</td>\n",
       "      <td>2.374043</td>\n",
       "      <td>-0.341106</td>\n",
       "    </tr>\n",
       "    <tr>\n",
       "      <th>23</th>\n",
       "      <td>0.260338</td>\n",
       "      <td>0.548033</td>\n",
       "      <td>0.500163</td>\n",
       "    </tr>\n",
       "    <tr>\n",
       "      <th>24</th>\n",
       "      <td>-4.322873</td>\n",
       "      <td>2.653857</td>\n",
       "      <td>3.962492</td>\n",
       "    </tr>\n",
       "    <tr>\n",
       "      <th>25</th>\n",
       "      <td>-0.142083</td>\n",
       "      <td>-0.961677</td>\n",
       "      <td>-0.117125</td>\n",
       "    </tr>\n",
       "    <tr>\n",
       "      <th>26</th>\n",
       "      <td>-1.074500</td>\n",
       "      <td>-0.964789</td>\n",
       "      <td>0.392823</td>\n",
       "    </tr>\n",
       "    <tr>\n",
       "      <th>27</th>\n",
       "      <td>0.037373</td>\n",
       "      <td>-1.054321</td>\n",
       "      <td>-0.056898</td>\n",
       "    </tr>\n",
       "    <tr>\n",
       "      <th>28</th>\n",
       "      <td>1.695023</td>\n",
       "      <td>2.074146</td>\n",
       "      <td>-1.058422</td>\n",
       "    </tr>\n",
       "    <tr>\n",
       "      <th>29</th>\n",
       "      <td>1.906463</td>\n",
       "      <td>0.185187</td>\n",
       "      <td>-0.608349</td>\n",
       "    </tr>\n",
       "    <tr>\n",
       "      <th>...</th>\n",
       "      <td>...</td>\n",
       "      <td>...</td>\n",
       "      <td>...</td>\n",
       "    </tr>\n",
       "    <tr>\n",
       "      <th>184</th>\n",
       "      <td>-0.120299</td>\n",
       "      <td>-1.221846</td>\n",
       "      <td>-0.624742</td>\n",
       "    </tr>\n",
       "    <tr>\n",
       "      <th>185</th>\n",
       "      <td>-3.282797</td>\n",
       "      <td>-0.041791</td>\n",
       "      <td>-5.165069</td>\n",
       "    </tr>\n",
       "    <tr>\n",
       "      <th>186</th>\n",
       "      <td>1.631076</td>\n",
       "      <td>1.318617</td>\n",
       "      <td>0.129415</td>\n",
       "    </tr>\n",
       "    <tr>\n",
       "      <th>187</th>\n",
       "      <td>-0.734604</td>\n",
       "      <td>-0.922387</td>\n",
       "      <td>-0.539023</td>\n",
       "    </tr>\n",
       "    <tr>\n",
       "      <th>188</th>\n",
       "      <td>0.415149</td>\n",
       "      <td>-0.293287</td>\n",
       "      <td>0.198334</td>\n",
       "    </tr>\n",
       "    <tr>\n",
       "      <th>189</th>\n",
       "      <td>-0.121350</td>\n",
       "      <td>-1.062704</td>\n",
       "      <td>-0.131807</td>\n",
       "    </tr>\n",
       "    <tr>\n",
       "      <th>190</th>\n",
       "      <td>0.081754</td>\n",
       "      <td>-0.966019</td>\n",
       "      <td>-0.036589</td>\n",
       "    </tr>\n",
       "    <tr>\n",
       "      <th>191</th>\n",
       "      <td>0.028627</td>\n",
       "      <td>-0.803704</td>\n",
       "      <td>-0.085669</td>\n",
       "    </tr>\n",
       "    <tr>\n",
       "      <th>192</th>\n",
       "      <td>-2.383835</td>\n",
       "      <td>3.061677</td>\n",
       "      <td>0.090445</td>\n",
       "    </tr>\n",
       "    <tr>\n",
       "      <th>193</th>\n",
       "      <td>-0.867763</td>\n",
       "      <td>-1.078018</td>\n",
       "      <td>-0.643264</td>\n",
       "    </tr>\n",
       "    <tr>\n",
       "      <th>194</th>\n",
       "      <td>-1.680246</td>\n",
       "      <td>3.284823</td>\n",
       "      <td>-0.930349</td>\n",
       "    </tr>\n",
       "    <tr>\n",
       "      <th>195</th>\n",
       "      <td>0.256499</td>\n",
       "      <td>0.639225</td>\n",
       "      <td>-0.718543</td>\n",
       "    </tr>\n",
       "    <tr>\n",
       "      <th>196</th>\n",
       "      <td>0.544544</td>\n",
       "      <td>1.767245</td>\n",
       "      <td>-0.144292</td>\n",
       "    </tr>\n",
       "    <tr>\n",
       "      <th>197</th>\n",
       "      <td>1.884838</td>\n",
       "      <td>-0.296476</td>\n",
       "      <td>0.049091</td>\n",
       "    </tr>\n",
       "    <tr>\n",
       "      <th>198</th>\n",
       "      <td>-0.069086</td>\n",
       "      <td>-1.163904</td>\n",
       "      <td>-0.017405</td>\n",
       "    </tr>\n",
       "    <tr>\n",
       "      <th>199</th>\n",
       "      <td>0.793041</td>\n",
       "      <td>-0.604328</td>\n",
       "      <td>-0.200962</td>\n",
       "    </tr>\n",
       "    <tr>\n",
       "      <th>200</th>\n",
       "      <td>-2.325668</td>\n",
       "      <td>-0.462400</td>\n",
       "      <td>-2.391103</td>\n",
       "    </tr>\n",
       "    <tr>\n",
       "      <th>201</th>\n",
       "      <td>1.786186</td>\n",
       "      <td>0.312752</td>\n",
       "      <td>0.705309</td>\n",
       "    </tr>\n",
       "    <tr>\n",
       "      <th>202</th>\n",
       "      <td>0.205674</td>\n",
       "      <td>-0.999183</td>\n",
       "      <td>0.636027</td>\n",
       "    </tr>\n",
       "    <tr>\n",
       "      <th>203</th>\n",
       "      <td>0.298261</td>\n",
       "      <td>-1.164893</td>\n",
       "      <td>0.324945</td>\n",
       "    </tr>\n",
       "    <tr>\n",
       "      <th>204</th>\n",
       "      <td>-0.020816</td>\n",
       "      <td>-0.321933</td>\n",
       "      <td>-0.109060</td>\n",
       "    </tr>\n",
       "    <tr>\n",
       "      <th>205</th>\n",
       "      <td>-1.377386</td>\n",
       "      <td>-0.870759</td>\n",
       "      <td>1.000981</td>\n",
       "    </tr>\n",
       "    <tr>\n",
       "      <th>206</th>\n",
       "      <td>1.458124</td>\n",
       "      <td>0.098841</td>\n",
       "      <td>-0.486885</td>\n",
       "    </tr>\n",
       "    <tr>\n",
       "      <th>207</th>\n",
       "      <td>-0.702192</td>\n",
       "      <td>-0.751137</td>\n",
       "      <td>0.321325</td>\n",
       "    </tr>\n",
       "    <tr>\n",
       "      <th>208</th>\n",
       "      <td>-0.002281</td>\n",
       "      <td>-0.959298</td>\n",
       "      <td>0.080500</td>\n",
       "    </tr>\n",
       "    <tr>\n",
       "      <th>209</th>\n",
       "      <td>2.004885</td>\n",
       "      <td>-0.363499</td>\n",
       "      <td>0.141928</td>\n",
       "    </tr>\n",
       "    <tr>\n",
       "      <th>210</th>\n",
       "      <td>0.749344</td>\n",
       "      <td>-0.870095</td>\n",
       "      <td>0.982660</td>\n",
       "    </tr>\n",
       "    <tr>\n",
       "      <th>211</th>\n",
       "      <td>0.173458</td>\n",
       "      <td>-1.182440</td>\n",
       "      <td>-0.204006</td>\n",
       "    </tr>\n",
       "    <tr>\n",
       "      <th>212</th>\n",
       "      <td>0.991659</td>\n",
       "      <td>-1.021900</td>\n",
       "      <td>0.828406</td>\n",
       "    </tr>\n",
       "    <tr>\n",
       "      <th>213</th>\n",
       "      <td>-4.432540</td>\n",
       "      <td>-0.168680</td>\n",
       "      <td>7.854282</td>\n",
       "    </tr>\n",
       "  </tbody>\n",
       "</table>\n",
       "<p>214 rows × 3 columns</p>\n",
       "</div>"
      ],
      "text/plain": [
       "            0         1         2\n",
       "0   -0.308817 -0.763162  0.330161\n",
       "1    3.640213  6.193445  4.916614\n",
       "2    2.251955  0.027974 -0.326257\n",
       "3   -0.115094 -1.052939 -0.038677\n",
       "4   -0.002301 -1.024473 -0.197132\n",
       "5   -0.217094 -1.039467 -0.209766\n",
       "6   -0.290267 -1.324008  0.868679\n",
       "7   -4.389535 -0.103450  7.987193\n",
       "8   -0.022236 -1.162737 -0.450219\n",
       "9    1.747116 -0.183207 -0.854250\n",
       "10   0.041168 -1.027883 -0.009795\n",
       "11  -0.755393 -1.099267  0.497208\n",
       "12   0.236221  0.568330 -0.148114\n",
       "13   0.337682 -1.291105 -0.076818\n",
       "14   0.459257 -0.972072  0.281542\n",
       "15   1.010044  0.884078  2.682083\n",
       "16  -0.462998 -0.988247 -0.477988\n",
       "17   2.351365  1.140198  0.056672\n",
       "18   1.115744  0.620439  0.571105\n",
       "19   0.015841 -0.957454 -0.112502\n",
       "20   0.106061 -0.283082  0.276593\n",
       "21   0.213979 -1.065052 -0.202840\n",
       "22  -2.104998  2.374043 -0.341106\n",
       "23   0.260338  0.548033  0.500163\n",
       "24  -4.322873  2.653857  3.962492\n",
       "25  -0.142083 -0.961677 -0.117125\n",
       "26  -1.074500 -0.964789  0.392823\n",
       "27   0.037373 -1.054321 -0.056898\n",
       "28   1.695023  2.074146 -1.058422\n",
       "29   1.906463  0.185187 -0.608349\n",
       "..        ...       ...       ...\n",
       "184 -0.120299 -1.221846 -0.624742\n",
       "185 -3.282797 -0.041791 -5.165069\n",
       "186  1.631076  1.318617  0.129415\n",
       "187 -0.734604 -0.922387 -0.539023\n",
       "188  0.415149 -0.293287  0.198334\n",
       "189 -0.121350 -1.062704 -0.131807\n",
       "190  0.081754 -0.966019 -0.036589\n",
       "191  0.028627 -0.803704 -0.085669\n",
       "192 -2.383835  3.061677  0.090445\n",
       "193 -0.867763 -1.078018 -0.643264\n",
       "194 -1.680246  3.284823 -0.930349\n",
       "195  0.256499  0.639225 -0.718543\n",
       "196  0.544544  1.767245 -0.144292\n",
       "197  1.884838 -0.296476  0.049091\n",
       "198 -0.069086 -1.163904 -0.017405\n",
       "199  0.793041 -0.604328 -0.200962\n",
       "200 -2.325668 -0.462400 -2.391103\n",
       "201  1.786186  0.312752  0.705309\n",
       "202  0.205674 -0.999183  0.636027\n",
       "203  0.298261 -1.164893  0.324945\n",
       "204 -0.020816 -0.321933 -0.109060\n",
       "205 -1.377386 -0.870759  1.000981\n",
       "206  1.458124  0.098841 -0.486885\n",
       "207 -0.702192 -0.751137  0.321325\n",
       "208 -0.002281 -0.959298  0.080500\n",
       "209  2.004885 -0.363499  0.141928\n",
       "210  0.749344 -0.870095  0.982660\n",
       "211  0.173458 -1.182440 -0.204006\n",
       "212  0.991659 -1.021900  0.828406\n",
       "213 -4.432540 -0.168680  7.854282\n",
       "\n",
       "[214 rows x 3 columns]"
      ]
     },
     "execution_count": 97,
     "metadata": {},
     "output_type": "execute_result"
    }
   ],
   "source": [
    "#Create dataframe\n",
    "df_dbscan = pd.DataFrame(scaled_pca_df)\n",
    "df_dbscan"
   ]
  },
  {
   "cell_type": "code",
   "execution_count": 98,
   "metadata": {
    "collapsed": true
   },
   "outputs": [
    {
     "data": {
      "text/html": [
       "<div>\n",
       "<style scoped>\n",
       "    .dataframe tbody tr th:only-of-type {\n",
       "        vertical-align: middle;\n",
       "    }\n",
       "\n",
       "    .dataframe tbody tr th {\n",
       "        vertical-align: top;\n",
       "    }\n",
       "\n",
       "    .dataframe thead th {\n",
       "        text-align: right;\n",
       "    }\n",
       "</style>\n",
       "<table border=\"1\" class=\"dataframe\">\n",
       "  <thead>\n",
       "    <tr style=\"text-align: right;\">\n",
       "      <th></th>\n",
       "      <th>0</th>\n",
       "      <th>1</th>\n",
       "      <th>2</th>\n",
       "      <th>y</th>\n",
       "    </tr>\n",
       "  </thead>\n",
       "  <tbody>\n",
       "    <tr>\n",
       "      <th>0</th>\n",
       "      <td>-0.308817</td>\n",
       "      <td>-0.763162</td>\n",
       "      <td>0.330161</td>\n",
       "      <td>0</td>\n",
       "    </tr>\n",
       "    <tr>\n",
       "      <th>1</th>\n",
       "      <td>3.640213</td>\n",
       "      <td>6.193445</td>\n",
       "      <td>4.916614</td>\n",
       "      <td>-1</td>\n",
       "    </tr>\n",
       "    <tr>\n",
       "      <th>2</th>\n",
       "      <td>2.251955</td>\n",
       "      <td>0.027974</td>\n",
       "      <td>-0.326257</td>\n",
       "      <td>5</td>\n",
       "    </tr>\n",
       "    <tr>\n",
       "      <th>3</th>\n",
       "      <td>-0.115094</td>\n",
       "      <td>-1.052939</td>\n",
       "      <td>-0.038677</td>\n",
       "      <td>0</td>\n",
       "    </tr>\n",
       "    <tr>\n",
       "      <th>4</th>\n",
       "      <td>-0.002301</td>\n",
       "      <td>-1.024473</td>\n",
       "      <td>-0.197132</td>\n",
       "      <td>0</td>\n",
       "    </tr>\n",
       "    <tr>\n",
       "      <th>5</th>\n",
       "      <td>-0.217094</td>\n",
       "      <td>-1.039467</td>\n",
       "      <td>-0.209766</td>\n",
       "      <td>0</td>\n",
       "    </tr>\n",
       "    <tr>\n",
       "      <th>6</th>\n",
       "      <td>-0.290267</td>\n",
       "      <td>-1.324008</td>\n",
       "      <td>0.868679</td>\n",
       "      <td>1</td>\n",
       "    </tr>\n",
       "    <tr>\n",
       "      <th>7</th>\n",
       "      <td>-4.389535</td>\n",
       "      <td>-0.103450</td>\n",
       "      <td>7.987193</td>\n",
       "      <td>-1</td>\n",
       "    </tr>\n",
       "    <tr>\n",
       "      <th>8</th>\n",
       "      <td>-0.022236</td>\n",
       "      <td>-1.162737</td>\n",
       "      <td>-0.450219</td>\n",
       "      <td>0</td>\n",
       "    </tr>\n",
       "    <tr>\n",
       "      <th>9</th>\n",
       "      <td>1.747116</td>\n",
       "      <td>-0.183207</td>\n",
       "      <td>-0.854250</td>\n",
       "      <td>2</td>\n",
       "    </tr>\n",
       "    <tr>\n",
       "      <th>10</th>\n",
       "      <td>0.041168</td>\n",
       "      <td>-1.027883</td>\n",
       "      <td>-0.009795</td>\n",
       "      <td>0</td>\n",
       "    </tr>\n",
       "    <tr>\n",
       "      <th>11</th>\n",
       "      <td>-0.755393</td>\n",
       "      <td>-1.099267</td>\n",
       "      <td>0.497208</td>\n",
       "      <td>0</td>\n",
       "    </tr>\n",
       "    <tr>\n",
       "      <th>12</th>\n",
       "      <td>0.236221</td>\n",
       "      <td>0.568330</td>\n",
       "      <td>-0.148114</td>\n",
       "      <td>-1</td>\n",
       "    </tr>\n",
       "    <tr>\n",
       "      <th>13</th>\n",
       "      <td>0.337682</td>\n",
       "      <td>-1.291105</td>\n",
       "      <td>-0.076818</td>\n",
       "      <td>0</td>\n",
       "    </tr>\n",
       "    <tr>\n",
       "      <th>14</th>\n",
       "      <td>0.459257</td>\n",
       "      <td>-0.972072</td>\n",
       "      <td>0.281542</td>\n",
       "      <td>0</td>\n",
       "    </tr>\n",
       "    <tr>\n",
       "      <th>15</th>\n",
       "      <td>1.010044</td>\n",
       "      <td>0.884078</td>\n",
       "      <td>2.682083</td>\n",
       "      <td>-1</td>\n",
       "    </tr>\n",
       "    <tr>\n",
       "      <th>16</th>\n",
       "      <td>-0.462998</td>\n",
       "      <td>-0.988247</td>\n",
       "      <td>-0.477988</td>\n",
       "      <td>0</td>\n",
       "    </tr>\n",
       "    <tr>\n",
       "      <th>17</th>\n",
       "      <td>2.351365</td>\n",
       "      <td>1.140198</td>\n",
       "      <td>0.056672</td>\n",
       "      <td>-1</td>\n",
       "    </tr>\n",
       "    <tr>\n",
       "      <th>18</th>\n",
       "      <td>1.115744</td>\n",
       "      <td>0.620439</td>\n",
       "      <td>0.571105</td>\n",
       "      <td>-1</td>\n",
       "    </tr>\n",
       "    <tr>\n",
       "      <th>19</th>\n",
       "      <td>0.015841</td>\n",
       "      <td>-0.957454</td>\n",
       "      <td>-0.112502</td>\n",
       "      <td>0</td>\n",
       "    </tr>\n",
       "    <tr>\n",
       "      <th>20</th>\n",
       "      <td>0.106061</td>\n",
       "      <td>-0.283082</td>\n",
       "      <td>0.276593</td>\n",
       "      <td>3</td>\n",
       "    </tr>\n",
       "    <tr>\n",
       "      <th>21</th>\n",
       "      <td>0.213979</td>\n",
       "      <td>-1.065052</td>\n",
       "      <td>-0.202840</td>\n",
       "      <td>0</td>\n",
       "    </tr>\n",
       "    <tr>\n",
       "      <th>22</th>\n",
       "      <td>-2.104998</td>\n",
       "      <td>2.374043</td>\n",
       "      <td>-0.341106</td>\n",
       "      <td>4</td>\n",
       "    </tr>\n",
       "    <tr>\n",
       "      <th>23</th>\n",
       "      <td>0.260338</td>\n",
       "      <td>0.548033</td>\n",
       "      <td>0.500163</td>\n",
       "      <td>-1</td>\n",
       "    </tr>\n",
       "    <tr>\n",
       "      <th>24</th>\n",
       "      <td>-4.322873</td>\n",
       "      <td>2.653857</td>\n",
       "      <td>3.962492</td>\n",
       "      <td>-1</td>\n",
       "    </tr>\n",
       "    <tr>\n",
       "      <th>25</th>\n",
       "      <td>-0.142083</td>\n",
       "      <td>-0.961677</td>\n",
       "      <td>-0.117125</td>\n",
       "      <td>0</td>\n",
       "    </tr>\n",
       "    <tr>\n",
       "      <th>26</th>\n",
       "      <td>-1.074500</td>\n",
       "      <td>-0.964789</td>\n",
       "      <td>0.392823</td>\n",
       "      <td>-1</td>\n",
       "    </tr>\n",
       "    <tr>\n",
       "      <th>27</th>\n",
       "      <td>0.037373</td>\n",
       "      <td>-1.054321</td>\n",
       "      <td>-0.056898</td>\n",
       "      <td>0</td>\n",
       "    </tr>\n",
       "    <tr>\n",
       "      <th>28</th>\n",
       "      <td>1.695023</td>\n",
       "      <td>2.074146</td>\n",
       "      <td>-1.058422</td>\n",
       "      <td>-1</td>\n",
       "    </tr>\n",
       "    <tr>\n",
       "      <th>29</th>\n",
       "      <td>1.906463</td>\n",
       "      <td>0.185187</td>\n",
       "      <td>-0.608349</td>\n",
       "      <td>-1</td>\n",
       "    </tr>\n",
       "    <tr>\n",
       "      <th>...</th>\n",
       "      <td>...</td>\n",
       "      <td>...</td>\n",
       "      <td>...</td>\n",
       "      <td>...</td>\n",
       "    </tr>\n",
       "    <tr>\n",
       "      <th>184</th>\n",
       "      <td>-0.120299</td>\n",
       "      <td>-1.221846</td>\n",
       "      <td>-0.624742</td>\n",
       "      <td>0</td>\n",
       "    </tr>\n",
       "    <tr>\n",
       "      <th>185</th>\n",
       "      <td>-3.282797</td>\n",
       "      <td>-0.041791</td>\n",
       "      <td>-5.165069</td>\n",
       "      <td>-1</td>\n",
       "    </tr>\n",
       "    <tr>\n",
       "      <th>186</th>\n",
       "      <td>1.631076</td>\n",
       "      <td>1.318617</td>\n",
       "      <td>0.129415</td>\n",
       "      <td>-1</td>\n",
       "    </tr>\n",
       "    <tr>\n",
       "      <th>187</th>\n",
       "      <td>-0.734604</td>\n",
       "      <td>-0.922387</td>\n",
       "      <td>-0.539023</td>\n",
       "      <td>0</td>\n",
       "    </tr>\n",
       "    <tr>\n",
       "      <th>188</th>\n",
       "      <td>0.415149</td>\n",
       "      <td>-0.293287</td>\n",
       "      <td>0.198334</td>\n",
       "      <td>7</td>\n",
       "    </tr>\n",
       "    <tr>\n",
       "      <th>189</th>\n",
       "      <td>-0.121350</td>\n",
       "      <td>-1.062704</td>\n",
       "      <td>-0.131807</td>\n",
       "      <td>0</td>\n",
       "    </tr>\n",
       "    <tr>\n",
       "      <th>190</th>\n",
       "      <td>0.081754</td>\n",
       "      <td>-0.966019</td>\n",
       "      <td>-0.036589</td>\n",
       "      <td>0</td>\n",
       "    </tr>\n",
       "    <tr>\n",
       "      <th>191</th>\n",
       "      <td>0.028627</td>\n",
       "      <td>-0.803704</td>\n",
       "      <td>-0.085669</td>\n",
       "      <td>0</td>\n",
       "    </tr>\n",
       "    <tr>\n",
       "      <th>192</th>\n",
       "      <td>-2.383835</td>\n",
       "      <td>3.061677</td>\n",
       "      <td>0.090445</td>\n",
       "      <td>-1</td>\n",
       "    </tr>\n",
       "    <tr>\n",
       "      <th>193</th>\n",
       "      <td>-0.867763</td>\n",
       "      <td>-1.078018</td>\n",
       "      <td>-0.643264</td>\n",
       "      <td>0</td>\n",
       "    </tr>\n",
       "    <tr>\n",
       "      <th>194</th>\n",
       "      <td>-1.680246</td>\n",
       "      <td>3.284823</td>\n",
       "      <td>-0.930349</td>\n",
       "      <td>-1</td>\n",
       "    </tr>\n",
       "    <tr>\n",
       "      <th>195</th>\n",
       "      <td>0.256499</td>\n",
       "      <td>0.639225</td>\n",
       "      <td>-0.718543</td>\n",
       "      <td>-1</td>\n",
       "    </tr>\n",
       "    <tr>\n",
       "      <th>196</th>\n",
       "      <td>0.544544</td>\n",
       "      <td>1.767245</td>\n",
       "      <td>-0.144292</td>\n",
       "      <td>-1</td>\n",
       "    </tr>\n",
       "    <tr>\n",
       "      <th>197</th>\n",
       "      <td>1.884838</td>\n",
       "      <td>-0.296476</td>\n",
       "      <td>0.049091</td>\n",
       "      <td>10</td>\n",
       "    </tr>\n",
       "    <tr>\n",
       "      <th>198</th>\n",
       "      <td>-0.069086</td>\n",
       "      <td>-1.163904</td>\n",
       "      <td>-0.017405</td>\n",
       "      <td>0</td>\n",
       "    </tr>\n",
       "    <tr>\n",
       "      <th>199</th>\n",
       "      <td>0.793041</td>\n",
       "      <td>-0.604328</td>\n",
       "      <td>-0.200962</td>\n",
       "      <td>-1</td>\n",
       "    </tr>\n",
       "    <tr>\n",
       "      <th>200</th>\n",
       "      <td>-2.325668</td>\n",
       "      <td>-0.462400</td>\n",
       "      <td>-2.391103</td>\n",
       "      <td>-1</td>\n",
       "    </tr>\n",
       "    <tr>\n",
       "      <th>201</th>\n",
       "      <td>1.786186</td>\n",
       "      <td>0.312752</td>\n",
       "      <td>0.705309</td>\n",
       "      <td>-1</td>\n",
       "    </tr>\n",
       "    <tr>\n",
       "      <th>202</th>\n",
       "      <td>0.205674</td>\n",
       "      <td>-0.999183</td>\n",
       "      <td>0.636027</td>\n",
       "      <td>0</td>\n",
       "    </tr>\n",
       "    <tr>\n",
       "      <th>203</th>\n",
       "      <td>0.298261</td>\n",
       "      <td>-1.164893</td>\n",
       "      <td>0.324945</td>\n",
       "      <td>0</td>\n",
       "    </tr>\n",
       "    <tr>\n",
       "      <th>204</th>\n",
       "      <td>-0.020816</td>\n",
       "      <td>-0.321933</td>\n",
       "      <td>-0.109060</td>\n",
       "      <td>3</td>\n",
       "    </tr>\n",
       "    <tr>\n",
       "      <th>205</th>\n",
       "      <td>-1.377386</td>\n",
       "      <td>-0.870759</td>\n",
       "      <td>1.000981</td>\n",
       "      <td>-1</td>\n",
       "    </tr>\n",
       "    <tr>\n",
       "      <th>206</th>\n",
       "      <td>1.458124</td>\n",
       "      <td>0.098841</td>\n",
       "      <td>-0.486885</td>\n",
       "      <td>11</td>\n",
       "    </tr>\n",
       "    <tr>\n",
       "      <th>207</th>\n",
       "      <td>-0.702192</td>\n",
       "      <td>-0.751137</td>\n",
       "      <td>0.321325</td>\n",
       "      <td>0</td>\n",
       "    </tr>\n",
       "    <tr>\n",
       "      <th>208</th>\n",
       "      <td>-0.002281</td>\n",
       "      <td>-0.959298</td>\n",
       "      <td>0.080500</td>\n",
       "      <td>0</td>\n",
       "    </tr>\n",
       "    <tr>\n",
       "      <th>209</th>\n",
       "      <td>2.004885</td>\n",
       "      <td>-0.363499</td>\n",
       "      <td>0.141928</td>\n",
       "      <td>10</td>\n",
       "    </tr>\n",
       "    <tr>\n",
       "      <th>210</th>\n",
       "      <td>0.749344</td>\n",
       "      <td>-0.870095</td>\n",
       "      <td>0.982660</td>\n",
       "      <td>6</td>\n",
       "    </tr>\n",
       "    <tr>\n",
       "      <th>211</th>\n",
       "      <td>0.173458</td>\n",
       "      <td>-1.182440</td>\n",
       "      <td>-0.204006</td>\n",
       "      <td>0</td>\n",
       "    </tr>\n",
       "    <tr>\n",
       "      <th>212</th>\n",
       "      <td>0.991659</td>\n",
       "      <td>-1.021900</td>\n",
       "      <td>0.828406</td>\n",
       "      <td>6</td>\n",
       "    </tr>\n",
       "    <tr>\n",
       "      <th>213</th>\n",
       "      <td>-4.432540</td>\n",
       "      <td>-0.168680</td>\n",
       "      <td>7.854282</td>\n",
       "      <td>-1</td>\n",
       "    </tr>\n",
       "  </tbody>\n",
       "</table>\n",
       "<p>214 rows × 4 columns</p>\n",
       "</div>"
      ],
      "text/plain": [
       "            0         1         2   y\n",
       "0   -0.308817 -0.763162  0.330161   0\n",
       "1    3.640213  6.193445  4.916614  -1\n",
       "2    2.251955  0.027974 -0.326257   5\n",
       "3   -0.115094 -1.052939 -0.038677   0\n",
       "4   -0.002301 -1.024473 -0.197132   0\n",
       "5   -0.217094 -1.039467 -0.209766   0\n",
       "6   -0.290267 -1.324008  0.868679   1\n",
       "7   -4.389535 -0.103450  7.987193  -1\n",
       "8   -0.022236 -1.162737 -0.450219   0\n",
       "9    1.747116 -0.183207 -0.854250   2\n",
       "10   0.041168 -1.027883 -0.009795   0\n",
       "11  -0.755393 -1.099267  0.497208   0\n",
       "12   0.236221  0.568330 -0.148114  -1\n",
       "13   0.337682 -1.291105 -0.076818   0\n",
       "14   0.459257 -0.972072  0.281542   0\n",
       "15   1.010044  0.884078  2.682083  -1\n",
       "16  -0.462998 -0.988247 -0.477988   0\n",
       "17   2.351365  1.140198  0.056672  -1\n",
       "18   1.115744  0.620439  0.571105  -1\n",
       "19   0.015841 -0.957454 -0.112502   0\n",
       "20   0.106061 -0.283082  0.276593   3\n",
       "21   0.213979 -1.065052 -0.202840   0\n",
       "22  -2.104998  2.374043 -0.341106   4\n",
       "23   0.260338  0.548033  0.500163  -1\n",
       "24  -4.322873  2.653857  3.962492  -1\n",
       "25  -0.142083 -0.961677 -0.117125   0\n",
       "26  -1.074500 -0.964789  0.392823  -1\n",
       "27   0.037373 -1.054321 -0.056898   0\n",
       "28   1.695023  2.074146 -1.058422  -1\n",
       "29   1.906463  0.185187 -0.608349  -1\n",
       "..        ...       ...       ...  ..\n",
       "184 -0.120299 -1.221846 -0.624742   0\n",
       "185 -3.282797 -0.041791 -5.165069  -1\n",
       "186  1.631076  1.318617  0.129415  -1\n",
       "187 -0.734604 -0.922387 -0.539023   0\n",
       "188  0.415149 -0.293287  0.198334   7\n",
       "189 -0.121350 -1.062704 -0.131807   0\n",
       "190  0.081754 -0.966019 -0.036589   0\n",
       "191  0.028627 -0.803704 -0.085669   0\n",
       "192 -2.383835  3.061677  0.090445  -1\n",
       "193 -0.867763 -1.078018 -0.643264   0\n",
       "194 -1.680246  3.284823 -0.930349  -1\n",
       "195  0.256499  0.639225 -0.718543  -1\n",
       "196  0.544544  1.767245 -0.144292  -1\n",
       "197  1.884838 -0.296476  0.049091  10\n",
       "198 -0.069086 -1.163904 -0.017405   0\n",
       "199  0.793041 -0.604328 -0.200962  -1\n",
       "200 -2.325668 -0.462400 -2.391103  -1\n",
       "201  1.786186  0.312752  0.705309  -1\n",
       "202  0.205674 -0.999183  0.636027   0\n",
       "203  0.298261 -1.164893  0.324945   0\n",
       "204 -0.020816 -0.321933 -0.109060   3\n",
       "205 -1.377386 -0.870759  1.000981  -1\n",
       "206  1.458124  0.098841 -0.486885  11\n",
       "207 -0.702192 -0.751137  0.321325   0\n",
       "208 -0.002281 -0.959298  0.080500   0\n",
       "209  2.004885 -0.363499  0.141928  10\n",
       "210  0.749344 -0.870095  0.982660   6\n",
       "211  0.173458 -1.182440 -0.204006   0\n",
       "212  0.991659 -1.021900  0.828406   6\n",
       "213 -4.432540 -0.168680  7.854282  -1\n",
       "\n",
       "[214 rows x 4 columns]"
      ]
     },
     "execution_count": 98,
     "metadata": {},
     "output_type": "execute_result"
    }
   ],
   "source": [
    "#Append dbscan cluster predictions into dataframe\n",
    "df_dbscan['y'] = pred_y_dbscan\n",
    "df_dbscan"
   ]
  },
  {
   "cell_type": "code",
   "execution_count": 100,
   "metadata": {},
   "outputs": [],
   "source": [
    "#Replace negative predictions\n",
    "df_dbscan['y'] = df_dbscan['y'].replace([-1], 12)"
   ]
  },
  {
   "cell_type": "code",
   "execution_count": 101,
   "metadata": {},
   "outputs": [
    {
     "data": {
      "text/plain": [
       "array([ 0, 12,  5,  1,  2,  3,  4,  9, 11,  8,  6,  7, 10])"
      ]
     },
     "execution_count": 101,
     "metadata": {},
     "output_type": "execute_result"
    }
   ],
   "source": [
    "#Unique classes of cluster predicted\n",
    "unique_values_dbscan = df_dbscan['y'].unique()\n",
    "unique_values_dbscan"
   ]
  },
  {
   "cell_type": "code",
   "execution_count": 102,
   "metadata": {},
   "outputs": [
    {
     "data": {
      "text/plain": [
       "(13,)"
      ]
     },
     "execution_count": 102,
     "metadata": {},
     "output_type": "execute_result"
    }
   ],
   "source": [
    "#No of clusters predicted\n",
    "unique_values_dbscan.shape"
   ]
  },
  {
   "cell_type": "markdown",
   "metadata": {},
   "source": [
    "The DBSCAN predicted 13 clusters. Hence, it has inferred 13 distinctive formulations present in the dataset."
   ]
  },
  {
   "cell_type": "code",
   "execution_count": 103,
   "metadata": {},
   "outputs": [
    {
     "data": {
      "application/vnd.plotly.v1+json": {
       "config": {
        "plotlyServerURL": "https://plot.ly"
       },
       "data": [
        {
         "hoverlabel": {
          "namelength": 0
         },
         "hovertemplate": "y=%{marker.color}<br>0=%{x}<br>1=%{y}<br>2=%{z}",
         "legendgroup": "y=0",
         "marker": {
          "color": [
           0,
           0,
           0,
           0,
           0,
           0,
           0,
           0,
           0,
           0,
           0,
           0,
           0,
           0,
           0,
           0,
           0,
           0,
           0,
           0,
           0,
           0,
           0,
           0,
           0,
           0,
           0,
           0,
           0,
           0,
           0,
           0,
           0,
           0,
           0,
           0,
           0,
           0,
           0,
           0,
           0,
           0,
           0,
           0,
           0,
           0,
           0,
           0,
           0,
           0,
           0,
           0,
           0,
           0,
           0,
           0,
           0,
           0,
           0,
           0,
           0,
           0,
           0,
           0,
           0,
           0,
           0,
           0,
           0,
           0,
           0,
           0,
           0,
           0,
           0,
           0,
           0,
           0,
           0,
           0,
           0,
           0,
           0,
           0,
           0,
           0,
           0
          ],
          "coloraxis": "coloraxis",
          "opacity": 0.7,
          "size": [
           0,
           0,
           0,
           0,
           0,
           0,
           0,
           0,
           0,
           0,
           0,
           0,
           0,
           0,
           0,
           0,
           0,
           0,
           0,
           0,
           0,
           0,
           0,
           0,
           0,
           0,
           0,
           0,
           0,
           0,
           0,
           0,
           0,
           0,
           0,
           0,
           0,
           0,
           0,
           0,
           0,
           0,
           0,
           0,
           0,
           0,
           0,
           0,
           0,
           0,
           0,
           0,
           0,
           0,
           0,
           0,
           0,
           0,
           0,
           0,
           0,
           0,
           0,
           0,
           0,
           0,
           0,
           0,
           0,
           0,
           0,
           0,
           0,
           0,
           0,
           0,
           0,
           0,
           0,
           0,
           0,
           0,
           0,
           0,
           0,
           0,
           0
          ],
          "sizemode": "area",
          "sizeref": 0.037037037037037035,
          "symbol": "circle"
         },
         "mode": "markers",
         "name": "y=0",
         "scene": "scene",
         "showlegend": true,
         "type": "scatter3d",
         "x": [
          -0.3088170222296622,
          -0.11509363313884213,
          -0.002301063789717664,
          -0.2170937790968996,
          -0.02223634327810462,
          0.041167929749512173,
          -0.7553927799161607,
          0.3376822861547516,
          0.4592567672808172,
          -0.46299774797587034,
          0.015840562422580425,
          0.2139788015551609,
          -0.1420832833924684,
          0.037373085524678926,
          -0.2774488186936972,
          -0.11525502275373001,
          -0.6583287710910447,
          -0.5413218037924322,
          -0.16686463533200932,
          -0.8349746054226019,
          -0.9350687613295068,
          0.18671404561659768,
          0.3026396236431611,
          -0.30679637819247396,
          -0.38891864021987843,
          -0.9091896652187345,
          -0.6903591451513094,
          -0.49242980743633413,
          -0.25267144365567856,
          0.6044233952267375,
          0.4790613182040753,
          -0.44718318014189784,
          -0.5720103132650246,
          -0.06583749152788006,
          -0.6514041263222521,
          -0.2626254628666209,
          0.25920902866479795,
          -0.6195276169695904,
          0.0173653764107111,
          -0.32724242014986016,
          -0.013353867493487636,
          -0.5356573513597868,
          -0.6509035331651029,
          -0.09910424485404007,
          0.027043095310118705,
          -0.022647912765292752,
          -0.8780410729034668,
          -0.7662263272662806,
          0.27274643843546403,
          -0.14752336572345226,
          -0.5626421203489971,
          -0.5741371723869616,
          -0.7748318208001415,
          -0.12053674539204963,
          -0.6552475599847014,
          -0.9225622900272772,
          -0.6850886153339977,
          -0.7814154568230062,
          -0.15577397988498115,
          -0.05048652181362962,
          -0.07090076237397956,
          -0.5363041184157588,
          0.09333543627971237,
          -0.6886452499197155,
          -0.8813335564729775,
          0.09431641208158462,
          0.3965861124629995,
          0.3239845108789795,
          -0.6541094813720745,
          -0.11320601235710911,
          -0.351092290842097,
          -0.94015972212189,
          -0.002352228942058071,
          0.1565210134482324,
          -0.0899566627690065,
          -0.12029946591444676,
          -0.7346040262365336,
          -0.12135003313227434,
          0.08175377249554798,
          0.028627200166173795,
          -0.8677634879508845,
          -0.06908627337474725,
          0.20567387864005765,
          0.29826145077127847,
          -0.7021917538246155,
          -0.0022807390005490286,
          0.1734583203470178
         ],
         "y": [
          -0.7631621565000513,
          -1.052939359968979,
          -1.0244734591844453,
          -1.0394671751751798,
          -1.162737445971399,
          -1.0278833800859914,
          -1.0992666295786988,
          -1.2911046263379196,
          -0.9720717897267696,
          -0.9882472872845995,
          -0.9574540617947391,
          -1.0650516895572062,
          -0.9616774397522369,
          -1.0543206219272803,
          -1.0102875834961644,
          -1.1602821169254314,
          -0.7807304580273599,
          -1.031380057675838,
          -0.9654064702289284,
          -0.5236907162416906,
          -1.2039456236268777,
          -0.8888090193921805,
          -1.0441015941818457,
          -0.964066395144502,
          -1.0097800358717262,
          -1.1389998543348445,
          -1.0662993095399247,
          -0.9562419606646673,
          -1.1161495765227496,
          -0.7801998493041624,
          -1.0089779543982313,
          -0.9574216742802379,
          -0.9280417639308772,
          -0.9028758387526317,
          -1.1164724155786983,
          -0.7717490681457178,
          -1.0184562154038685,
          -0.8770619099063398,
          -1.1009316701240337,
          -1.1023619688102957,
          -1.1047191296229946,
          -1.0697841748080994,
          -1.0642460845074617,
          -0.7468069212809658,
          -0.941150867525133,
          -0.8103490808602453,
          -1.2089292108142737,
          -1.2191868302577138,
          -0.7608509300960596,
          -0.933767048768759,
          -1.065810424605698,
          -0.759787774319149,
          -1.0814543865231698,
          -1.0157421467303982,
          -1.1430325523312188,
          -1.1969292846275887,
          -0.8416398916317706,
          -0.641887105399677,
          -0.7381495456652748,
          -1.0472307478090277,
          -1.3012025180787306,
          -0.9234788602024551,
          -0.7975136500287082,
          -0.8445446696648509,
          -0.9723130679646457,
          -0.6450113771010243,
          -1.07307342994506,
          -0.9151704621831115,
          -0.7109027359308906,
          -1.0276218101882204,
          -1.091249212520997,
          -0.9298359655532504,
          -1.065813437325055,
          -1.2359282316192035,
          -1.1812521059004135,
          -1.2218462225075224,
          -0.9223869039833842,
          -1.062703669817351,
          -0.9660194287459594,
          -0.8037043651500935,
          -1.0780181289665045,
          -1.163904213512538,
          -0.9991826606809826,
          -1.1648932834674224,
          -0.751136991699099,
          -0.9592975916118833,
          -1.1824396659894638
         ],
         "z": [
          0.33016111719227337,
          -0.03867674477899022,
          -0.19713224372485857,
          -0.20976636788923408,
          -0.45021920385270625,
          -0.009795153836293787,
          0.497207681016397,
          -0.07681809976116104,
          0.2815416354668001,
          -0.4779884341389886,
          -0.11250176212066111,
          -0.20284002874514043,
          -0.11712468513338545,
          -0.05689828654802847,
          -0.38136522291220376,
          -0.33402100178849176,
          0.16865753543985798,
          0.03599709675505433,
          0.12880038743702282,
          0.3669368016036859,
          -0.14738534182244417,
          0.4057164218578612,
          0.4121103858637582,
          -0.2747724991448546,
          -0.35388572732595397,
          -0.3859604479472999,
          0.01708459772515919,
          -0.23233417149471608,
          -0.5406378535308115,
          0.24974933562904136,
          0.14636427374415362,
          -0.3362515272561106,
          -0.17115833511184164,
          -0.17636244889900293,
          0.28223507247826046,
          -0.3208467619361074,
          0.024940649572551044,
          -0.28437622398397366,
          -0.27527210204313796,
          -0.5322369593535026,
          -0.1448009907332772,
          -0.27992747167305054,
          -0.07620440913322891,
          -0.1576444177649924,
          0.015455915560984771,
          0.43059006273171563,
          -0.11343772564018734,
          -0.13417044029725853,
          0.6443149031823414,
          -0.5181845247499223,
          -0.31208941831727205,
          -0.5567081672463021,
          0.014714710321487688,
          -0.33817687874044633,
          -0.08600525728039826,
          -0.05547724273518592,
          0.12664986514619983,
          0.11926824721261162,
          -0.028878115844008095,
          -0.21304799946912928,
          0.21592375579535986,
          0.2800469054002807,
          0.04129437939868341,
          -0.030476146122717707,
          -0.14627805191568902,
          0.7063130095311426,
          0.4986357407409786,
          0.22717187911297587,
          0.19533232373487783,
          -0.08620674459449926,
          -0.4850786933591569,
          -0.55490743858593,
          0.12085502633898436,
          0.13970672868778922,
          -0.21553894862442496,
          -0.6247422416006776,
          -0.5390230739429391,
          -0.13180674074320764,
          -0.03658879028477824,
          -0.08566870238436909,
          -0.6432635551317262,
          -0.017404921881961397,
          0.6360268535801369,
          0.32494521779220925,
          0.3213252633196757,
          0.08049963623464698,
          -0.20400597383243663
         ]
        },
        {
         "hoverlabel": {
          "namelength": 0
         },
         "hovertemplate": "y=%{marker.color}<br>0=%{x}<br>1=%{y}<br>2=%{z}",
         "legendgroup": "y=12",
         "marker": {
          "color": [
           12,
           12,
           12,
           12,
           12,
           12,
           12,
           12,
           12,
           12,
           12,
           12,
           12,
           12,
           12,
           12,
           12,
           12,
           12,
           12,
           12,
           12,
           12,
           12,
           12,
           12,
           12,
           12,
           12,
           12,
           12,
           12,
           12,
           12,
           12,
           12,
           12,
           12,
           12,
           12,
           12,
           12,
           12,
           12,
           12,
           12,
           12,
           12,
           12,
           12,
           12,
           12,
           12,
           12,
           12,
           12,
           12,
           12,
           12,
           12,
           12,
           12,
           12,
           12,
           12,
           12,
           12,
           12,
           12,
           12,
           12,
           12,
           12,
           12,
           12,
           12,
           12,
           12,
           12
          ],
          "coloraxis": "coloraxis",
          "opacity": 0.7,
          "size": [
           12,
           12,
           12,
           12,
           12,
           12,
           12,
           12,
           12,
           12,
           12,
           12,
           12,
           12,
           12,
           12,
           12,
           12,
           12,
           12,
           12,
           12,
           12,
           12,
           12,
           12,
           12,
           12,
           12,
           12,
           12,
           12,
           12,
           12,
           12,
           12,
           12,
           12,
           12,
           12,
           12,
           12,
           12,
           12,
           12,
           12,
           12,
           12,
           12,
           12,
           12,
           12,
           12,
           12,
           12,
           12,
           12,
           12,
           12,
           12,
           12,
           12,
           12,
           12,
           12,
           12,
           12,
           12,
           12,
           12,
           12,
           12,
           12,
           12,
           12,
           12,
           12,
           12,
           12
          ],
          "sizemode": "area",
          "sizeref": 0.037037037037037035,
          "symbol": "diamond"
         },
         "mode": "markers",
         "name": "y=12",
         "scene": "scene",
         "showlegend": true,
         "type": "scatter3d",
         "x": [
          3.640213362873391,
          -4.389534604456361,
          0.23622084002541965,
          1.0100444661438308,
          2.3513646945188555,
          1.1157439126975326,
          0.2603379522048236,
          -4.322873321226473,
          -1.074500349050363,
          1.6950229031465784,
          1.906463241006485,
          0.6837764770635495,
          1.15113957114193,
          -2.3163760641409965,
          -0.0668969638173992,
          4.596497085932547,
          1.595042153906473,
          -3.950511810324203,
          -1.9586570544960946,
          -2.7603457898294033,
          -0.7950246764825599,
          1.218978230140321,
          -2.6793604575512298,
          -2.340259861452908,
          0.9835047597987604,
          0.5473162665676244,
          -0.14438995472106136,
          2.7272109506326228,
          -2.2697401693796135,
          1.2160534522663493,
          -0.021703222617978073,
          0.7230688834324541,
          0.5954388798831948,
          -0.3158007638888974,
          0.613895376433817,
          0.5889638890177152,
          3.333286931869707,
          -1.1106297127640337,
          0.9042867196204263,
          2.9713615893381053,
          0.11596517683603709,
          0.45730687083450866,
          1.1141639702520452,
          4.5187449288459804,
          0.9684257757700816,
          3.418943712699945,
          -2.7323115560766538,
          0.6544635155919183,
          0.6409054884961937,
          2.1932770349034483,
          4.873034405166099,
          -0.1996502720758985,
          0.7415934506218385,
          -0.2734758857073265,
          -1.213697993587351,
          3.8523819375447466,
          1.067098744814663,
          1.9298182896043863,
          -2.149264800072856,
          -0.4231983763243721,
          1.7673901193701944,
          1.803376430120824,
          0.07700009550944423,
          -1.3877070944148284,
          7.1386978565650665,
          1.3773883933025135,
          -3.557097711578992,
          1.0659403922366855,
          -3.2827967908093814,
          1.631075563517364,
          -2.383834568677435,
          -1.6802462650858232,
          0.25649877757843786,
          0.5445438461392939,
          0.7930410282783164,
          -2.325668234298763,
          1.78618611423198,
          -1.377385564930416,
          -4.432539734294783
         ],
         "y": [
          6.193444646287058,
          -0.1034495767131333,
          0.5683302033163516,
          0.8840779297540222,
          1.1401984649729393,
          0.6204385692558839,
          0.5480333218442196,
          2.6538568015856003,
          -0.9647887039894227,
          2.0741455912681346,
          0.18518682489148836,
          1.3972833205120372,
          -0.5294876379900553,
          -0.5739824610406633,
          2.243693920047149,
          2.699447601220029,
          2.1133160830782383,
          -0.7285066087666607,
          2.4631882264026648,
          1.2670549364923478,
          0.7947296088288127,
          -0.6733728003092506,
          2.130820371105518,
          2.4336664151846725,
          -1.020108474525038,
          -0.29566013008330194,
          0.6398492814958502,
          -0.11303857687532651,
          2.3483157616133936,
          -0.4368961079710676,
          3.473835050366322,
          -0.4748919270001946,
          -0.9544228534771635,
          -0.7531698644702158,
          -1.4023415330494837,
          1.911679498766826,
          2.0261687927457643,
          -0.3604591909501622,
          -0.8981876881088497,
          0.4631405016883561,
          -0.7379703484312669,
          -0.5519113998704465,
          1.4571125255440567,
          2.0277256270764603,
          -1.1489633408047304,
          3.134899733136561,
          2.037287301627119,
          0.34254575171047913,
          0.9005750786840744,
          -0.1601947155279008,
          2.1111088165529224,
          0.7402253103501282,
          0.78534141707581,
          1.7888218158707363,
          -0.7790981552267554,
          1.3450646690214312,
          -0.07143349891062391,
          2.4924422724375197,
          2.295608432856727,
          -1.8165560337395845,
          -0.23485117196728164,
          0.5287277027713393,
          -0.2789690063213613,
          1.089145370878928,
          4.004436692758949,
          1.6033636986509263,
          3.4667507279083267,
          1.3675776666290782,
          -0.041791357569233446,
          1.3186173216428578,
          3.0616770205425117,
          3.2848234588775687,
          0.6392252359991166,
          1.767245086534415,
          -0.6043282695479844,
          -0.4624003285180972,
          0.31275188772148976,
          -0.8707592969808307,
          -0.1686801248497945
         ],
         "z": [
          4.916613746520015,
          7.987193311633944,
          -0.14811434434495152,
          2.6820830340458603,
          0.056671878421601485,
          0.5711052851644309,
          0.5001632874063653,
          3.9624919922390793,
          0.3928230221219483,
          -1.0584217318060554,
          -0.6083485262220392,
          -0.44571261284926394,
          -0.3720956548970038,
          0.5441480773154095,
          -0.670464973174718,
          -0.1625836460347522,
          -0.10052094703894673,
          1.0874208805905325,
          -1.0399803003919985,
          1.9499163707632265,
          0.006973448649287172,
          -0.34695475633086365,
          -1.509554348681599,
          -0.9398053522529484,
          -0.4843445941190465,
          -0.702935509139133,
          -0.8892523681223607,
          -0.2259278446917749,
          -1.2461344213937626,
          -1.6576307759405604,
          0.11792545883783176,
          0.4249702896713199,
          -1.4911589220080153,
          0.801283239131946,
          0.4596840113415565,
          1.3289280052953454,
          2.771313731911111,
          -0.2809490481648487,
          0.511568576485014,
          -0.26170673133328204,
          -1.0069651605698444,
          -0.8369545819522288,
          -2.299793109928364,
          -0.23041267051029182,
          1.1392228739145787,
          0.6345964703660393,
          -1.3948051908758976,
          -1.0862410773082012,
          0.802015572324445,
          0.7746842463901543,
          -0.04592283637845876,
          -0.9246206514750013,
          -2.521882233357019,
          -1.1590414080377232,
          0.6386378760452364,
          0.16927574539694604,
          0.05664306626344465,
          0.09142908851505796,
          -0.8597718754446572,
          0.4533905930888875,
          -0.22282130798470456,
          0.6940613872936388,
          0.6379340843269671,
          -0.9164095049943566,
          2.2591407167590365,
          -0.22086744087309085,
          0.8108687803475227,
          0.649339960566904,
          -5.165069168592749,
          0.1294146064199785,
          0.09044536496940922,
          -0.9303485139959471,
          -0.7185428754461722,
          -0.14429246749311647,
          -0.20096151314069374,
          -2.391103097956542,
          0.7053088320242599,
          1.0009814478795926,
          7.854282197282845
         ]
        },
        {
         "hoverlabel": {
          "namelength": 0
         },
         "hovertemplate": "y=%{marker.color}<br>0=%{x}<br>1=%{y}<br>2=%{z}",
         "legendgroup": "y=5",
         "marker": {
          "color": [
           5,
           5,
           5
          ],
          "coloraxis": "coloraxis",
          "opacity": 0.7,
          "size": [
           5,
           5,
           5
          ],
          "sizemode": "area",
          "sizeref": 0.037037037037037035,
          "symbol": "square"
         },
         "mode": "markers",
         "name": "y=5",
         "scene": "scene",
         "showlegend": true,
         "type": "scatter3d",
         "x": [
          2.2519553634338156,
          2.0728116145990514,
          1.9078464912792725
         ],
         "y": [
          0.02797397734543549,
          -0.19367388050403603,
          -0.1351462180000804
         ],
         "z": [
          -0.3262570027200763,
          -0.39731249269014873,
          -0.5151279429668306
         ]
        },
        {
         "hoverlabel": {
          "namelength": 0
         },
         "hovertemplate": "y=%{marker.color}<br>0=%{x}<br>1=%{y}<br>2=%{z}",
         "legendgroup": "y=1",
         "marker": {
          "color": [
           1,
           1,
           1,
           1,
           1,
           1
          ],
          "coloraxis": "coloraxis",
          "opacity": 0.7,
          "size": [
           1,
           1,
           1,
           1,
           1,
           1
          ],
          "sizemode": "area",
          "sizeref": 0.037037037037037035,
          "symbol": "x"
         },
         "mode": "markers",
         "name": "y=1",
         "scene": "scene",
         "showlegend": true,
         "type": "scatter3d",
         "x": [
          -0.29026658274666867,
          -0.3825149365370392,
          -0.30972438982175404,
          -0.32595238414343153,
          -0.06255117683769988,
          -0.06311384555677282
         ],
         "y": [
          -1.324007562347247,
          -1.3801340262807433,
          -1.4230402352285016,
          -1.1613144527053596,
          -1.2208627614887289,
          -1.0908051819160944
         ],
         "z": [
          0.8686786184332007,
          0.6895243122284895,
          0.48606370201626514,
          0.6810003565901137,
          0.7362732074703966,
          0.9496793209207872
         ]
        },
        {
         "hoverlabel": {
          "namelength": 0
         },
         "hovertemplate": "y=%{marker.color}<br>0=%{x}<br>1=%{y}<br>2=%{z}",
         "legendgroup": "y=2",
         "marker": {
          "color": [
           2,
           2,
           2
          ],
          "coloraxis": "coloraxis",
          "opacity": 0.7,
          "size": [
           2,
           2,
           2
          ],
          "sizemode": "area",
          "sizeref": 0.037037037037037035,
          "symbol": "cross"
         },
         "mode": "markers",
         "name": "y=2",
         "scene": "scene",
         "showlegend": true,
         "type": "scatter3d",
         "x": [
          1.747115683393762,
          1.9331124452716963,
          1.9331124452716963
         ],
         "y": [
          -0.1832065678831476,
          -0.1421142977118125,
          -0.1421142977118125
         ],
         "z": [
          -0.8542496328080511,
          -0.9733330659549609,
          -0.9733330659549609
         ]
        },
        {
         "hoverlabel": {
          "namelength": 0
         },
         "hovertemplate": "y=%{marker.color}<br>0=%{x}<br>1=%{y}<br>2=%{z}",
         "legendgroup": "y=3",
         "marker": {
          "color": [
           3,
           3,
           3,
           3,
           3,
           3,
           3,
           3,
           3
          ],
          "coloraxis": "coloraxis",
          "opacity": 0.7,
          "size": [
           3,
           3,
           3,
           3,
           3,
           3,
           3,
           3,
           3
          ],
          "sizemode": "area",
          "sizeref": 0.037037037037037035,
          "symbol": "circle"
         },
         "mode": "markers",
         "name": "y=3",
         "scene": "scene",
         "showlegend": true,
         "type": "scatter3d",
         "x": [
          0.10606132163525618,
          0.09464075308562032,
          -0.0819412962028652,
          0.18136104634161732,
          -0.1335830223192562,
          0.17180489501149987,
          -0.07237032773088503,
          0.10616045108297949,
          -0.020816030812831406
         ],
         "y": [
          -0.28308185020446525,
          -0.45616462900341254,
          -0.34355568108961154,
          -0.4099578964318332,
          -0.41199863782146184,
          -0.5102877859027175,
          -0.5166630860439818,
          -0.41450603758689464,
          -0.32193260902585435
         ],
         "z": [
          0.2765932088927381,
          0.07639060125358701,
          0.23309119948091364,
          -0.23869078690463078,
          -0.03079847564447466,
          -0.13677079567162928,
          0.4752723327638654,
          -0.43737557136814237,
          -0.10905968084432105
         ]
        },
        {
         "hoverlabel": {
          "namelength": 0
         },
         "hovertemplate": "y=%{marker.color}<br>0=%{x}<br>1=%{y}<br>2=%{z}",
         "legendgroup": "y=4",
         "marker": {
          "color": [
           4,
           4,
           4,
           4,
           4
          ],
          "coloraxis": "coloraxis",
          "opacity": 0.7,
          "size": [
           4,
           4,
           4,
           4,
           4
          ],
          "sizemode": "area",
          "sizeref": 0.037037037037037035,
          "symbol": "diamond"
         },
         "mode": "markers",
         "name": "y=4",
         "scene": "scene",
         "showlegend": true,
         "type": "scatter3d",
         "x": [
          -2.1049982242121628,
          -1.9936467980221915,
          -2.10698079098955,
          -2.3903804265767086,
          -2.2984643833595677
         ],
         "y": [
          2.3740426372314127,
          2.5993965437371775,
          2.130718778401105,
          2.4005851473405695,
          2.214669378415515
         ],
         "z": [
          -0.34110629682571453,
          -0.40763318868569404,
          -0.37778020813706353,
          -0.5889911804265417,
          -0.4479450626072062
         ]
        },
        {
         "hoverlabel": {
          "namelength": 0
         },
         "hovertemplate": "y=%{marker.color}<br>0=%{x}<br>1=%{y}<br>2=%{z}",
         "legendgroup": "y=9",
         "marker": {
          "color": [
           9,
           9,
           9,
           9,
           9
          ],
          "coloraxis": "coloraxis",
          "opacity": 0.7,
          "size": [
           9,
           9,
           9,
           9,
           9
          ],
          "sizemode": "area",
          "sizeref": 0.037037037037037035,
          "symbol": "square"
         },
         "mode": "markers",
         "name": "y=9",
         "scene": "scene",
         "showlegend": true,
         "type": "scatter3d",
         "x": [
          -2.525198492266791,
          -2.3976519041532494,
          -2.2626488529679234,
          -2.161169389097062,
          -2.0813561174853943
         ],
         "y": [
          3.120982662578182,
          3.108235703294707,
          3.028591550732736,
          2.8997706229472273,
          3.078405260583533
         ],
         "z": [
          -1.0802338096240938,
          -1.1175020425591606,
          -0.890844743015232,
          -0.8893683541034111,
          -0.7630745681169109
         ]
        },
        {
         "hoverlabel": {
          "namelength": 0
         },
         "hovertemplate": "y=%{marker.color}<br>0=%{x}<br>1=%{y}<br>2=%{z}",
         "legendgroup": "y=11",
         "marker": {
          "color": [
           11,
           11,
           11
          ],
          "coloraxis": "coloraxis",
          "opacity": 0.7,
          "size": [
           11,
           11,
           11
          ],
          "sizemode": "area",
          "sizeref": 0.037037037037037035,
          "symbol": "x"
         },
         "mode": "markers",
         "name": "y=11",
         "scene": "scene",
         "showlegend": true,
         "type": "scatter3d",
         "x": [
          1.2070991363580996,
          1.5291292740752536,
          1.4581237218335599
         ],
         "y": [
          -0.016816602227801333,
          0.05442401282212492,
          0.09884137804996784
         ],
         "z": [
          -0.4650910715357975,
          -0.7632333432067084,
          -0.48688504626042295
         ]
        },
        {
         "hoverlabel": {
          "namelength": 0
         },
         "hovertemplate": "y=%{marker.color}<br>0=%{x}<br>1=%{y}<br>2=%{z}",
         "legendgroup": "y=8",
         "marker": {
          "color": [
           8,
           8,
           8
          ],
          "coloraxis": "coloraxis",
          "opacity": 0.7,
          "size": [
           8,
           8,
           8
          ],
          "sizemode": "area",
          "sizeref": 0.037037037037037035,
          "symbol": "cross"
         },
         "mode": "markers",
         "name": "y=8",
         "scene": "scene",
         "showlegend": true,
         "type": "scatter3d",
         "x": [
          -2.3697476827164063,
          -2.1878769603159776,
          -2.0453210794858387
         ],
         "y": [
          2.7568727968502147,
          2.8564846298297657,
          3.0759496539608384
         ],
         "z": [
          -1.2347007588660497,
          -1.2789622313545026,
          -1.2083446663244304
         ]
        },
        {
         "hoverlabel": {
          "namelength": 0
         },
         "hovertemplate": "y=%{marker.color}<br>0=%{x}<br>1=%{y}<br>2=%{z}",
         "legendgroup": "y=6",
         "marker": {
          "color": [
           6,
           6,
           6,
           6
          ],
          "coloraxis": "coloraxis",
          "opacity": 0.7,
          "size": [
           6,
           6,
           6,
           6
          ],
          "sizemode": "area",
          "sizeref": 0.037037037037037035,
          "symbol": "circle"
         },
         "mode": "markers",
         "name": "y=6",
         "scene": "scene",
         "showlegend": true,
         "type": "scatter3d",
         "x": [
          0.6144437584180186,
          0.7552389092240126,
          0.749344065344669,
          0.9916588012245886
         ],
         "y": [
          -1.0915628756017637,
          -1.1943019338653702,
          -0.870094722601824,
          -1.0218999948208045
         ],
         "z": [
          0.8717692642238939,
          0.7743265152016452,
          0.9826602970438849,
          0.8284056913378761
         ]
        },
        {
         "hoverlabel": {
          "namelength": 0
         },
         "hovertemplate": "y=%{marker.color}<br>0=%{x}<br>1=%{y}<br>2=%{z}",
         "legendgroup": "y=7",
         "marker": {
          "color": [
           7,
           7,
           7
          ],
          "coloraxis": "coloraxis",
          "opacity": 0.7,
          "size": [
           7,
           7,
           7
          ],
          "sizemode": "area",
          "sizeref": 0.037037037037037035,
          "symbol": "diamond"
         },
         "mode": "markers",
         "name": "y=7",
         "scene": "scene",
         "showlegend": true,
         "type": "scatter3d",
         "x": [
          0.25742280936634604,
          0.3931115906158465,
          0.4151490700503017
         ],
         "y": [
          -0.09893604419796832,
          -0.3402581874762733,
          -0.29328726383727705
         ],
         "z": [
          0.0513381813134938,
          0.03878300336531182,
          0.1983335629533555
         ]
        },
        {
         "hoverlabel": {
          "namelength": 0
         },
         "hovertemplate": "y=%{marker.color}<br>0=%{x}<br>1=%{y}<br>2=%{z}",
         "legendgroup": "y=10",
         "marker": {
          "color": [
           10,
           10,
           10,
           10
          ],
          "coloraxis": "coloraxis",
          "opacity": 0.7,
          "size": [
           10,
           10,
           10,
           10
          ],
          "sizemode": "area",
          "sizeref": 0.037037037037037035,
          "symbol": "square"
         },
         "mode": "markers",
         "name": "y=10",
         "scene": "scene",
         "showlegend": true,
         "type": "scatter3d",
         "x": [
          2.0953586566569866,
          2.065744797986416,
          1.884838029019131,
          2.0048848033453774
         ],
         "y": [
          -0.4270138743669019,
          -0.44708532416241725,
          -0.2964756997941312,
          -0.36349865639869117
         ],
         "z": [
          0.13221736174255327,
          0.07285555747873429,
          0.049091271613974426,
          0.14192835848841498
         ]
        }
       ],
       "layout": {
        "coloraxis": {
         "colorbar": {
          "title": {
           "text": "y"
          }
         },
         "colorscale": [
          [
           0,
           "#0d0887"
          ],
          [
           0.1111111111111111,
           "#46039f"
          ],
          [
           0.2222222222222222,
           "#7201a8"
          ],
          [
           0.3333333333333333,
           "#9c179e"
          ],
          [
           0.4444444444444444,
           "#bd3786"
          ],
          [
           0.5555555555555556,
           "#d8576b"
          ],
          [
           0.6666666666666666,
           "#ed7953"
          ],
          [
           0.7777777777777778,
           "#fb9f3a"
          ],
          [
           0.8888888888888888,
           "#fdca26"
          ],
          [
           1,
           "#f0f921"
          ]
         ]
        },
        "legend": {
         "itemsizing": "constant",
         "tracegroupgap": 0
        },
        "margin": {
         "b": 0,
         "l": 0,
         "r": 0,
         "t": 0
        },
        "scene": {
         "domain": {
          "x": [
           0,
           1
          ],
          "y": [
           0,
           1
          ]
         },
         "xaxis": {
          "title": {
           "text": "0"
          }
         },
         "yaxis": {
          "title": {
           "text": "1"
          }
         },
         "zaxis": {
          "title": {
           "text": "2"
          }
         }
        },
        "template": {
         "data": {
          "bar": [
           {
            "error_x": {
             "color": "#2a3f5f"
            },
            "error_y": {
             "color": "#2a3f5f"
            },
            "marker": {
             "line": {
              "color": "#E5ECF6",
              "width": 0.5
             }
            },
            "type": "bar"
           }
          ],
          "barpolar": [
           {
            "marker": {
             "line": {
              "color": "#E5ECF6",
              "width": 0.5
             }
            },
            "type": "barpolar"
           }
          ],
          "carpet": [
           {
            "aaxis": {
             "endlinecolor": "#2a3f5f",
             "gridcolor": "white",
             "linecolor": "white",
             "minorgridcolor": "white",
             "startlinecolor": "#2a3f5f"
            },
            "baxis": {
             "endlinecolor": "#2a3f5f",
             "gridcolor": "white",
             "linecolor": "white",
             "minorgridcolor": "white",
             "startlinecolor": "#2a3f5f"
            },
            "type": "carpet"
           }
          ],
          "choropleth": [
           {
            "colorbar": {
             "outlinewidth": 0,
             "ticks": ""
            },
            "type": "choropleth"
           }
          ],
          "contour": [
           {
            "colorbar": {
             "outlinewidth": 0,
             "ticks": ""
            },
            "colorscale": [
             [
              0,
              "#0d0887"
             ],
             [
              0.1111111111111111,
              "#46039f"
             ],
             [
              0.2222222222222222,
              "#7201a8"
             ],
             [
              0.3333333333333333,
              "#9c179e"
             ],
             [
              0.4444444444444444,
              "#bd3786"
             ],
             [
              0.5555555555555556,
              "#d8576b"
             ],
             [
              0.6666666666666666,
              "#ed7953"
             ],
             [
              0.7777777777777778,
              "#fb9f3a"
             ],
             [
              0.8888888888888888,
              "#fdca26"
             ],
             [
              1,
              "#f0f921"
             ]
            ],
            "type": "contour"
           }
          ],
          "contourcarpet": [
           {
            "colorbar": {
             "outlinewidth": 0,
             "ticks": ""
            },
            "type": "contourcarpet"
           }
          ],
          "heatmap": [
           {
            "colorbar": {
             "outlinewidth": 0,
             "ticks": ""
            },
            "colorscale": [
             [
              0,
              "#0d0887"
             ],
             [
              0.1111111111111111,
              "#46039f"
             ],
             [
              0.2222222222222222,
              "#7201a8"
             ],
             [
              0.3333333333333333,
              "#9c179e"
             ],
             [
              0.4444444444444444,
              "#bd3786"
             ],
             [
              0.5555555555555556,
              "#d8576b"
             ],
             [
              0.6666666666666666,
              "#ed7953"
             ],
             [
              0.7777777777777778,
              "#fb9f3a"
             ],
             [
              0.8888888888888888,
              "#fdca26"
             ],
             [
              1,
              "#f0f921"
             ]
            ],
            "type": "heatmap"
           }
          ],
          "heatmapgl": [
           {
            "colorbar": {
             "outlinewidth": 0,
             "ticks": ""
            },
            "colorscale": [
             [
              0,
              "#0d0887"
             ],
             [
              0.1111111111111111,
              "#46039f"
             ],
             [
              0.2222222222222222,
              "#7201a8"
             ],
             [
              0.3333333333333333,
              "#9c179e"
             ],
             [
              0.4444444444444444,
              "#bd3786"
             ],
             [
              0.5555555555555556,
              "#d8576b"
             ],
             [
              0.6666666666666666,
              "#ed7953"
             ],
             [
              0.7777777777777778,
              "#fb9f3a"
             ],
             [
              0.8888888888888888,
              "#fdca26"
             ],
             [
              1,
              "#f0f921"
             ]
            ],
            "type": "heatmapgl"
           }
          ],
          "histogram": [
           {
            "marker": {
             "colorbar": {
              "outlinewidth": 0,
              "ticks": ""
             }
            },
            "type": "histogram"
           }
          ],
          "histogram2d": [
           {
            "colorbar": {
             "outlinewidth": 0,
             "ticks": ""
            },
            "colorscale": [
             [
              0,
              "#0d0887"
             ],
             [
              0.1111111111111111,
              "#46039f"
             ],
             [
              0.2222222222222222,
              "#7201a8"
             ],
             [
              0.3333333333333333,
              "#9c179e"
             ],
             [
              0.4444444444444444,
              "#bd3786"
             ],
             [
              0.5555555555555556,
              "#d8576b"
             ],
             [
              0.6666666666666666,
              "#ed7953"
             ],
             [
              0.7777777777777778,
              "#fb9f3a"
             ],
             [
              0.8888888888888888,
              "#fdca26"
             ],
             [
              1,
              "#f0f921"
             ]
            ],
            "type": "histogram2d"
           }
          ],
          "histogram2dcontour": [
           {
            "colorbar": {
             "outlinewidth": 0,
             "ticks": ""
            },
            "colorscale": [
             [
              0,
              "#0d0887"
             ],
             [
              0.1111111111111111,
              "#46039f"
             ],
             [
              0.2222222222222222,
              "#7201a8"
             ],
             [
              0.3333333333333333,
              "#9c179e"
             ],
             [
              0.4444444444444444,
              "#bd3786"
             ],
             [
              0.5555555555555556,
              "#d8576b"
             ],
             [
              0.6666666666666666,
              "#ed7953"
             ],
             [
              0.7777777777777778,
              "#fb9f3a"
             ],
             [
              0.8888888888888888,
              "#fdca26"
             ],
             [
              1,
              "#f0f921"
             ]
            ],
            "type": "histogram2dcontour"
           }
          ],
          "mesh3d": [
           {
            "colorbar": {
             "outlinewidth": 0,
             "ticks": ""
            },
            "type": "mesh3d"
           }
          ],
          "parcoords": [
           {
            "line": {
             "colorbar": {
              "outlinewidth": 0,
              "ticks": ""
             }
            },
            "type": "parcoords"
           }
          ],
          "pie": [
           {
            "automargin": true,
            "type": "pie"
           }
          ],
          "scatter": [
           {
            "marker": {
             "colorbar": {
              "outlinewidth": 0,
              "ticks": ""
             }
            },
            "type": "scatter"
           }
          ],
          "scatter3d": [
           {
            "line": {
             "colorbar": {
              "outlinewidth": 0,
              "ticks": ""
             }
            },
            "marker": {
             "colorbar": {
              "outlinewidth": 0,
              "ticks": ""
             }
            },
            "type": "scatter3d"
           }
          ],
          "scattercarpet": [
           {
            "marker": {
             "colorbar": {
              "outlinewidth": 0,
              "ticks": ""
             }
            },
            "type": "scattercarpet"
           }
          ],
          "scattergeo": [
           {
            "marker": {
             "colorbar": {
              "outlinewidth": 0,
              "ticks": ""
             }
            },
            "type": "scattergeo"
           }
          ],
          "scattergl": [
           {
            "marker": {
             "colorbar": {
              "outlinewidth": 0,
              "ticks": ""
             }
            },
            "type": "scattergl"
           }
          ],
          "scattermapbox": [
           {
            "marker": {
             "colorbar": {
              "outlinewidth": 0,
              "ticks": ""
             }
            },
            "type": "scattermapbox"
           }
          ],
          "scatterpolar": [
           {
            "marker": {
             "colorbar": {
              "outlinewidth": 0,
              "ticks": ""
             }
            },
            "type": "scatterpolar"
           }
          ],
          "scatterpolargl": [
           {
            "marker": {
             "colorbar": {
              "outlinewidth": 0,
              "ticks": ""
             }
            },
            "type": "scatterpolargl"
           }
          ],
          "scatterternary": [
           {
            "marker": {
             "colorbar": {
              "outlinewidth": 0,
              "ticks": ""
             }
            },
            "type": "scatterternary"
           }
          ],
          "surface": [
           {
            "colorbar": {
             "outlinewidth": 0,
             "ticks": ""
            },
            "colorscale": [
             [
              0,
              "#0d0887"
             ],
             [
              0.1111111111111111,
              "#46039f"
             ],
             [
              0.2222222222222222,
              "#7201a8"
             ],
             [
              0.3333333333333333,
              "#9c179e"
             ],
             [
              0.4444444444444444,
              "#bd3786"
             ],
             [
              0.5555555555555556,
              "#d8576b"
             ],
             [
              0.6666666666666666,
              "#ed7953"
             ],
             [
              0.7777777777777778,
              "#fb9f3a"
             ],
             [
              0.8888888888888888,
              "#fdca26"
             ],
             [
              1,
              "#f0f921"
             ]
            ],
            "type": "surface"
           }
          ],
          "table": [
           {
            "cells": {
             "fill": {
              "color": "#EBF0F8"
             },
             "line": {
              "color": "white"
             }
            },
            "header": {
             "fill": {
              "color": "#C8D4E3"
             },
             "line": {
              "color": "white"
             }
            },
            "type": "table"
           }
          ]
         },
         "layout": {
          "annotationdefaults": {
           "arrowcolor": "#2a3f5f",
           "arrowhead": 0,
           "arrowwidth": 1
          },
          "coloraxis": {
           "colorbar": {
            "outlinewidth": 0,
            "ticks": ""
           }
          },
          "colorscale": {
           "diverging": [
            [
             0,
             "#8e0152"
            ],
            [
             0.1,
             "#c51b7d"
            ],
            [
             0.2,
             "#de77ae"
            ],
            [
             0.3,
             "#f1b6da"
            ],
            [
             0.4,
             "#fde0ef"
            ],
            [
             0.5,
             "#f7f7f7"
            ],
            [
             0.6,
             "#e6f5d0"
            ],
            [
             0.7,
             "#b8e186"
            ],
            [
             0.8,
             "#7fbc41"
            ],
            [
             0.9,
             "#4d9221"
            ],
            [
             1,
             "#276419"
            ]
           ],
           "sequential": [
            [
             0,
             "#0d0887"
            ],
            [
             0.1111111111111111,
             "#46039f"
            ],
            [
             0.2222222222222222,
             "#7201a8"
            ],
            [
             0.3333333333333333,
             "#9c179e"
            ],
            [
             0.4444444444444444,
             "#bd3786"
            ],
            [
             0.5555555555555556,
             "#d8576b"
            ],
            [
             0.6666666666666666,
             "#ed7953"
            ],
            [
             0.7777777777777778,
             "#fb9f3a"
            ],
            [
             0.8888888888888888,
             "#fdca26"
            ],
            [
             1,
             "#f0f921"
            ]
           ],
           "sequentialminus": [
            [
             0,
             "#0d0887"
            ],
            [
             0.1111111111111111,
             "#46039f"
            ],
            [
             0.2222222222222222,
             "#7201a8"
            ],
            [
             0.3333333333333333,
             "#9c179e"
            ],
            [
             0.4444444444444444,
             "#bd3786"
            ],
            [
             0.5555555555555556,
             "#d8576b"
            ],
            [
             0.6666666666666666,
             "#ed7953"
            ],
            [
             0.7777777777777778,
             "#fb9f3a"
            ],
            [
             0.8888888888888888,
             "#fdca26"
            ],
            [
             1,
             "#f0f921"
            ]
           ]
          },
          "colorway": [
           "#636efa",
           "#EF553B",
           "#00cc96",
           "#ab63fa",
           "#FFA15A",
           "#19d3f3",
           "#FF6692",
           "#B6E880",
           "#FF97FF",
           "#FECB52"
          ],
          "font": {
           "color": "#2a3f5f"
          },
          "geo": {
           "bgcolor": "white",
           "lakecolor": "white",
           "landcolor": "#E5ECF6",
           "showlakes": true,
           "showland": true,
           "subunitcolor": "white"
          },
          "hoverlabel": {
           "align": "left"
          },
          "hovermode": "closest",
          "mapbox": {
           "style": "light"
          },
          "paper_bgcolor": "white",
          "plot_bgcolor": "#E5ECF6",
          "polar": {
           "angularaxis": {
            "gridcolor": "white",
            "linecolor": "white",
            "ticks": ""
           },
           "bgcolor": "#E5ECF6",
           "radialaxis": {
            "gridcolor": "white",
            "linecolor": "white",
            "ticks": ""
           }
          },
          "scene": {
           "xaxis": {
            "backgroundcolor": "#E5ECF6",
            "gridcolor": "white",
            "gridwidth": 2,
            "linecolor": "white",
            "showbackground": true,
            "ticks": "",
            "zerolinecolor": "white"
           },
           "yaxis": {
            "backgroundcolor": "#E5ECF6",
            "gridcolor": "white",
            "gridwidth": 2,
            "linecolor": "white",
            "showbackground": true,
            "ticks": "",
            "zerolinecolor": "white"
           },
           "zaxis": {
            "backgroundcolor": "#E5ECF6",
            "gridcolor": "white",
            "gridwidth": 2,
            "linecolor": "white",
            "showbackground": true,
            "ticks": "",
            "zerolinecolor": "white"
           }
          },
          "shapedefaults": {
           "line": {
            "color": "#2a3f5f"
           }
          },
          "ternary": {
           "aaxis": {
            "gridcolor": "white",
            "linecolor": "white",
            "ticks": ""
           },
           "baxis": {
            "gridcolor": "white",
            "linecolor": "white",
            "ticks": ""
           },
           "bgcolor": "#E5ECF6",
           "caxis": {
            "gridcolor": "white",
            "linecolor": "white",
            "ticks": ""
           }
          },
          "title": {
           "x": 0.05
          },
          "xaxis": {
           "automargin": true,
           "gridcolor": "white",
           "linecolor": "white",
           "ticks": "",
           "title": {
            "standoff": 15
           },
           "zerolinecolor": "white",
           "zerolinewidth": 2
          },
          "yaxis": {
           "automargin": true,
           "gridcolor": "white",
           "linecolor": "white",
           "ticks": "",
           "title": {
            "standoff": 15
           },
           "zerolinecolor": "white",
           "zerolinewidth": 2
          }
         }
        }
       }
      },
      "text/html": [
       "<div>\n",
       "        \n",
       "        \n",
       "            <div id=\"1024502d-0246-48c3-b0d2-07a96e2dfec5\" class=\"plotly-graph-div\" style=\"height:525px; width:100%;\"></div>\n",
       "            <script type=\"text/javascript\">\n",
       "                require([\"plotly\"], function(Plotly) {\n",
       "                    window.PLOTLYENV=window.PLOTLYENV || {};\n",
       "                    \n",
       "                if (document.getElementById(\"1024502d-0246-48c3-b0d2-07a96e2dfec5\")) {\n",
       "                    Plotly.newPlot(\n",
       "                        '1024502d-0246-48c3-b0d2-07a96e2dfec5',\n",
       "                        [{\"hoverlabel\": {\"namelength\": 0}, \"hovertemplate\": \"y=%{marker.color}<br>0=%{x}<br>1=%{y}<br>2=%{z}\", \"legendgroup\": \"y=0\", \"marker\": {\"color\": [0, 0, 0, 0, 0, 0, 0, 0, 0, 0, 0, 0, 0, 0, 0, 0, 0, 0, 0, 0, 0, 0, 0, 0, 0, 0, 0, 0, 0, 0, 0, 0, 0, 0, 0, 0, 0, 0, 0, 0, 0, 0, 0, 0, 0, 0, 0, 0, 0, 0, 0, 0, 0, 0, 0, 0, 0, 0, 0, 0, 0, 0, 0, 0, 0, 0, 0, 0, 0, 0, 0, 0, 0, 0, 0, 0, 0, 0, 0, 0, 0, 0, 0, 0, 0, 0, 0], \"coloraxis\": \"coloraxis\", \"opacity\": 0.7, \"size\": [0, 0, 0, 0, 0, 0, 0, 0, 0, 0, 0, 0, 0, 0, 0, 0, 0, 0, 0, 0, 0, 0, 0, 0, 0, 0, 0, 0, 0, 0, 0, 0, 0, 0, 0, 0, 0, 0, 0, 0, 0, 0, 0, 0, 0, 0, 0, 0, 0, 0, 0, 0, 0, 0, 0, 0, 0, 0, 0, 0, 0, 0, 0, 0, 0, 0, 0, 0, 0, 0, 0, 0, 0, 0, 0, 0, 0, 0, 0, 0, 0, 0, 0, 0, 0, 0, 0], \"sizemode\": \"area\", \"sizeref\": 0.037037037037037035, \"symbol\": \"circle\"}, \"mode\": \"markers\", \"name\": \"y=0\", \"scene\": \"scene\", \"showlegend\": true, \"type\": \"scatter3d\", \"x\": [-0.3088170222296622, -0.11509363313884213, -0.002301063789717664, -0.2170937790968996, -0.02223634327810462, 0.041167929749512173, -0.7553927799161607, 0.3376822861547516, 0.4592567672808172, -0.46299774797587034, 0.015840562422580425, 0.2139788015551609, -0.1420832833924684, 0.037373085524678926, -0.2774488186936972, -0.11525502275373001, -0.6583287710910447, -0.5413218037924322, -0.16686463533200932, -0.8349746054226019, -0.9350687613295068, 0.18671404561659768, 0.3026396236431611, -0.30679637819247396, -0.38891864021987843, -0.9091896652187345, -0.6903591451513094, -0.49242980743633413, -0.25267144365567856, 0.6044233952267375, 0.4790613182040753, -0.44718318014189784, -0.5720103132650246, -0.06583749152788006, -0.6514041263222521, -0.2626254628666209, 0.25920902866479795, -0.6195276169695904, 0.0173653764107111, -0.32724242014986016, -0.013353867493487636, -0.5356573513597868, -0.6509035331651029, -0.09910424485404007, 0.027043095310118705, -0.022647912765292752, -0.8780410729034668, -0.7662263272662806, 0.27274643843546403, -0.14752336572345226, -0.5626421203489971, -0.5741371723869616, -0.7748318208001415, -0.12053674539204963, -0.6552475599847014, -0.9225622900272772, -0.6850886153339977, -0.7814154568230062, -0.15577397988498115, -0.05048652181362962, -0.07090076237397956, -0.5363041184157588, 0.09333543627971237, -0.6886452499197155, -0.8813335564729775, 0.09431641208158462, 0.3965861124629995, 0.3239845108789795, -0.6541094813720745, -0.11320601235710911, -0.351092290842097, -0.94015972212189, -0.002352228942058071, 0.1565210134482324, -0.0899566627690065, -0.12029946591444676, -0.7346040262365336, -0.12135003313227434, 0.08175377249554798, 0.028627200166173795, -0.8677634879508845, -0.06908627337474725, 0.20567387864005765, 0.29826145077127847, -0.7021917538246155, -0.0022807390005490286, 0.1734583203470178], \"y\": [-0.7631621565000513, -1.052939359968979, -1.0244734591844453, -1.0394671751751798, -1.162737445971399, -1.0278833800859914, -1.0992666295786988, -1.2911046263379196, -0.9720717897267696, -0.9882472872845995, -0.9574540617947391, -1.0650516895572062, -0.9616774397522369, -1.0543206219272803, -1.0102875834961644, -1.1602821169254314, -0.7807304580273599, -1.031380057675838, -0.9654064702289284, -0.5236907162416906, -1.2039456236268777, -0.8888090193921805, -1.0441015941818457, -0.964066395144502, -1.0097800358717262, -1.1389998543348445, -1.0662993095399247, -0.9562419606646673, -1.1161495765227496, -0.7801998493041624, -1.0089779543982313, -0.9574216742802379, -0.9280417639308772, -0.9028758387526317, -1.1164724155786983, -0.7717490681457178, -1.0184562154038685, -0.8770619099063398, -1.1009316701240337, -1.1023619688102957, -1.1047191296229946, -1.0697841748080994, -1.0642460845074617, -0.7468069212809658, -0.941150867525133, -0.8103490808602453, -1.2089292108142737, -1.2191868302577138, -0.7608509300960596, -0.933767048768759, -1.065810424605698, -0.759787774319149, -1.0814543865231698, -1.0157421467303982, -1.1430325523312188, -1.1969292846275887, -0.8416398916317706, -0.641887105399677, -0.7381495456652748, -1.0472307478090277, -1.3012025180787306, -0.9234788602024551, -0.7975136500287082, -0.8445446696648509, -0.9723130679646457, -0.6450113771010243, -1.07307342994506, -0.9151704621831115, -0.7109027359308906, -1.0276218101882204, -1.091249212520997, -0.9298359655532504, -1.065813437325055, -1.2359282316192035, -1.1812521059004135, -1.2218462225075224, -0.9223869039833842, -1.062703669817351, -0.9660194287459594, -0.8037043651500935, -1.0780181289665045, -1.163904213512538, -0.9991826606809826, -1.1648932834674224, -0.751136991699099, -0.9592975916118833, -1.1824396659894638], \"z\": [0.33016111719227337, -0.03867674477899022, -0.19713224372485857, -0.20976636788923408, -0.45021920385270625, -0.009795153836293787, 0.497207681016397, -0.07681809976116104, 0.2815416354668001, -0.4779884341389886, -0.11250176212066111, -0.20284002874514043, -0.11712468513338545, -0.05689828654802847, -0.38136522291220376, -0.33402100178849176, 0.16865753543985798, 0.03599709675505433, 0.12880038743702282, 0.3669368016036859, -0.14738534182244417, 0.4057164218578612, 0.4121103858637582, -0.2747724991448546, -0.35388572732595397, -0.3859604479472999, 0.01708459772515919, -0.23233417149471608, -0.5406378535308115, 0.24974933562904136, 0.14636427374415362, -0.3362515272561106, -0.17115833511184164, -0.17636244889900293, 0.28223507247826046, -0.3208467619361074, 0.024940649572551044, -0.28437622398397366, -0.27527210204313796, -0.5322369593535026, -0.1448009907332772, -0.27992747167305054, -0.07620440913322891, -0.1576444177649924, 0.015455915560984771, 0.43059006273171563, -0.11343772564018734, -0.13417044029725853, 0.6443149031823414, -0.5181845247499223, -0.31208941831727205, -0.5567081672463021, 0.014714710321487688, -0.33817687874044633, -0.08600525728039826, -0.05547724273518592, 0.12664986514619983, 0.11926824721261162, -0.028878115844008095, -0.21304799946912928, 0.21592375579535986, 0.2800469054002807, 0.04129437939868341, -0.030476146122717707, -0.14627805191568902, 0.7063130095311426, 0.4986357407409786, 0.22717187911297587, 0.19533232373487783, -0.08620674459449926, -0.4850786933591569, -0.55490743858593, 0.12085502633898436, 0.13970672868778922, -0.21553894862442496, -0.6247422416006776, -0.5390230739429391, -0.13180674074320764, -0.03658879028477824, -0.08566870238436909, -0.6432635551317262, -0.017404921881961397, 0.6360268535801369, 0.32494521779220925, 0.3213252633196757, 0.08049963623464698, -0.20400597383243663]}, {\"hoverlabel\": {\"namelength\": 0}, \"hovertemplate\": \"y=%{marker.color}<br>0=%{x}<br>1=%{y}<br>2=%{z}\", \"legendgroup\": \"y=12\", \"marker\": {\"color\": [12, 12, 12, 12, 12, 12, 12, 12, 12, 12, 12, 12, 12, 12, 12, 12, 12, 12, 12, 12, 12, 12, 12, 12, 12, 12, 12, 12, 12, 12, 12, 12, 12, 12, 12, 12, 12, 12, 12, 12, 12, 12, 12, 12, 12, 12, 12, 12, 12, 12, 12, 12, 12, 12, 12, 12, 12, 12, 12, 12, 12, 12, 12, 12, 12, 12, 12, 12, 12, 12, 12, 12, 12, 12, 12, 12, 12, 12, 12], \"coloraxis\": \"coloraxis\", \"opacity\": 0.7, \"size\": [12, 12, 12, 12, 12, 12, 12, 12, 12, 12, 12, 12, 12, 12, 12, 12, 12, 12, 12, 12, 12, 12, 12, 12, 12, 12, 12, 12, 12, 12, 12, 12, 12, 12, 12, 12, 12, 12, 12, 12, 12, 12, 12, 12, 12, 12, 12, 12, 12, 12, 12, 12, 12, 12, 12, 12, 12, 12, 12, 12, 12, 12, 12, 12, 12, 12, 12, 12, 12, 12, 12, 12, 12, 12, 12, 12, 12, 12, 12], \"sizemode\": \"area\", \"sizeref\": 0.037037037037037035, \"symbol\": \"diamond\"}, \"mode\": \"markers\", \"name\": \"y=12\", \"scene\": \"scene\", \"showlegend\": true, \"type\": \"scatter3d\", \"x\": [3.640213362873391, -4.389534604456361, 0.23622084002541965, 1.0100444661438308, 2.3513646945188555, 1.1157439126975326, 0.2603379522048236, -4.322873321226473, -1.074500349050363, 1.6950229031465784, 1.906463241006485, 0.6837764770635495, 1.15113957114193, -2.3163760641409965, -0.0668969638173992, 4.596497085932547, 1.595042153906473, -3.950511810324203, -1.9586570544960946, -2.7603457898294033, -0.7950246764825599, 1.218978230140321, -2.6793604575512298, -2.340259861452908, 0.9835047597987604, 0.5473162665676244, -0.14438995472106136, 2.7272109506326228, -2.2697401693796135, 1.2160534522663493, -0.021703222617978073, 0.7230688834324541, 0.5954388798831948, -0.3158007638888974, 0.613895376433817, 0.5889638890177152, 3.333286931869707, -1.1106297127640337, 0.9042867196204263, 2.9713615893381053, 0.11596517683603709, 0.45730687083450866, 1.1141639702520452, 4.5187449288459804, 0.9684257757700816, 3.418943712699945, -2.7323115560766538, 0.6544635155919183, 0.6409054884961937, 2.1932770349034483, 4.873034405166099, -0.1996502720758985, 0.7415934506218385, -0.2734758857073265, -1.213697993587351, 3.8523819375447466, 1.067098744814663, 1.9298182896043863, -2.149264800072856, -0.4231983763243721, 1.7673901193701944, 1.803376430120824, 0.07700009550944423, -1.3877070944148284, 7.1386978565650665, 1.3773883933025135, -3.557097711578992, 1.0659403922366855, -3.2827967908093814, 1.631075563517364, -2.383834568677435, -1.6802462650858232, 0.25649877757843786, 0.5445438461392939, 0.7930410282783164, -2.325668234298763, 1.78618611423198, -1.377385564930416, -4.432539734294783], \"y\": [6.193444646287058, -0.1034495767131333, 0.5683302033163516, 0.8840779297540222, 1.1401984649729393, 0.6204385692558839, 0.5480333218442196, 2.6538568015856003, -0.9647887039894227, 2.0741455912681346, 0.18518682489148836, 1.3972833205120372, -0.5294876379900553, -0.5739824610406633, 2.243693920047149, 2.699447601220029, 2.1133160830782383, -0.7285066087666607, 2.4631882264026648, 1.2670549364923478, 0.7947296088288127, -0.6733728003092506, 2.130820371105518, 2.4336664151846725, -1.020108474525038, -0.29566013008330194, 0.6398492814958502, -0.11303857687532651, 2.3483157616133936, -0.4368961079710676, 3.473835050366322, -0.4748919270001946, -0.9544228534771635, -0.7531698644702158, -1.4023415330494837, 1.911679498766826, 2.0261687927457643, -0.3604591909501622, -0.8981876881088497, 0.4631405016883561, -0.7379703484312669, -0.5519113998704465, 1.4571125255440567, 2.0277256270764603, -1.1489633408047304, 3.134899733136561, 2.037287301627119, 0.34254575171047913, 0.9005750786840744, -0.1601947155279008, 2.1111088165529224, 0.7402253103501282, 0.78534141707581, 1.7888218158707363, -0.7790981552267554, 1.3450646690214312, -0.07143349891062391, 2.4924422724375197, 2.295608432856727, -1.8165560337395845, -0.23485117196728164, 0.5287277027713393, -0.2789690063213613, 1.089145370878928, 4.004436692758949, 1.6033636986509263, 3.4667507279083267, 1.3675776666290782, -0.041791357569233446, 1.3186173216428578, 3.0616770205425117, 3.2848234588775687, 0.6392252359991166, 1.767245086534415, -0.6043282695479844, -0.4624003285180972, 0.31275188772148976, -0.8707592969808307, -0.1686801248497945], \"z\": [4.916613746520015, 7.987193311633944, -0.14811434434495152, 2.6820830340458603, 0.056671878421601485, 0.5711052851644309, 0.5001632874063653, 3.9624919922390793, 0.3928230221219483, -1.0584217318060554, -0.6083485262220392, -0.44571261284926394, -0.3720956548970038, 0.5441480773154095, -0.670464973174718, -0.1625836460347522, -0.10052094703894673, 1.0874208805905325, -1.0399803003919985, 1.9499163707632265, 0.006973448649287172, -0.34695475633086365, -1.509554348681599, -0.9398053522529484, -0.4843445941190465, -0.702935509139133, -0.8892523681223607, -0.2259278446917749, -1.2461344213937626, -1.6576307759405604, 0.11792545883783176, 0.4249702896713199, -1.4911589220080153, 0.801283239131946, 0.4596840113415565, 1.3289280052953454, 2.771313731911111, -0.2809490481648487, 0.511568576485014, -0.26170673133328204, -1.0069651605698444, -0.8369545819522288, -2.299793109928364, -0.23041267051029182, 1.1392228739145787, 0.6345964703660393, -1.3948051908758976, -1.0862410773082012, 0.802015572324445, 0.7746842463901543, -0.04592283637845876, -0.9246206514750013, -2.521882233357019, -1.1590414080377232, 0.6386378760452364, 0.16927574539694604, 0.05664306626344465, 0.09142908851505796, -0.8597718754446572, 0.4533905930888875, -0.22282130798470456, 0.6940613872936388, 0.6379340843269671, -0.9164095049943566, 2.2591407167590365, -0.22086744087309085, 0.8108687803475227, 0.649339960566904, -5.165069168592749, 0.1294146064199785, 0.09044536496940922, -0.9303485139959471, -0.7185428754461722, -0.14429246749311647, -0.20096151314069374, -2.391103097956542, 0.7053088320242599, 1.0009814478795926, 7.854282197282845]}, {\"hoverlabel\": {\"namelength\": 0}, \"hovertemplate\": \"y=%{marker.color}<br>0=%{x}<br>1=%{y}<br>2=%{z}\", \"legendgroup\": \"y=5\", \"marker\": {\"color\": [5, 5, 5], \"coloraxis\": \"coloraxis\", \"opacity\": 0.7, \"size\": [5, 5, 5], \"sizemode\": \"area\", \"sizeref\": 0.037037037037037035, \"symbol\": \"square\"}, \"mode\": \"markers\", \"name\": \"y=5\", \"scene\": \"scene\", \"showlegend\": true, \"type\": \"scatter3d\", \"x\": [2.2519553634338156, 2.0728116145990514, 1.9078464912792725], \"y\": [0.02797397734543549, -0.19367388050403603, -0.1351462180000804], \"z\": [-0.3262570027200763, -0.39731249269014873, -0.5151279429668306]}, {\"hoverlabel\": {\"namelength\": 0}, \"hovertemplate\": \"y=%{marker.color}<br>0=%{x}<br>1=%{y}<br>2=%{z}\", \"legendgroup\": \"y=1\", \"marker\": {\"color\": [1, 1, 1, 1, 1, 1], \"coloraxis\": \"coloraxis\", \"opacity\": 0.7, \"size\": [1, 1, 1, 1, 1, 1], \"sizemode\": \"area\", \"sizeref\": 0.037037037037037035, \"symbol\": \"x\"}, \"mode\": \"markers\", \"name\": \"y=1\", \"scene\": \"scene\", \"showlegend\": true, \"type\": \"scatter3d\", \"x\": [-0.29026658274666867, -0.3825149365370392, -0.30972438982175404, -0.32595238414343153, -0.06255117683769988, -0.06311384555677282], \"y\": [-1.324007562347247, -1.3801340262807433, -1.4230402352285016, -1.1613144527053596, -1.2208627614887289, -1.0908051819160944], \"z\": [0.8686786184332007, 0.6895243122284895, 0.48606370201626514, 0.6810003565901137, 0.7362732074703966, 0.9496793209207872]}, {\"hoverlabel\": {\"namelength\": 0}, \"hovertemplate\": \"y=%{marker.color}<br>0=%{x}<br>1=%{y}<br>2=%{z}\", \"legendgroup\": \"y=2\", \"marker\": {\"color\": [2, 2, 2], \"coloraxis\": \"coloraxis\", \"opacity\": 0.7, \"size\": [2, 2, 2], \"sizemode\": \"area\", \"sizeref\": 0.037037037037037035, \"symbol\": \"cross\"}, \"mode\": \"markers\", \"name\": \"y=2\", \"scene\": \"scene\", \"showlegend\": true, \"type\": \"scatter3d\", \"x\": [1.747115683393762, 1.9331124452716963, 1.9331124452716963], \"y\": [-0.1832065678831476, -0.1421142977118125, -0.1421142977118125], \"z\": [-0.8542496328080511, -0.9733330659549609, -0.9733330659549609]}, {\"hoverlabel\": {\"namelength\": 0}, \"hovertemplate\": \"y=%{marker.color}<br>0=%{x}<br>1=%{y}<br>2=%{z}\", \"legendgroup\": \"y=3\", \"marker\": {\"color\": [3, 3, 3, 3, 3, 3, 3, 3, 3], \"coloraxis\": \"coloraxis\", \"opacity\": 0.7, \"size\": [3, 3, 3, 3, 3, 3, 3, 3, 3], \"sizemode\": \"area\", \"sizeref\": 0.037037037037037035, \"symbol\": \"circle\"}, \"mode\": \"markers\", \"name\": \"y=3\", \"scene\": \"scene\", \"showlegend\": true, \"type\": \"scatter3d\", \"x\": [0.10606132163525618, 0.09464075308562032, -0.0819412962028652, 0.18136104634161732, -0.1335830223192562, 0.17180489501149987, -0.07237032773088503, 0.10616045108297949, -0.020816030812831406], \"y\": [-0.28308185020446525, -0.45616462900341254, -0.34355568108961154, -0.4099578964318332, -0.41199863782146184, -0.5102877859027175, -0.5166630860439818, -0.41450603758689464, -0.32193260902585435], \"z\": [0.2765932088927381, 0.07639060125358701, 0.23309119948091364, -0.23869078690463078, -0.03079847564447466, -0.13677079567162928, 0.4752723327638654, -0.43737557136814237, -0.10905968084432105]}, {\"hoverlabel\": {\"namelength\": 0}, \"hovertemplate\": \"y=%{marker.color}<br>0=%{x}<br>1=%{y}<br>2=%{z}\", \"legendgroup\": \"y=4\", \"marker\": {\"color\": [4, 4, 4, 4, 4], \"coloraxis\": \"coloraxis\", \"opacity\": 0.7, \"size\": [4, 4, 4, 4, 4], \"sizemode\": \"area\", \"sizeref\": 0.037037037037037035, \"symbol\": \"diamond\"}, \"mode\": \"markers\", \"name\": \"y=4\", \"scene\": \"scene\", \"showlegend\": true, \"type\": \"scatter3d\", \"x\": [-2.1049982242121628, -1.9936467980221915, -2.10698079098955, -2.3903804265767086, -2.2984643833595677], \"y\": [2.3740426372314127, 2.5993965437371775, 2.130718778401105, 2.4005851473405695, 2.214669378415515], \"z\": [-0.34110629682571453, -0.40763318868569404, -0.37778020813706353, -0.5889911804265417, -0.4479450626072062]}, {\"hoverlabel\": {\"namelength\": 0}, \"hovertemplate\": \"y=%{marker.color}<br>0=%{x}<br>1=%{y}<br>2=%{z}\", \"legendgroup\": \"y=9\", \"marker\": {\"color\": [9, 9, 9, 9, 9], \"coloraxis\": \"coloraxis\", \"opacity\": 0.7, \"size\": [9, 9, 9, 9, 9], \"sizemode\": \"area\", \"sizeref\": 0.037037037037037035, \"symbol\": \"square\"}, \"mode\": \"markers\", \"name\": \"y=9\", \"scene\": \"scene\", \"showlegend\": true, \"type\": \"scatter3d\", \"x\": [-2.525198492266791, -2.3976519041532494, -2.2626488529679234, -2.161169389097062, -2.0813561174853943], \"y\": [3.120982662578182, 3.108235703294707, 3.028591550732736, 2.8997706229472273, 3.078405260583533], \"z\": [-1.0802338096240938, -1.1175020425591606, -0.890844743015232, -0.8893683541034111, -0.7630745681169109]}, {\"hoverlabel\": {\"namelength\": 0}, \"hovertemplate\": \"y=%{marker.color}<br>0=%{x}<br>1=%{y}<br>2=%{z}\", \"legendgroup\": \"y=11\", \"marker\": {\"color\": [11, 11, 11], \"coloraxis\": \"coloraxis\", \"opacity\": 0.7, \"size\": [11, 11, 11], \"sizemode\": \"area\", \"sizeref\": 0.037037037037037035, \"symbol\": \"x\"}, \"mode\": \"markers\", \"name\": \"y=11\", \"scene\": \"scene\", \"showlegend\": true, \"type\": \"scatter3d\", \"x\": [1.2070991363580996, 1.5291292740752536, 1.4581237218335599], \"y\": [-0.016816602227801333, 0.05442401282212492, 0.09884137804996784], \"z\": [-0.4650910715357975, -0.7632333432067084, -0.48688504626042295]}, {\"hoverlabel\": {\"namelength\": 0}, \"hovertemplate\": \"y=%{marker.color}<br>0=%{x}<br>1=%{y}<br>2=%{z}\", \"legendgroup\": \"y=8\", \"marker\": {\"color\": [8, 8, 8], \"coloraxis\": \"coloraxis\", \"opacity\": 0.7, \"size\": [8, 8, 8], \"sizemode\": \"area\", \"sizeref\": 0.037037037037037035, \"symbol\": \"cross\"}, \"mode\": \"markers\", \"name\": \"y=8\", \"scene\": \"scene\", \"showlegend\": true, \"type\": \"scatter3d\", \"x\": [-2.3697476827164063, -2.1878769603159776, -2.0453210794858387], \"y\": [2.7568727968502147, 2.8564846298297657, 3.0759496539608384], \"z\": [-1.2347007588660497, -1.2789622313545026, -1.2083446663244304]}, {\"hoverlabel\": {\"namelength\": 0}, \"hovertemplate\": \"y=%{marker.color}<br>0=%{x}<br>1=%{y}<br>2=%{z}\", \"legendgroup\": \"y=6\", \"marker\": {\"color\": [6, 6, 6, 6], \"coloraxis\": \"coloraxis\", \"opacity\": 0.7, \"size\": [6, 6, 6, 6], \"sizemode\": \"area\", \"sizeref\": 0.037037037037037035, \"symbol\": \"circle\"}, \"mode\": \"markers\", \"name\": \"y=6\", \"scene\": \"scene\", \"showlegend\": true, \"type\": \"scatter3d\", \"x\": [0.6144437584180186, 0.7552389092240126, 0.749344065344669, 0.9916588012245886], \"y\": [-1.0915628756017637, -1.1943019338653702, -0.870094722601824, -1.0218999948208045], \"z\": [0.8717692642238939, 0.7743265152016452, 0.9826602970438849, 0.8284056913378761]}, {\"hoverlabel\": {\"namelength\": 0}, \"hovertemplate\": \"y=%{marker.color}<br>0=%{x}<br>1=%{y}<br>2=%{z}\", \"legendgroup\": \"y=7\", \"marker\": {\"color\": [7, 7, 7], \"coloraxis\": \"coloraxis\", \"opacity\": 0.7, \"size\": [7, 7, 7], \"sizemode\": \"area\", \"sizeref\": 0.037037037037037035, \"symbol\": \"diamond\"}, \"mode\": \"markers\", \"name\": \"y=7\", \"scene\": \"scene\", \"showlegend\": true, \"type\": \"scatter3d\", \"x\": [0.25742280936634604, 0.3931115906158465, 0.4151490700503017], \"y\": [-0.09893604419796832, -0.3402581874762733, -0.29328726383727705], \"z\": [0.0513381813134938, 0.03878300336531182, 0.1983335629533555]}, {\"hoverlabel\": {\"namelength\": 0}, \"hovertemplate\": \"y=%{marker.color}<br>0=%{x}<br>1=%{y}<br>2=%{z}\", \"legendgroup\": \"y=10\", \"marker\": {\"color\": [10, 10, 10, 10], \"coloraxis\": \"coloraxis\", \"opacity\": 0.7, \"size\": [10, 10, 10, 10], \"sizemode\": \"area\", \"sizeref\": 0.037037037037037035, \"symbol\": \"square\"}, \"mode\": \"markers\", \"name\": \"y=10\", \"scene\": \"scene\", \"showlegend\": true, \"type\": \"scatter3d\", \"x\": [2.0953586566569866, 2.065744797986416, 1.884838029019131, 2.0048848033453774], \"y\": [-0.4270138743669019, -0.44708532416241725, -0.2964756997941312, -0.36349865639869117], \"z\": [0.13221736174255327, 0.07285555747873429, 0.049091271613974426, 0.14192835848841498]}],\n",
       "                        {\"coloraxis\": {\"colorbar\": {\"title\": {\"text\": \"y\"}}, \"colorscale\": [[0.0, \"#0d0887\"], [0.1111111111111111, \"#46039f\"], [0.2222222222222222, \"#7201a8\"], [0.3333333333333333, \"#9c179e\"], [0.4444444444444444, \"#bd3786\"], [0.5555555555555556, \"#d8576b\"], [0.6666666666666666, \"#ed7953\"], [0.7777777777777778, \"#fb9f3a\"], [0.8888888888888888, \"#fdca26\"], [1.0, \"#f0f921\"]]}, \"legend\": {\"itemsizing\": \"constant\", \"tracegroupgap\": 0}, \"margin\": {\"b\": 0, \"l\": 0, \"r\": 0, \"t\": 0}, \"scene\": {\"domain\": {\"x\": [0.0, 1.0], \"y\": [0.0, 1.0]}, \"xaxis\": {\"title\": {\"text\": \"0\"}}, \"yaxis\": {\"title\": {\"text\": \"1\"}}, \"zaxis\": {\"title\": {\"text\": \"2\"}}}, \"template\": {\"data\": {\"bar\": [{\"error_x\": {\"color\": \"#2a3f5f\"}, \"error_y\": {\"color\": \"#2a3f5f\"}, \"marker\": {\"line\": {\"color\": \"#E5ECF6\", \"width\": 0.5}}, \"type\": \"bar\"}], \"barpolar\": [{\"marker\": {\"line\": {\"color\": \"#E5ECF6\", \"width\": 0.5}}, \"type\": \"barpolar\"}], \"carpet\": [{\"aaxis\": {\"endlinecolor\": \"#2a3f5f\", \"gridcolor\": \"white\", \"linecolor\": \"white\", \"minorgridcolor\": \"white\", \"startlinecolor\": \"#2a3f5f\"}, \"baxis\": {\"endlinecolor\": \"#2a3f5f\", \"gridcolor\": \"white\", \"linecolor\": \"white\", \"minorgridcolor\": \"white\", \"startlinecolor\": \"#2a3f5f\"}, \"type\": \"carpet\"}], \"choropleth\": [{\"colorbar\": {\"outlinewidth\": 0, \"ticks\": \"\"}, \"type\": \"choropleth\"}], \"contour\": [{\"colorbar\": {\"outlinewidth\": 0, \"ticks\": \"\"}, \"colorscale\": [[0.0, \"#0d0887\"], [0.1111111111111111, \"#46039f\"], [0.2222222222222222, \"#7201a8\"], [0.3333333333333333, \"#9c179e\"], [0.4444444444444444, \"#bd3786\"], [0.5555555555555556, \"#d8576b\"], [0.6666666666666666, \"#ed7953\"], [0.7777777777777778, \"#fb9f3a\"], [0.8888888888888888, \"#fdca26\"], [1.0, \"#f0f921\"]], \"type\": \"contour\"}], \"contourcarpet\": [{\"colorbar\": {\"outlinewidth\": 0, \"ticks\": \"\"}, \"type\": \"contourcarpet\"}], \"heatmap\": [{\"colorbar\": {\"outlinewidth\": 0, \"ticks\": \"\"}, \"colorscale\": [[0.0, \"#0d0887\"], [0.1111111111111111, \"#46039f\"], [0.2222222222222222, \"#7201a8\"], [0.3333333333333333, \"#9c179e\"], [0.4444444444444444, \"#bd3786\"], [0.5555555555555556, \"#d8576b\"], [0.6666666666666666, \"#ed7953\"], [0.7777777777777778, \"#fb9f3a\"], [0.8888888888888888, \"#fdca26\"], [1.0, \"#f0f921\"]], \"type\": \"heatmap\"}], \"heatmapgl\": [{\"colorbar\": {\"outlinewidth\": 0, \"ticks\": \"\"}, \"colorscale\": [[0.0, \"#0d0887\"], [0.1111111111111111, \"#46039f\"], [0.2222222222222222, \"#7201a8\"], [0.3333333333333333, \"#9c179e\"], [0.4444444444444444, \"#bd3786\"], [0.5555555555555556, \"#d8576b\"], [0.6666666666666666, \"#ed7953\"], [0.7777777777777778, \"#fb9f3a\"], [0.8888888888888888, \"#fdca26\"], [1.0, \"#f0f921\"]], \"type\": \"heatmapgl\"}], \"histogram\": [{\"marker\": {\"colorbar\": {\"outlinewidth\": 0, \"ticks\": \"\"}}, \"type\": \"histogram\"}], \"histogram2d\": [{\"colorbar\": {\"outlinewidth\": 0, \"ticks\": \"\"}, \"colorscale\": [[0.0, \"#0d0887\"], [0.1111111111111111, \"#46039f\"], [0.2222222222222222, \"#7201a8\"], [0.3333333333333333, \"#9c179e\"], [0.4444444444444444, \"#bd3786\"], [0.5555555555555556, \"#d8576b\"], [0.6666666666666666, \"#ed7953\"], [0.7777777777777778, \"#fb9f3a\"], [0.8888888888888888, \"#fdca26\"], [1.0, \"#f0f921\"]], \"type\": \"histogram2d\"}], \"histogram2dcontour\": [{\"colorbar\": {\"outlinewidth\": 0, \"ticks\": \"\"}, \"colorscale\": [[0.0, \"#0d0887\"], [0.1111111111111111, \"#46039f\"], [0.2222222222222222, \"#7201a8\"], [0.3333333333333333, \"#9c179e\"], [0.4444444444444444, \"#bd3786\"], [0.5555555555555556, \"#d8576b\"], [0.6666666666666666, \"#ed7953\"], [0.7777777777777778, \"#fb9f3a\"], [0.8888888888888888, \"#fdca26\"], [1.0, \"#f0f921\"]], \"type\": \"histogram2dcontour\"}], \"mesh3d\": [{\"colorbar\": {\"outlinewidth\": 0, \"ticks\": \"\"}, \"type\": \"mesh3d\"}], \"parcoords\": [{\"line\": {\"colorbar\": {\"outlinewidth\": 0, \"ticks\": \"\"}}, \"type\": \"parcoords\"}], \"pie\": [{\"automargin\": true, \"type\": \"pie\"}], \"scatter\": [{\"marker\": {\"colorbar\": {\"outlinewidth\": 0, \"ticks\": \"\"}}, \"type\": \"scatter\"}], \"scatter3d\": [{\"line\": {\"colorbar\": {\"outlinewidth\": 0, \"ticks\": \"\"}}, \"marker\": {\"colorbar\": {\"outlinewidth\": 0, \"ticks\": \"\"}}, \"type\": \"scatter3d\"}], \"scattercarpet\": [{\"marker\": {\"colorbar\": {\"outlinewidth\": 0, \"ticks\": \"\"}}, \"type\": \"scattercarpet\"}], \"scattergeo\": [{\"marker\": {\"colorbar\": {\"outlinewidth\": 0, \"ticks\": \"\"}}, \"type\": \"scattergeo\"}], \"scattergl\": [{\"marker\": {\"colorbar\": {\"outlinewidth\": 0, \"ticks\": \"\"}}, \"type\": \"scattergl\"}], \"scattermapbox\": [{\"marker\": {\"colorbar\": {\"outlinewidth\": 0, \"ticks\": \"\"}}, \"type\": \"scattermapbox\"}], \"scatterpolar\": [{\"marker\": {\"colorbar\": {\"outlinewidth\": 0, \"ticks\": \"\"}}, \"type\": \"scatterpolar\"}], \"scatterpolargl\": [{\"marker\": {\"colorbar\": {\"outlinewidth\": 0, \"ticks\": \"\"}}, \"type\": \"scatterpolargl\"}], \"scatterternary\": [{\"marker\": {\"colorbar\": {\"outlinewidth\": 0, \"ticks\": \"\"}}, \"type\": \"scatterternary\"}], \"surface\": [{\"colorbar\": {\"outlinewidth\": 0, \"ticks\": \"\"}, \"colorscale\": [[0.0, \"#0d0887\"], [0.1111111111111111, \"#46039f\"], [0.2222222222222222, \"#7201a8\"], [0.3333333333333333, \"#9c179e\"], [0.4444444444444444, \"#bd3786\"], [0.5555555555555556, \"#d8576b\"], [0.6666666666666666, \"#ed7953\"], [0.7777777777777778, \"#fb9f3a\"], [0.8888888888888888, \"#fdca26\"], [1.0, \"#f0f921\"]], \"type\": \"surface\"}], \"table\": [{\"cells\": {\"fill\": {\"color\": \"#EBF0F8\"}, \"line\": {\"color\": \"white\"}}, \"header\": {\"fill\": {\"color\": \"#C8D4E3\"}, \"line\": {\"color\": \"white\"}}, \"type\": \"table\"}]}, \"layout\": {\"annotationdefaults\": {\"arrowcolor\": \"#2a3f5f\", \"arrowhead\": 0, \"arrowwidth\": 1}, \"coloraxis\": {\"colorbar\": {\"outlinewidth\": 0, \"ticks\": \"\"}}, \"colorscale\": {\"diverging\": [[0, \"#8e0152\"], [0.1, \"#c51b7d\"], [0.2, \"#de77ae\"], [0.3, \"#f1b6da\"], [0.4, \"#fde0ef\"], [0.5, \"#f7f7f7\"], [0.6, \"#e6f5d0\"], [0.7, \"#b8e186\"], [0.8, \"#7fbc41\"], [0.9, \"#4d9221\"], [1, \"#276419\"]], \"sequential\": [[0.0, \"#0d0887\"], [0.1111111111111111, \"#46039f\"], [0.2222222222222222, \"#7201a8\"], [0.3333333333333333, \"#9c179e\"], [0.4444444444444444, \"#bd3786\"], [0.5555555555555556, \"#d8576b\"], [0.6666666666666666, \"#ed7953\"], [0.7777777777777778, \"#fb9f3a\"], [0.8888888888888888, \"#fdca26\"], [1.0, \"#f0f921\"]], \"sequentialminus\": [[0.0, \"#0d0887\"], [0.1111111111111111, \"#46039f\"], [0.2222222222222222, \"#7201a8\"], [0.3333333333333333, \"#9c179e\"], [0.4444444444444444, \"#bd3786\"], [0.5555555555555556, \"#d8576b\"], [0.6666666666666666, \"#ed7953\"], [0.7777777777777778, \"#fb9f3a\"], [0.8888888888888888, \"#fdca26\"], [1.0, \"#f0f921\"]]}, \"colorway\": [\"#636efa\", \"#EF553B\", \"#00cc96\", \"#ab63fa\", \"#FFA15A\", \"#19d3f3\", \"#FF6692\", \"#B6E880\", \"#FF97FF\", \"#FECB52\"], \"font\": {\"color\": \"#2a3f5f\"}, \"geo\": {\"bgcolor\": \"white\", \"lakecolor\": \"white\", \"landcolor\": \"#E5ECF6\", \"showlakes\": true, \"showland\": true, \"subunitcolor\": \"white\"}, \"hoverlabel\": {\"align\": \"left\"}, \"hovermode\": \"closest\", \"mapbox\": {\"style\": \"light\"}, \"paper_bgcolor\": \"white\", \"plot_bgcolor\": \"#E5ECF6\", \"polar\": {\"angularaxis\": {\"gridcolor\": \"white\", \"linecolor\": \"white\", \"ticks\": \"\"}, \"bgcolor\": \"#E5ECF6\", \"radialaxis\": {\"gridcolor\": \"white\", \"linecolor\": \"white\", \"ticks\": \"\"}}, \"scene\": {\"xaxis\": {\"backgroundcolor\": \"#E5ECF6\", \"gridcolor\": \"white\", \"gridwidth\": 2, \"linecolor\": \"white\", \"showbackground\": true, \"ticks\": \"\", \"zerolinecolor\": \"white\"}, \"yaxis\": {\"backgroundcolor\": \"#E5ECF6\", \"gridcolor\": \"white\", \"gridwidth\": 2, \"linecolor\": \"white\", \"showbackground\": true, \"ticks\": \"\", \"zerolinecolor\": \"white\"}, \"zaxis\": {\"backgroundcolor\": \"#E5ECF6\", \"gridcolor\": \"white\", \"gridwidth\": 2, \"linecolor\": \"white\", \"showbackground\": true, \"ticks\": \"\", \"zerolinecolor\": \"white\"}}, \"shapedefaults\": {\"line\": {\"color\": \"#2a3f5f\"}}, \"ternary\": {\"aaxis\": {\"gridcolor\": \"white\", \"linecolor\": \"white\", \"ticks\": \"\"}, \"baxis\": {\"gridcolor\": \"white\", \"linecolor\": \"white\", \"ticks\": \"\"}, \"bgcolor\": \"#E5ECF6\", \"caxis\": {\"gridcolor\": \"white\", \"linecolor\": \"white\", \"ticks\": \"\"}}, \"title\": {\"x\": 0.05}, \"xaxis\": {\"automargin\": true, \"gridcolor\": \"white\", \"linecolor\": \"white\", \"ticks\": \"\", \"title\": {\"standoff\": 15}, \"zerolinecolor\": \"white\", \"zerolinewidth\": 2}, \"yaxis\": {\"automargin\": true, \"gridcolor\": \"white\", \"linecolor\": \"white\", \"ticks\": \"\", \"title\": {\"standoff\": 15}, \"zerolinecolor\": \"white\", \"zerolinewidth\": 2}}}},\n",
       "                        {\"responsive\": true}\n",
       "                    ).then(function(){\n",
       "                            \n",
       "var gd = document.getElementById('1024502d-0246-48c3-b0d2-07a96e2dfec5');\n",
       "var x = new MutationObserver(function (mutations, observer) {{\n",
       "        var display = window.getComputedStyle(gd).display;\n",
       "        if (!display || display === 'none') {{\n",
       "            console.log([gd, 'removed!']);\n",
       "            Plotly.purge(gd);\n",
       "            observer.disconnect();\n",
       "        }}\n",
       "}});\n",
       "\n",
       "// Listen for the removal of the full notebook cells\n",
       "var notebookContainer = gd.closest('#notebook-container');\n",
       "if (notebookContainer) {{\n",
       "    x.observe(notebookContainer, {childList: true});\n",
       "}}\n",
       "\n",
       "// Listen for the clearing of the current output cell\n",
       "var outputEl = gd.closest('.output');\n",
       "if (outputEl) {{\n",
       "    x.observe(outputEl, {childList: true});\n",
       "}}\n",
       "\n",
       "                        })\n",
       "                };\n",
       "                });\n",
       "            </script>\n",
       "        </div>"
      ]
     },
     "metadata": {},
     "output_type": "display_data"
    }
   ],
   "source": [
    "#Visualize DBSCAN cluster predictions\n",
    "import plotly.express as px\n",
    "fig = px.scatter_3d(df_dbscan, x=0, y=1, z=2,\n",
    "              color='y', size='y', size_max=18,\n",
    "              symbol='y', opacity=0.7)\n",
    "\n",
    "# tight layout\n",
    "fig.update_layout(margin=dict(l=0, r=0, b=0, t=0))"
   ]
  },
  {
   "cell_type": "markdown",
   "metadata": {},
   "source": [
    "## Conclusion ##\n",
    "The clustering algorithms have inferred 13 to 15 unique clusters respectively. Hence, there may be approximately 13 to 15 distinctive number of formulations present in the dataset. The mean value of 13 & 15 can be taken as the number of formulations present which is 14."
   ]
  },
  {
   "cell_type": "code",
   "execution_count": null,
   "metadata": {},
   "outputs": [],
   "source": []
  }
 ],
 "metadata": {
  "kernelspec": {
   "display_name": "Python 3",
   "language": "python",
   "name": "python3"
  },
  "language_info": {
   "codemirror_mode": {
    "name": "ipython",
    "version": 3
   },
   "file_extension": ".py",
   "mimetype": "text/x-python",
   "name": "python",
   "nbconvert_exporter": "python",
   "pygments_lexer": "ipython3",
   "version": "3.6.7"
  }
 },
 "nbformat": 4,
 "nbformat_minor": 2
}
